{
 "cells": [
  {
   "cell_type": "markdown",
   "metadata": {},
   "source": [
    "## **Imports and configurations**"
   ]
  },
  {
   "cell_type": "code",
   "execution_count": 1,
   "metadata": {},
   "outputs": [],
   "source": [
    "%reload_ext autoreload\n",
    "%autoreload 2"
   ]
  },
  {
   "cell_type": "code",
   "execution_count": 2,
   "metadata": {},
   "outputs": [
    {
     "data": {
      "text/html": [
       "        <script type=\"text/javascript\">\n",
       "        window.PlotlyConfig = {MathJaxConfig: 'local'};\n",
       "        if (window.MathJax) {MathJax.Hub.Config({SVG: {font: \"STIX-Web\"}});}\n",
       "        if (typeof require !== 'undefined') {\n",
       "        require.undef(\"plotly\");\n",
       "        requirejs.config({\n",
       "            paths: {\n",
       "                'plotly': ['https://cdn.plot.ly/plotly-latest.min']\n",
       "            }\n",
       "        });\n",
       "        require(['plotly'], function(Plotly) {\n",
       "            window._Plotly = Plotly;\n",
       "        });\n",
       "        }\n",
       "        </script>\n",
       "        "
      ]
     },
     "metadata": {},
     "output_type": "display_data"
    }
   ],
   "source": [
    "import os\n",
    "import time\n",
    "\n",
    "import pandas as pd\n",
    "import numpy as np\n",
    "import matplotlib\n",
    "import matplotlib.pyplot as plt\n",
    "import plotly.graph_objs as go\n",
    "\n",
    "from IPython.display import IFrame\n",
    "from plotly.offline import init_notebook_mode\n",
    "init_notebook_mode(connected=True)\n",
    "\n",
    "from plot_utils import *"
   ]
  },
  {
   "cell_type": "code",
   "execution_count": 21,
   "metadata": {},
   "outputs": [],
   "source": [
    "from sklearn.linear_model import LogisticRegression, SGDClassifier\n",
    "from sklearn.neighbors import KNeighborsClassifier\n",
    "from sklearn.tree import DecisionTreeClassifier\n",
    "from sklearn.svm import SVC\n",
    "from sklearn.naive_bayes import GaussianNB\n",
    "from sklearn.discriminant_analysis import LinearDiscriminantAnalysis as LDA\n",
    "from sklearn.ensemble import RandomForestClassifier\n",
    "\n",
    "from sklearn.preprocessing import MinMaxScaler, StandardScaler, RobustScaler\n",
    "\n",
    "from sklearn.utils import shuffle\n",
    "from sklearn.model_selection import RepeatedStratifiedKFold, cross_val_score\n",
    "from sklearn.pipeline import Pipeline"
   ]
  },
  {
   "cell_type": "code",
   "execution_count": 4,
   "metadata": {},
   "outputs": [],
   "source": [
    "from tensorflow.keras.models import Sequential\n",
    "from tensorflow.keras.layers import Dense\n",
    "from keras.wrappers.scikit_learn import KerasClassifier"
   ]
  },
  {
   "cell_type": "code",
   "execution_count": 5,
   "metadata": {},
   "outputs": [],
   "source": [
    "folder_path = 'C:/Users/yaass/OneDrive/Bureau/Parser'"
   ]
  },
  {
   "cell_type": "markdown",
   "metadata": {},
   "source": [
    "## **Models evaluation**"
   ]
  },
  {
   "cell_type": "code",
   "execution_count": 102,
   "metadata": {},
   "outputs": [],
   "source": [
    "def preview_data(folder_path, file_name, index_value = 'md5'):\n",
    "    df = pd.read_csv(os.path.join(folder_path, file_name), index_col=index_value)\n",
    "    print(f'Nb Observations: {df.shape[0]}')\n",
    "    print(f'Nb Columns: {df.shape[1]}')\n",
    "    return df.head(3)\n",
    "\n",
    "\n",
    "def get_null_columns(df):\n",
    "    null_per_column = (df==0).sum()\n",
    "    null_columns = null_per_column[null_per_column==len(df)].index.tolist()\n",
    "    return null_columns\n",
    "\n",
    "def create_X_y(folder_path, file_name, drop_null_columns, index_value = 'md5'):\n",
    "    file_path = os.path.join(folder_path, file_name)\n",
    "    df = pd.read_csv(file_path, index_col = index_value)\n",
    "    X = df.drop('label', axis=1)\n",
    "    if drop_null_columns == True:\n",
    "        X = X.drop(get_null_columns(X), axis=1)\n",
    "    y = df['label']\n",
    "    return shuffle(X, y)\n",
    "\n",
    "\n",
    "def create_regular_net():\n",
    "    model = Sequential()\n",
    "    model.add(Dense(units=10, kernel_initializer = 'uniform', activation = 'relu', name='dense_layer1'))\n",
    "    model.add(Dense(units=10, kernel_initializer = 'uniform', activation = 'relu', name='dense_layer2'))\n",
    "    model.add(Dense(1, activation = 'sigmoid', name = 'dense_output'))   #sigmoid for binary \n",
    "    model.compile(loss='binary_crossentropy', optimizer= 'adam', metrics = ['accuracy'])\n",
    "    return model\n",
    "\n",
    "\n",
    "def wrap_regular_net():\n",
    "    model = KerasClassifier(build_fn=create_regular_net, epochs=50, batch_size=64, verbose=0)\n",
    "    return model\n",
    "\n",
    "\n",
    "def create_models():\n",
    "    models = dict()\n",
    "    models['LogisticRegression'] = LogisticRegression()\n",
    "    models['KNN'] = KNeighborsClassifier()\n",
    "    models['Decision tree'] = DecisionTreeClassifier()\n",
    "    models['Random Forest'] = RandomForestClassifier()\n",
    "    #models['Stochastic Gradient Descent'] = SGDClassifier()\n",
    "    models['SVM'] = SVC()\n",
    "    models['RegularNets'] = wrap_regular_net()\n",
    "    #models['LDA'] = LDA()\n",
    "    models['Gaussian Naive Bayes'] = GaussianNB()\n",
    "    return models\n",
    "\n",
    "\n",
    "def evaluate_model(model, X, y):\n",
    "    cv = RepeatedStratifiedKFold(n_splits=10, n_repeats=3, random_state=1)\n",
    "    scores = cross_val_score(model, X, y, scoring='accuracy', cv=cv, n_jobs=-1, error_score='raise')\n",
    "    return scores\n",
    "\n",
    "\n",
    "def get_evaluation_results(folder_path, file_name, drop_null_columns=False, scaler=None):  \n",
    "    \n",
    "    #generate features and target\n",
    "    X, y = create_X_y(folder_path, file_name, drop_null_columns)\n",
    "    \n",
    "    #generate models\n",
    "    models = create_models()\n",
    "    \n",
    "    #evaluate models and store results\n",
    "    results, names = list(), list()\n",
    "    for name, model in models.items():\n",
    "        if scaler is not None:\n",
    "            pipeline = Pipeline([('transformer', scaler), ('estimator', model)])\n",
    "        else:\n",
    "            pipeline = model\n",
    "        scores = evaluate_model(pipeline, X, y)\n",
    "        results.append(scores)\n",
    "        names.append(name) \n",
    "        \n",
    "    return names, results\n",
    "\n",
    "\n",
    "def print_evaluation_results(results, names):  \n",
    "    for name, scores in zip(names, results):\n",
    "        print(f\"{name:30} \\t: {np.mean(scores)*100:.3f}% ( (+/-) {np.std(scores)*100:.3f}% )\")  "
   ]
  },
  {
   "cell_type": "markdown",
   "metadata": {},
   "source": [
    "### 1. apistats (one-hot encoded)"
   ]
  },
  {
   "cell_type": "code",
   "execution_count": 7,
   "metadata": {},
   "outputs": [
    {
     "name": "stdout",
     "output_type": "stream",
     "text": [
      "Nb Observations: 3761\n",
      "Nb Columns: 304\n"
     ]
    },
    {
     "data": {
      "text/html": [
       "<div>\n",
       "<style scoped>\n",
       "    .dataframe tbody tr th:only-of-type {\n",
       "        vertical-align: middle;\n",
       "    }\n",
       "\n",
       "    .dataframe tbody tr th {\n",
       "        vertical-align: top;\n",
       "    }\n",
       "\n",
       "    .dataframe thead th {\n",
       "        text-align: right;\n",
       "    }\n",
       "</style>\n",
       "<table border=\"1\" class=\"dataframe\">\n",
       "  <thead>\n",
       "    <tr style=\"text-align: right;\">\n",
       "      <th></th>\n",
       "      <th>LdrUnloadDll</th>\n",
       "      <th>RegCloseKey</th>\n",
       "      <th>GetSystemTimeAsFileTime</th>\n",
       "      <th>LoadStringW</th>\n",
       "      <th>GetSystemInfo</th>\n",
       "      <th>RegQueryValueExA</th>\n",
       "      <th>LdrGetProcedureAddress</th>\n",
       "      <th>MessageBoxTimeoutW</th>\n",
       "      <th>RegSetValueExA</th>\n",
       "      <th>NtTerminateProcess</th>\n",
       "      <th>...</th>\n",
       "      <th>CIFrameElement_CreateElement</th>\n",
       "      <th>CDocument_write</th>\n",
       "      <th>WSAConnect</th>\n",
       "      <th>CopyFileExW</th>\n",
       "      <th>NtDeleteFile</th>\n",
       "      <th>ExitWindowsEx</th>\n",
       "      <th>CreateServiceW</th>\n",
       "      <th>WNetGetProviderNameW</th>\n",
       "      <th>RtlCreateUserProcess</th>\n",
       "      <th>NtLoadKeyEx</th>\n",
       "    </tr>\n",
       "    <tr>\n",
       "      <th>md5</th>\n",
       "      <th></th>\n",
       "      <th></th>\n",
       "      <th></th>\n",
       "      <th></th>\n",
       "      <th></th>\n",
       "      <th></th>\n",
       "      <th></th>\n",
       "      <th></th>\n",
       "      <th></th>\n",
       "      <th></th>\n",
       "      <th></th>\n",
       "      <th></th>\n",
       "      <th></th>\n",
       "      <th></th>\n",
       "      <th></th>\n",
       "      <th></th>\n",
       "      <th></th>\n",
       "      <th></th>\n",
       "      <th></th>\n",
       "      <th></th>\n",
       "      <th></th>\n",
       "    </tr>\n",
       "  </thead>\n",
       "  <tbody>\n",
       "    <tr>\n",
       "      <th>00263ca2071dc9a6ee577eb356b0d1d9</th>\n",
       "      <td>1</td>\n",
       "      <td>1</td>\n",
       "      <td>1</td>\n",
       "      <td>1</td>\n",
       "      <td>1</td>\n",
       "      <td>1</td>\n",
       "      <td>1</td>\n",
       "      <td>1</td>\n",
       "      <td>1</td>\n",
       "      <td>1</td>\n",
       "      <td>...</td>\n",
       "      <td>0</td>\n",
       "      <td>0</td>\n",
       "      <td>0</td>\n",
       "      <td>0</td>\n",
       "      <td>0</td>\n",
       "      <td>0</td>\n",
       "      <td>0</td>\n",
       "      <td>0</td>\n",
       "      <td>0</td>\n",
       "      <td>0</td>\n",
       "    </tr>\n",
       "    <tr>\n",
       "      <th>0137996cd3aa197ae8eb64fef12c044a</th>\n",
       "      <td>0</td>\n",
       "      <td>0</td>\n",
       "      <td>1</td>\n",
       "      <td>1</td>\n",
       "      <td>1</td>\n",
       "      <td>0</td>\n",
       "      <td>1</td>\n",
       "      <td>1</td>\n",
       "      <td>0</td>\n",
       "      <td>0</td>\n",
       "      <td>...</td>\n",
       "      <td>0</td>\n",
       "      <td>0</td>\n",
       "      <td>0</td>\n",
       "      <td>0</td>\n",
       "      <td>0</td>\n",
       "      <td>0</td>\n",
       "      <td>0</td>\n",
       "      <td>0</td>\n",
       "      <td>0</td>\n",
       "      <td>0</td>\n",
       "    </tr>\n",
       "    <tr>\n",
       "      <th>0282f83bbfb58c08b54dbd8015e54d2e</th>\n",
       "      <td>0</td>\n",
       "      <td>1</td>\n",
       "      <td>1</td>\n",
       "      <td>0</td>\n",
       "      <td>0</td>\n",
       "      <td>0</td>\n",
       "      <td>1</td>\n",
       "      <td>0</td>\n",
       "      <td>0</td>\n",
       "      <td>0</td>\n",
       "      <td>...</td>\n",
       "      <td>0</td>\n",
       "      <td>0</td>\n",
       "      <td>0</td>\n",
       "      <td>0</td>\n",
       "      <td>0</td>\n",
       "      <td>0</td>\n",
       "      <td>0</td>\n",
       "      <td>0</td>\n",
       "      <td>0</td>\n",
       "      <td>0</td>\n",
       "    </tr>\n",
       "  </tbody>\n",
       "</table>\n",
       "<p>3 rows × 304 columns</p>\n",
       "</div>"
      ],
      "text/plain": [
       "                                  LdrUnloadDll  RegCloseKey  \\\n",
       "md5                                                           \n",
       "00263ca2071dc9a6ee577eb356b0d1d9             1            1   \n",
       "0137996cd3aa197ae8eb64fef12c044a             0            0   \n",
       "0282f83bbfb58c08b54dbd8015e54d2e             0            1   \n",
       "\n",
       "                                  GetSystemTimeAsFileTime  LoadStringW  \\\n",
       "md5                                                                      \n",
       "00263ca2071dc9a6ee577eb356b0d1d9                        1            1   \n",
       "0137996cd3aa197ae8eb64fef12c044a                        1            1   \n",
       "0282f83bbfb58c08b54dbd8015e54d2e                        1            0   \n",
       "\n",
       "                                  GetSystemInfo  RegQueryValueExA  \\\n",
       "md5                                                                 \n",
       "00263ca2071dc9a6ee577eb356b0d1d9              1                 1   \n",
       "0137996cd3aa197ae8eb64fef12c044a              1                 0   \n",
       "0282f83bbfb58c08b54dbd8015e54d2e              0                 0   \n",
       "\n",
       "                                  LdrGetProcedureAddress  MessageBoxTimeoutW  \\\n",
       "md5                                                                            \n",
       "00263ca2071dc9a6ee577eb356b0d1d9                       1                   1   \n",
       "0137996cd3aa197ae8eb64fef12c044a                       1                   1   \n",
       "0282f83bbfb58c08b54dbd8015e54d2e                       1                   0   \n",
       "\n",
       "                                  RegSetValueExA  NtTerminateProcess  ...  \\\n",
       "md5                                                                   ...   \n",
       "00263ca2071dc9a6ee577eb356b0d1d9               1                   1  ...   \n",
       "0137996cd3aa197ae8eb64fef12c044a               0                   0  ...   \n",
       "0282f83bbfb58c08b54dbd8015e54d2e               0                   0  ...   \n",
       "\n",
       "                                  CIFrameElement_CreateElement  \\\n",
       "md5                                                              \n",
       "00263ca2071dc9a6ee577eb356b0d1d9                             0   \n",
       "0137996cd3aa197ae8eb64fef12c044a                             0   \n",
       "0282f83bbfb58c08b54dbd8015e54d2e                             0   \n",
       "\n",
       "                                  CDocument_write  WSAConnect  CopyFileExW  \\\n",
       "md5                                                                          \n",
       "00263ca2071dc9a6ee577eb356b0d1d9                0           0            0   \n",
       "0137996cd3aa197ae8eb64fef12c044a                0           0            0   \n",
       "0282f83bbfb58c08b54dbd8015e54d2e                0           0            0   \n",
       "\n",
       "                                  NtDeleteFile  ExitWindowsEx  CreateServiceW  \\\n",
       "md5                                                                             \n",
       "00263ca2071dc9a6ee577eb356b0d1d9             0              0               0   \n",
       "0137996cd3aa197ae8eb64fef12c044a             0              0               0   \n",
       "0282f83bbfb58c08b54dbd8015e54d2e             0              0               0   \n",
       "\n",
       "                                  WNetGetProviderNameW  RtlCreateUserProcess  \\\n",
       "md5                                                                            \n",
       "00263ca2071dc9a6ee577eb356b0d1d9                     0                     0   \n",
       "0137996cd3aa197ae8eb64fef12c044a                     0                     0   \n",
       "0282f83bbfb58c08b54dbd8015e54d2e                     0                     0   \n",
       "\n",
       "                                  NtLoadKeyEx  \n",
       "md5                                            \n",
       "00263ca2071dc9a6ee577eb356b0d1d9            0  \n",
       "0137996cd3aa197ae8eb64fef12c044a            0  \n",
       "0282f83bbfb58c08b54dbd8015e54d2e            0  \n",
       "\n",
       "[3 rows x 304 columns]"
      ]
     },
     "execution_count": 7,
     "metadata": {},
     "output_type": "execute_result"
    }
   ],
   "source": [
    "file_name = 'onehot_encoded_apistats_dataset.csv'\n",
    "\n",
    "preview_data(folder_path, file_name)"
   ]
  },
  {
   "cell_type": "code",
   "execution_count": 8,
   "metadata": {},
   "outputs": [
    {
     "name": "stdout",
     "output_type": "stream",
     "text": [
      "Cross-validation 8 models required a duration of 64.03 seconds\n"
     ]
    }
   ],
   "source": [
    "start = time.time()\n",
    "\n",
    "names, results = get_evaluation_results(folder_path, file_name)\n",
    "\n",
    "print(f'Cross-validation {len(names)} models required a duration of {time.time()-start:.2f} seconds')"
   ]
  },
  {
   "cell_type": "code",
   "execution_count": 9,
   "metadata": {},
   "outputs": [
    {
     "name": "stdout",
     "output_type": "stream",
     "text": [
      "LogisticRegression             \t: 90.862% ( (+/-) 1.074% )\n",
      "KNN                            \t: 92.130% ( (+/-) 1.028% )\n",
      "Decision tree                  \t: 90.880% ( (+/-) 1.628% )\n",
      "Random Forest                  \t: 94.665% ( (+/-) 0.937% )\n",
      "SVM                            \t: 93.140% ( (+/-) 1.072% )\n",
      "RegularNets                    \t: 92.422% ( (+/-) 0.854% )\n",
      "LDA                            \t: 89.524% ( (+/-) 1.298% )\n",
      "Gaussian Naive Bayes           \t: 69.556% ( (+/-) 1.994% )\n"
     ]
    }
   ],
   "source": [
    "print_evaluation_results(results, names)"
   ]
  },
  {
   "cell_type": "code",
   "execution_count": 13,
   "metadata": {},
   "outputs": [
    {
     "data": {
      "text/html": [
       "\n",
       "        <iframe\n",
       "            width=\"900\"\n",
       "            height=\"600\"\n",
       "            src=\"figures/evaluation_onehot_apistats_data.html\"\n",
       "            frameborder=\"0\"\n",
       "            allowfullscreen\n",
       "        ></iframe>\n",
       "        "
      ],
      "text/plain": [
       "<IPython.lib.display.IFrame at 0x26fd839ac10>"
      ]
     },
     "execution_count": 13,
     "metadata": {},
     "output_type": "execute_result"
    }
   ],
   "source": [
    "fig = plot_evaluation_boxplots(results, names, title = 'Models Performance On One-Hot Encoded \"apistats\" Data', y_axis = 'Accuracy')\n",
    "\n",
    "figure_path = 'figures/evaluation_onehot_apistats_data.html'\n",
    "\n",
    "save_figures_to_html(figure_path, [fig])\n",
    "\n",
    "IFrame(figure_path, width=900, height=600)"
   ]
  },
  {
   "cell_type": "markdown",
   "metadata": {},
   "source": [
    "### 1. apistats (count encoded)"
   ]
  },
  {
   "cell_type": "code",
   "execution_count": 17,
   "metadata": {},
   "outputs": [
    {
     "name": "stdout",
     "output_type": "stream",
     "text": [
      "Nb Observations: 3822\n",
      "Nb Columns: 305\n"
     ]
    },
    {
     "data": {
      "text/html": [
       "<div>\n",
       "<style scoped>\n",
       "    .dataframe tbody tr th:only-of-type {\n",
       "        vertical-align: middle;\n",
       "    }\n",
       "\n",
       "    .dataframe tbody tr th {\n",
       "        vertical-align: top;\n",
       "    }\n",
       "\n",
       "    .dataframe thead th {\n",
       "        text-align: right;\n",
       "    }\n",
       "</style>\n",
       "<table border=\"1\" class=\"dataframe\">\n",
       "  <thead>\n",
       "    <tr style=\"text-align: right;\">\n",
       "      <th></th>\n",
       "      <th>LdrUnloadDll</th>\n",
       "      <th>RegCloseKey</th>\n",
       "      <th>GetSystemTimeAsFileTime</th>\n",
       "      <th>LoadStringW</th>\n",
       "      <th>GetSystemInfo</th>\n",
       "      <th>RegQueryValueExA</th>\n",
       "      <th>LdrGetProcedureAddress</th>\n",
       "      <th>MessageBoxTimeoutW</th>\n",
       "      <th>RegSetValueExA</th>\n",
       "      <th>NtTerminateProcess</th>\n",
       "      <th>...</th>\n",
       "      <th>CDocument_write</th>\n",
       "      <th>WSAConnect</th>\n",
       "      <th>ExitWindowsEx</th>\n",
       "      <th>CopyFileExW</th>\n",
       "      <th>NtDeleteFile</th>\n",
       "      <th>CreateServiceW</th>\n",
       "      <th>WNetGetProviderNameW</th>\n",
       "      <th>RtlCreateUserProcess</th>\n",
       "      <th>NtLoadKeyEx</th>\n",
       "      <th>NtLoadDriver</th>\n",
       "    </tr>\n",
       "    <tr>\n",
       "      <th>md5</th>\n",
       "      <th></th>\n",
       "      <th></th>\n",
       "      <th></th>\n",
       "      <th></th>\n",
       "      <th></th>\n",
       "      <th></th>\n",
       "      <th></th>\n",
       "      <th></th>\n",
       "      <th></th>\n",
       "      <th></th>\n",
       "      <th></th>\n",
       "      <th></th>\n",
       "      <th></th>\n",
       "      <th></th>\n",
       "      <th></th>\n",
       "      <th></th>\n",
       "      <th></th>\n",
       "      <th></th>\n",
       "      <th></th>\n",
       "      <th></th>\n",
       "      <th></th>\n",
       "    </tr>\n",
       "  </thead>\n",
       "  <tbody>\n",
       "    <tr>\n",
       "      <th>00263ca2071dc9a6ee577eb356b0d1d9</th>\n",
       "      <td>4</td>\n",
       "      <td>3</td>\n",
       "      <td>1</td>\n",
       "      <td>2</td>\n",
       "      <td>1</td>\n",
       "      <td>13</td>\n",
       "      <td>6</td>\n",
       "      <td>1</td>\n",
       "      <td>6</td>\n",
       "      <td>3</td>\n",
       "      <td>...</td>\n",
       "      <td>0</td>\n",
       "      <td>0</td>\n",
       "      <td>0</td>\n",
       "      <td>0</td>\n",
       "      <td>0</td>\n",
       "      <td>0</td>\n",
       "      <td>0</td>\n",
       "      <td>0</td>\n",
       "      <td>0</td>\n",
       "      <td>0</td>\n",
       "    </tr>\n",
       "    <tr>\n",
       "      <th>0137996cd3aa197ae8eb64fef12c044a</th>\n",
       "      <td>0</td>\n",
       "      <td>0</td>\n",
       "      <td>6</td>\n",
       "      <td>2</td>\n",
       "      <td>1</td>\n",
       "      <td>0</td>\n",
       "      <td>55</td>\n",
       "      <td>1</td>\n",
       "      <td>0</td>\n",
       "      <td>0</td>\n",
       "      <td>...</td>\n",
       "      <td>0</td>\n",
       "      <td>0</td>\n",
       "      <td>0</td>\n",
       "      <td>0</td>\n",
       "      <td>0</td>\n",
       "      <td>0</td>\n",
       "      <td>0</td>\n",
       "      <td>0</td>\n",
       "      <td>0</td>\n",
       "      <td>0</td>\n",
       "    </tr>\n",
       "    <tr>\n",
       "      <th>0282f83bbfb58c08b54dbd8015e54d2e</th>\n",
       "      <td>0</td>\n",
       "      <td>9</td>\n",
       "      <td>1</td>\n",
       "      <td>0</td>\n",
       "      <td>0</td>\n",
       "      <td>0</td>\n",
       "      <td>21</td>\n",
       "      <td>0</td>\n",
       "      <td>0</td>\n",
       "      <td>0</td>\n",
       "      <td>...</td>\n",
       "      <td>0</td>\n",
       "      <td>0</td>\n",
       "      <td>0</td>\n",
       "      <td>0</td>\n",
       "      <td>0</td>\n",
       "      <td>0</td>\n",
       "      <td>0</td>\n",
       "      <td>0</td>\n",
       "      <td>0</td>\n",
       "      <td>0</td>\n",
       "    </tr>\n",
       "  </tbody>\n",
       "</table>\n",
       "<p>3 rows × 305 columns</p>\n",
       "</div>"
      ],
      "text/plain": [
       "                                  LdrUnloadDll  RegCloseKey  \\\n",
       "md5                                                           \n",
       "00263ca2071dc9a6ee577eb356b0d1d9             4            3   \n",
       "0137996cd3aa197ae8eb64fef12c044a             0            0   \n",
       "0282f83bbfb58c08b54dbd8015e54d2e             0            9   \n",
       "\n",
       "                                  GetSystemTimeAsFileTime  LoadStringW  \\\n",
       "md5                                                                      \n",
       "00263ca2071dc9a6ee577eb356b0d1d9                        1            2   \n",
       "0137996cd3aa197ae8eb64fef12c044a                        6            2   \n",
       "0282f83bbfb58c08b54dbd8015e54d2e                        1            0   \n",
       "\n",
       "                                  GetSystemInfo  RegQueryValueExA  \\\n",
       "md5                                                                 \n",
       "00263ca2071dc9a6ee577eb356b0d1d9              1                13   \n",
       "0137996cd3aa197ae8eb64fef12c044a              1                 0   \n",
       "0282f83bbfb58c08b54dbd8015e54d2e              0                 0   \n",
       "\n",
       "                                  LdrGetProcedureAddress  MessageBoxTimeoutW  \\\n",
       "md5                                                                            \n",
       "00263ca2071dc9a6ee577eb356b0d1d9                       6                   1   \n",
       "0137996cd3aa197ae8eb64fef12c044a                      55                   1   \n",
       "0282f83bbfb58c08b54dbd8015e54d2e                      21                   0   \n",
       "\n",
       "                                  RegSetValueExA  NtTerminateProcess  ...  \\\n",
       "md5                                                                   ...   \n",
       "00263ca2071dc9a6ee577eb356b0d1d9               6                   3  ...   \n",
       "0137996cd3aa197ae8eb64fef12c044a               0                   0  ...   \n",
       "0282f83bbfb58c08b54dbd8015e54d2e               0                   0  ...   \n",
       "\n",
       "                                  CDocument_write  WSAConnect  ExitWindowsEx  \\\n",
       "md5                                                                            \n",
       "00263ca2071dc9a6ee577eb356b0d1d9                0           0              0   \n",
       "0137996cd3aa197ae8eb64fef12c044a                0           0              0   \n",
       "0282f83bbfb58c08b54dbd8015e54d2e                0           0              0   \n",
       "\n",
       "                                  CopyFileExW  NtDeleteFile  CreateServiceW  \\\n",
       "md5                                                                           \n",
       "00263ca2071dc9a6ee577eb356b0d1d9            0             0               0   \n",
       "0137996cd3aa197ae8eb64fef12c044a            0             0               0   \n",
       "0282f83bbfb58c08b54dbd8015e54d2e            0             0               0   \n",
       "\n",
       "                                  WNetGetProviderNameW  RtlCreateUserProcess  \\\n",
       "md5                                                                            \n",
       "00263ca2071dc9a6ee577eb356b0d1d9                     0                     0   \n",
       "0137996cd3aa197ae8eb64fef12c044a                     0                     0   \n",
       "0282f83bbfb58c08b54dbd8015e54d2e                     0                     0   \n",
       "\n",
       "                                  NtLoadKeyEx  NtLoadDriver  \n",
       "md5                                                          \n",
       "00263ca2071dc9a6ee577eb356b0d1d9            0             0  \n",
       "0137996cd3aa197ae8eb64fef12c044a            0             0  \n",
       "0282f83bbfb58c08b54dbd8015e54d2e            0             0  \n",
       "\n",
       "[3 rows x 305 columns]"
      ]
     },
     "execution_count": 17,
     "metadata": {},
     "output_type": "execute_result"
    }
   ],
   "source": [
    "file_name = 'count_encoded_apistats_dataset.csv'\n",
    "\n",
    "preview_data(folder_path, file_name)"
   ]
  },
  {
   "cell_type": "code",
   "execution_count": 30,
   "metadata": {},
   "outputs": [
    {
     "name": "stdout",
     "output_type": "stream",
     "text": [
      "Cross-validation on 8 models required a duration of 80.87 seconds\n"
     ]
    }
   ],
   "source": [
    "start = time.time()\n",
    "\n",
    "names, results = get_evaluation_results(folder_path, file_name, scaler=StandardScaler())\n",
    "\n",
    "print(f'Cross-validation on {len(names)} models required a duration of {time.time()-start:.2f} seconds')"
   ]
  },
  {
   "cell_type": "code",
   "execution_count": 31,
   "metadata": {},
   "outputs": [
    {
     "name": "stdout",
     "output_type": "stream",
     "text": [
      "LogisticRegression             \t: 87.031% ( (+/-) 1.824% )\n",
      "KNN                            \t: 88.497% ( (+/-) 1.433% )\n",
      "Decision tree                  \t: 91.035% ( (+/-) 1.535% )\n",
      "Random Forest                  \t: 95.125% ( (+/-) 0.768% )\n",
      "SVM                            \t: 75.475% ( (+/-) 1.817% )\n",
      "RegularNets                    \t: 88.654% ( (+/-) 1.667% )\n",
      "LDA                            \t: 82.104% ( (+/-) 1.790% )\n",
      "Gaussian Naive Bayes           \t: 66.841% ( (+/-) 2.230% )\n"
     ]
    }
   ],
   "source": [
    "print_evaluation_results(results, names)"
   ]
  },
  {
   "cell_type": "code",
   "execution_count": 32,
   "metadata": {},
   "outputs": [
    {
     "data": {
      "text/html": [
       "\n",
       "        <iframe\n",
       "            width=\"900\"\n",
       "            height=\"600\"\n",
       "            src=\"figures/evaluation_count_apistats_data.html\"\n",
       "            frameborder=\"0\"\n",
       "            allowfullscreen\n",
       "        ></iframe>\n",
       "        "
      ],
      "text/plain": [
       "<IPython.lib.display.IFrame at 0x26fd894fc10>"
      ]
     },
     "execution_count": 32,
     "metadata": {},
     "output_type": "execute_result"
    }
   ],
   "source": [
    "fig = plot_evaluation_boxplots(results, names, title = 'Models Performance On Count Encoded \"apistats\" Data', y_axis = 'Accuracy')\n",
    "\n",
    "figure_path = 'figures/evaluation_count_apistats_data.html'\n",
    "\n",
    "save_figures_to_html(figure_path, [fig])\n",
    "\n",
    "IFrame(figure_path, width=900, height=600)"
   ]
  },
  {
   "cell_type": "markdown",
   "metadata": {},
   "source": [
    "### 3. dll_loaded (one-hot encoded)"
   ]
  },
  {
   "cell_type": "code",
   "execution_count": 33,
   "metadata": {},
   "outputs": [
    {
     "name": "stdout",
     "output_type": "stream",
     "text": [
      "Nb Observations: 3162\n",
      "Nb Columns: 2242\n"
     ]
    },
    {
     "data": {
      "text/html": [
       "<div>\n",
       "<style scoped>\n",
       "    .dataframe tbody tr th:only-of-type {\n",
       "        vertical-align: middle;\n",
       "    }\n",
       "\n",
       "    .dataframe tbody tr th {\n",
       "        vertical-align: top;\n",
       "    }\n",
       "\n",
       "    .dataframe thead th {\n",
       "        text-align: right;\n",
       "    }\n",
       "</style>\n",
       "<table border=\"1\" class=\"dataframe\">\n",
       "  <thead>\n",
       "    <tr style=\"text-align: right;\">\n",
       "      <th></th>\n",
       "      <th>RTUTILS.DLL</th>\n",
       "      <th>kernel32.dll</th>\n",
       "      <th>label</th>\n",
       "      <th>kernel32</th>\n",
       "      <th>C:\\Users\\cucko\\AppData\\Local\\Temp\\emedcfd.dll</th>\n",
       "      <th>RpcRtRemote.dll</th>\n",
       "      <th>CRYPTSP.dll</th>\n",
       "      <th>CLBCatQ.DLL</th>\n",
       "      <th>msimg32.dll</th>\n",
       "      <th>libssl32.dll</th>\n",
       "      <th>...</th>\n",
       "      <th>C:\\Users\\cucko\\AppData\\Local\\Temp\\VmX.dll</th>\n",
       "      <th>C:\\Users\\cucko\\AppData\\Local\\Temp\\VirusShare_1d4457e8e6917937845f55ebbce2fc49.dll</th>\n",
       "      <th>C:\\Users\\cucko\\AppData\\Local\\Temp\\VirusShare_1d50b69a05d60d4f9f703b789a2933de.dll</th>\n",
       "      <th>C:\\Users\\cucko\\AppData\\Local\\Temp\\VirusShare_268eef019bf65b2987e945afaf29643f.dll</th>\n",
       "      <th>C:\\Users\\cucko\\AppData\\Local\\Temp\\VirusShare_3c1b2fabb7d74bc5be0820eae4107f8a.exe</th>\n",
       "      <th>C:\\Users\\cucko\\AppData\\Local\\Temp\\VirusShare_43b844c35e1a933e9214588be81ce772.dll</th>\n",
       "      <th>C:\\Users\\cucko\\AppData\\Local\\Temp\\VirusShare_933b11bc4799f8d9f65466fb2e3ea659.exe</th>\n",
       "      <th>C:\\Users\\cucko\\AppData\\Local\\Temp\\VirusShare_9fc3ed6c9b8056fbf155f79569ca7cb1.exe</th>\n",
       "      <th>D3DIM700.DLL</th>\n",
       "      <th>C:\\Users\\cucko\\AppData\\Local\\Temp\\VirusShare_bcbdef1678049378be04719ed29078d2.dll</th>\n",
       "    </tr>\n",
       "    <tr>\n",
       "      <th>md5</th>\n",
       "      <th></th>\n",
       "      <th></th>\n",
       "      <th></th>\n",
       "      <th></th>\n",
       "      <th></th>\n",
       "      <th></th>\n",
       "      <th></th>\n",
       "      <th></th>\n",
       "      <th></th>\n",
       "      <th></th>\n",
       "      <th></th>\n",
       "      <th></th>\n",
       "      <th></th>\n",
       "      <th></th>\n",
       "      <th></th>\n",
       "      <th></th>\n",
       "      <th></th>\n",
       "      <th></th>\n",
       "      <th></th>\n",
       "      <th></th>\n",
       "      <th></th>\n",
       "    </tr>\n",
       "  </thead>\n",
       "  <tbody>\n",
       "    <tr>\n",
       "      <th>00263ca2071dc9a6ee577eb356b0d1d9</th>\n",
       "      <td>1</td>\n",
       "      <td>1</td>\n",
       "      <td>0</td>\n",
       "      <td>0</td>\n",
       "      <td>0</td>\n",
       "      <td>0</td>\n",
       "      <td>0</td>\n",
       "      <td>0</td>\n",
       "      <td>0</td>\n",
       "      <td>0</td>\n",
       "      <td>...</td>\n",
       "      <td>0</td>\n",
       "      <td>0</td>\n",
       "      <td>0</td>\n",
       "      <td>0</td>\n",
       "      <td>0</td>\n",
       "      <td>0</td>\n",
       "      <td>0</td>\n",
       "      <td>0</td>\n",
       "      <td>0</td>\n",
       "      <td>0</td>\n",
       "    </tr>\n",
       "    <tr>\n",
       "      <th>0137996cd3aa197ae8eb64fef12c044a</th>\n",
       "      <td>0</td>\n",
       "      <td>0</td>\n",
       "      <td>0</td>\n",
       "      <td>1</td>\n",
       "      <td>1</td>\n",
       "      <td>0</td>\n",
       "      <td>0</td>\n",
       "      <td>0</td>\n",
       "      <td>0</td>\n",
       "      <td>0</td>\n",
       "      <td>...</td>\n",
       "      <td>0</td>\n",
       "      <td>0</td>\n",
       "      <td>0</td>\n",
       "      <td>0</td>\n",
       "      <td>0</td>\n",
       "      <td>0</td>\n",
       "      <td>0</td>\n",
       "      <td>0</td>\n",
       "      <td>0</td>\n",
       "      <td>0</td>\n",
       "    </tr>\n",
       "    <tr>\n",
       "      <th>0282f83bbfb58c08b54dbd8015e54d2e</th>\n",
       "      <td>0</td>\n",
       "      <td>0</td>\n",
       "      <td>0</td>\n",
       "      <td>0</td>\n",
       "      <td>0</td>\n",
       "      <td>1</td>\n",
       "      <td>1</td>\n",
       "      <td>1</td>\n",
       "      <td>0</td>\n",
       "      <td>0</td>\n",
       "      <td>...</td>\n",
       "      <td>0</td>\n",
       "      <td>0</td>\n",
       "      <td>0</td>\n",
       "      <td>0</td>\n",
       "      <td>0</td>\n",
       "      <td>0</td>\n",
       "      <td>0</td>\n",
       "      <td>0</td>\n",
       "      <td>0</td>\n",
       "      <td>0</td>\n",
       "    </tr>\n",
       "  </tbody>\n",
       "</table>\n",
       "<p>3 rows × 2242 columns</p>\n",
       "</div>"
      ],
      "text/plain": [
       "                                  RTUTILS.DLL  kernel32.dll  label  kernel32  \\\n",
       "md5                                                                            \n",
       "00263ca2071dc9a6ee577eb356b0d1d9            1             1      0         0   \n",
       "0137996cd3aa197ae8eb64fef12c044a            0             0      0         1   \n",
       "0282f83bbfb58c08b54dbd8015e54d2e            0             0      0         0   \n",
       "\n",
       "                                  C:\\Users\\cucko\\AppData\\Local\\Temp\\emedcfd.dll  \\\n",
       "md5                                                                               \n",
       "00263ca2071dc9a6ee577eb356b0d1d9                                              0   \n",
       "0137996cd3aa197ae8eb64fef12c044a                                              1   \n",
       "0282f83bbfb58c08b54dbd8015e54d2e                                              0   \n",
       "\n",
       "                                  RpcRtRemote.dll  CRYPTSP.dll  CLBCatQ.DLL  \\\n",
       "md5                                                                           \n",
       "00263ca2071dc9a6ee577eb356b0d1d9                0            0            0   \n",
       "0137996cd3aa197ae8eb64fef12c044a                0            0            0   \n",
       "0282f83bbfb58c08b54dbd8015e54d2e                1            1            1   \n",
       "\n",
       "                                  msimg32.dll  libssl32.dll  ...  \\\n",
       "md5                                                          ...   \n",
       "00263ca2071dc9a6ee577eb356b0d1d9            0             0  ...   \n",
       "0137996cd3aa197ae8eb64fef12c044a            0             0  ...   \n",
       "0282f83bbfb58c08b54dbd8015e54d2e            0             0  ...   \n",
       "\n",
       "                                  C:\\Users\\cucko\\AppData\\Local\\Temp\\VmX.dll  \\\n",
       "md5                                                                           \n",
       "00263ca2071dc9a6ee577eb356b0d1d9                                          0   \n",
       "0137996cd3aa197ae8eb64fef12c044a                                          0   \n",
       "0282f83bbfb58c08b54dbd8015e54d2e                                          0   \n",
       "\n",
       "                                  C:\\Users\\cucko\\AppData\\Local\\Temp\\VirusShare_1d4457e8e6917937845f55ebbce2fc49.dll  \\\n",
       "md5                                                                                                                   \n",
       "00263ca2071dc9a6ee577eb356b0d1d9                                                  0                                   \n",
       "0137996cd3aa197ae8eb64fef12c044a                                                  0                                   \n",
       "0282f83bbfb58c08b54dbd8015e54d2e                                                  0                                   \n",
       "\n",
       "                                  C:\\Users\\cucko\\AppData\\Local\\Temp\\VirusShare_1d50b69a05d60d4f9f703b789a2933de.dll  \\\n",
       "md5                                                                                                                   \n",
       "00263ca2071dc9a6ee577eb356b0d1d9                                                  0                                   \n",
       "0137996cd3aa197ae8eb64fef12c044a                                                  0                                   \n",
       "0282f83bbfb58c08b54dbd8015e54d2e                                                  0                                   \n",
       "\n",
       "                                  C:\\Users\\cucko\\AppData\\Local\\Temp\\VirusShare_268eef019bf65b2987e945afaf29643f.dll  \\\n",
       "md5                                                                                                                   \n",
       "00263ca2071dc9a6ee577eb356b0d1d9                                                  0                                   \n",
       "0137996cd3aa197ae8eb64fef12c044a                                                  0                                   \n",
       "0282f83bbfb58c08b54dbd8015e54d2e                                                  0                                   \n",
       "\n",
       "                                  C:\\Users\\cucko\\AppData\\Local\\Temp\\VirusShare_3c1b2fabb7d74bc5be0820eae4107f8a.exe  \\\n",
       "md5                                                                                                                   \n",
       "00263ca2071dc9a6ee577eb356b0d1d9                                                  0                                   \n",
       "0137996cd3aa197ae8eb64fef12c044a                                                  0                                   \n",
       "0282f83bbfb58c08b54dbd8015e54d2e                                                  0                                   \n",
       "\n",
       "                                  C:\\Users\\cucko\\AppData\\Local\\Temp\\VirusShare_43b844c35e1a933e9214588be81ce772.dll  \\\n",
       "md5                                                                                                                   \n",
       "00263ca2071dc9a6ee577eb356b0d1d9                                                  0                                   \n",
       "0137996cd3aa197ae8eb64fef12c044a                                                  0                                   \n",
       "0282f83bbfb58c08b54dbd8015e54d2e                                                  0                                   \n",
       "\n",
       "                                  C:\\Users\\cucko\\AppData\\Local\\Temp\\VirusShare_933b11bc4799f8d9f65466fb2e3ea659.exe  \\\n",
       "md5                                                                                                                   \n",
       "00263ca2071dc9a6ee577eb356b0d1d9                                                  0                                   \n",
       "0137996cd3aa197ae8eb64fef12c044a                                                  0                                   \n",
       "0282f83bbfb58c08b54dbd8015e54d2e                                                  0                                   \n",
       "\n",
       "                                  C:\\Users\\cucko\\AppData\\Local\\Temp\\VirusShare_9fc3ed6c9b8056fbf155f79569ca7cb1.exe  \\\n",
       "md5                                                                                                                   \n",
       "00263ca2071dc9a6ee577eb356b0d1d9                                                  0                                   \n",
       "0137996cd3aa197ae8eb64fef12c044a                                                  0                                   \n",
       "0282f83bbfb58c08b54dbd8015e54d2e                                                  0                                   \n",
       "\n",
       "                                  D3DIM700.DLL  \\\n",
       "md5                                              \n",
       "00263ca2071dc9a6ee577eb356b0d1d9             0   \n",
       "0137996cd3aa197ae8eb64fef12c044a             0   \n",
       "0282f83bbfb58c08b54dbd8015e54d2e             0   \n",
       "\n",
       "                                  C:\\Users\\cucko\\AppData\\Local\\Temp\\VirusShare_bcbdef1678049378be04719ed29078d2.dll  \n",
       "md5                                                                                                                  \n",
       "00263ca2071dc9a6ee577eb356b0d1d9                                                  0                                  \n",
       "0137996cd3aa197ae8eb64fef12c044a                                                  0                                  \n",
       "0282f83bbfb58c08b54dbd8015e54d2e                                                  0                                  \n",
       "\n",
       "[3 rows x 2242 columns]"
      ]
     },
     "execution_count": 33,
     "metadata": {},
     "output_type": "execute_result"
    }
   ],
   "source": [
    "file_name = 'onehot_encoded_dll_dataset.csv'\n",
    "\n",
    "preview_data(folder_path, file_name)"
   ]
  },
  {
   "cell_type": "code",
   "execution_count": 63,
   "metadata": {
    "scrolled": false
   },
   "outputs": [
    {
     "name": "stdout",
     "output_type": "stream",
     "text": [
      "Cross-validation 7 models required a duration of 228.69 seconds\n"
     ]
    }
   ],
   "source": [
    "start = time.time()\n",
    "\n",
    "names, results = get_evaluation_results(folder_path, file_name)\n",
    "\n",
    "print(f'Cross-validation {len(names)} models required a duration of {time.time()-start:.2f} seconds')"
   ]
  },
  {
   "cell_type": "code",
   "execution_count": 64,
   "metadata": {},
   "outputs": [
    {
     "name": "stdout",
     "output_type": "stream",
     "text": [
      "LogisticRegression             \t: 87.022% ( (+/-) 1.843% )\n",
      "KNN                            \t: 84.061% ( (+/-) 1.940% )\n",
      "Decision tree                  \t: 84.535% ( (+/-) 1.923% )\n",
      "Random Forest                  \t: 87.118% ( (+/-) 2.130% )\n",
      "SVM                            \t: 87.602% ( (+/-) 1.943% )\n",
      "RegularNets                    \t: 86.717% ( (+/-) 1.411% )\n",
      "Gaussian Naive Bayes           \t: 64.800% ( (+/-) 3.020% )\n"
     ]
    }
   ],
   "source": [
    "print_evaluation_results(results, names)"
   ]
  },
  {
   "cell_type": "code",
   "execution_count": 65,
   "metadata": {},
   "outputs": [
    {
     "data": {
      "text/html": [
       "\n",
       "        <iframe\n",
       "            width=\"900\"\n",
       "            height=\"600\"\n",
       "            src=\"figures/evaluation_onehot_dll_data.html\"\n",
       "            frameborder=\"0\"\n",
       "            allowfullscreen\n",
       "        ></iframe>\n",
       "        "
      ],
      "text/plain": [
       "<IPython.lib.display.IFrame at 0x26fd7b20dc0>"
      ]
     },
     "execution_count": 65,
     "metadata": {},
     "output_type": "execute_result"
    }
   ],
   "source": [
    "fig = plot_evaluation_boxplots(results, names, title = 'Models Performance On One-Hot Encoded \"dll_loaded\" Data', y_axis = 'Accuracy')\n",
    "\n",
    "figure_path = 'figures/evaluation_onehot_dll_data.html'\n",
    "\n",
    "save_figures_to_html(figure_path, [fig])\n",
    "\n",
    "IFrame(figure_path, width=900, height=600)"
   ]
  },
  {
   "cell_type": "markdown",
   "metadata": {},
   "source": [
    "### 4. File operations (counts summary)"
   ]
  },
  {
   "cell_type": "code",
   "execution_count": 66,
   "metadata": {},
   "outputs": [
    {
     "name": "stdout",
     "output_type": "stream",
     "text": [
      "Nb Observations: 3496\n",
      "Nb Columns: 11\n"
     ]
    },
    {
     "data": {
      "text/html": [
       "<div>\n",
       "<style scoped>\n",
       "    .dataframe tbody tr th:only-of-type {\n",
       "        vertical-align: middle;\n",
       "    }\n",
       "\n",
       "    .dataframe tbody tr th {\n",
       "        vertical-align: top;\n",
       "    }\n",
       "\n",
       "    .dataframe thead th {\n",
       "        text-align: right;\n",
       "    }\n",
       "</style>\n",
       "<table border=\"1\" class=\"dataframe\">\n",
       "  <thead>\n",
       "    <tr style=\"text-align: right;\">\n",
       "      <th></th>\n",
       "      <th>label</th>\n",
       "      <th>file_opened</th>\n",
       "      <th>file_exists</th>\n",
       "      <th>file_read</th>\n",
       "      <th>file_deleted</th>\n",
       "      <th>file_failed</th>\n",
       "      <th>file_created</th>\n",
       "      <th>file_recreated</th>\n",
       "      <th>file_written</th>\n",
       "      <th>file_copied</th>\n",
       "      <th>file_moved</th>\n",
       "    </tr>\n",
       "    <tr>\n",
       "      <th>md5</th>\n",
       "      <th></th>\n",
       "      <th></th>\n",
       "      <th></th>\n",
       "      <th></th>\n",
       "      <th></th>\n",
       "      <th></th>\n",
       "      <th></th>\n",
       "      <th></th>\n",
       "      <th></th>\n",
       "      <th></th>\n",
       "      <th></th>\n",
       "    </tr>\n",
       "  </thead>\n",
       "  <tbody>\n",
       "    <tr>\n",
       "      <th>00263ca2071dc9a6ee577eb356b0d1d9</th>\n",
       "      <td>0</td>\n",
       "      <td>0</td>\n",
       "      <td>0</td>\n",
       "      <td>0</td>\n",
       "      <td>0</td>\n",
       "      <td>0</td>\n",
       "      <td>0</td>\n",
       "      <td>0</td>\n",
       "      <td>0</td>\n",
       "      <td>0</td>\n",
       "      <td>0</td>\n",
       "    </tr>\n",
       "    <tr>\n",
       "      <th>0137996cd3aa197ae8eb64fef12c044a</th>\n",
       "      <td>0</td>\n",
       "      <td>4</td>\n",
       "      <td>7</td>\n",
       "      <td>1</td>\n",
       "      <td>0</td>\n",
       "      <td>0</td>\n",
       "      <td>0</td>\n",
       "      <td>0</td>\n",
       "      <td>0</td>\n",
       "      <td>0</td>\n",
       "      <td>0</td>\n",
       "    </tr>\n",
       "    <tr>\n",
       "      <th>0282f83bbfb58c08b54dbd8015e54d2e</th>\n",
       "      <td>0</td>\n",
       "      <td>0</td>\n",
       "      <td>0</td>\n",
       "      <td>0</td>\n",
       "      <td>0</td>\n",
       "      <td>0</td>\n",
       "      <td>0</td>\n",
       "      <td>0</td>\n",
       "      <td>0</td>\n",
       "      <td>0</td>\n",
       "      <td>0</td>\n",
       "    </tr>\n",
       "  </tbody>\n",
       "</table>\n",
       "</div>"
      ],
      "text/plain": [
       "                                  label  file_opened  file_exists  file_read  \\\n",
       "md5                                                                            \n",
       "00263ca2071dc9a6ee577eb356b0d1d9      0            0            0          0   \n",
       "0137996cd3aa197ae8eb64fef12c044a      0            4            7          1   \n",
       "0282f83bbfb58c08b54dbd8015e54d2e      0            0            0          0   \n",
       "\n",
       "                                  file_deleted  file_failed  file_created  \\\n",
       "md5                                                                         \n",
       "00263ca2071dc9a6ee577eb356b0d1d9             0            0             0   \n",
       "0137996cd3aa197ae8eb64fef12c044a             0            0             0   \n",
       "0282f83bbfb58c08b54dbd8015e54d2e             0            0             0   \n",
       "\n",
       "                                  file_recreated  file_written  file_copied  \\\n",
       "md5                                                                           \n",
       "00263ca2071dc9a6ee577eb356b0d1d9               0             0            0   \n",
       "0137996cd3aa197ae8eb64fef12c044a               0             0            0   \n",
       "0282f83bbfb58c08b54dbd8015e54d2e               0             0            0   \n",
       "\n",
       "                                  file_moved  \n",
       "md5                                           \n",
       "00263ca2071dc9a6ee577eb356b0d1d9           0  \n",
       "0137996cd3aa197ae8eb64fef12c044a           0  \n",
       "0282f83bbfb58c08b54dbd8015e54d2e           0  "
      ]
     },
     "execution_count": 66,
     "metadata": {},
     "output_type": "execute_result"
    }
   ],
   "source": [
    "file_name = 'file_operations_counts_dataset.csv'\n",
    "\n",
    "preview_data(folder_path, file_name)"
   ]
  },
  {
   "cell_type": "code",
   "execution_count": 67,
   "metadata": {},
   "outputs": [
    {
     "name": "stdout",
     "output_type": "stream",
     "text": [
      "Cross-validation 7 models required a duration of 45.48 seconds\n"
     ]
    }
   ],
   "source": [
    "start = time.time()\n",
    "\n",
    "names, results = get_evaluation_results(folder_path, file_name, scaler=StandardScaler())\n",
    "\n",
    "print(f'Cross-validation {len(names)} models required a duration of {time.time()-start:.2f} seconds')"
   ]
  },
  {
   "cell_type": "code",
   "execution_count": 68,
   "metadata": {},
   "outputs": [
    {
     "name": "stdout",
     "output_type": "stream",
     "text": [
      "LogisticRegression             \t: 58.533% ( (+/-) 2.213% )\n",
      "KNN                            \t: 74.649% ( (+/-) 2.860% )\n",
      "Decision tree                  \t: 77.918% ( (+/-) 2.120% )\n",
      "Random Forest                  \t: 79.597% ( (+/-) 2.150% )\n",
      "SVM                            \t: 57.008% ( (+/-) 1.093% )\n",
      "RegularNets                    \t: 62.919% ( (+/-) 2.452% )\n",
      "Gaussian Naive Bayes           \t: 49.589% ( (+/-) 1.510% )\n"
     ]
    }
   ],
   "source": [
    "print_evaluation_results(results, names)"
   ]
  },
  {
   "cell_type": "code",
   "execution_count": 69,
   "metadata": {},
   "outputs": [
    {
     "data": {
      "text/html": [
       "\n",
       "        <iframe\n",
       "            width=\"900\"\n",
       "            height=\"600\"\n",
       "            src=\"figures/evaluation_file_operation_counts.html\"\n",
       "            frameborder=\"0\"\n",
       "            allowfullscreen\n",
       "        ></iframe>\n",
       "        "
      ],
      "text/plain": [
       "<IPython.lib.display.IFrame at 0x26fd7b1d370>"
      ]
     },
     "execution_count": 69,
     "metadata": {},
     "output_type": "execute_result"
    }
   ],
   "source": [
    "fig = plot_evaluation_boxplots(results, names, title = 'Models Performance On File Operation Counts Data', y_axis = 'Accuracy')\n",
    "\n",
    "figure_path = 'figures/evaluation_file_operation_counts.html'\n",
    "\n",
    "save_figures_to_html(figure_path, [fig])\n",
    "\n",
    "IFrame(figure_path, width=900, height=600)"
   ]
  },
  {
   "cell_type": "markdown",
   "metadata": {},
   "source": [
    "### 5. Registry Key Operations (counts summary)"
   ]
  },
  {
   "cell_type": "code",
   "execution_count": 70,
   "metadata": {},
   "outputs": [
    {
     "name": "stdout",
     "output_type": "stream",
     "text": [
      "Nb Observations: 3496\n",
      "Nb Columns: 5\n"
     ]
    },
    {
     "data": {
      "text/html": [
       "<div>\n",
       "<style scoped>\n",
       "    .dataframe tbody tr th:only-of-type {\n",
       "        vertical-align: middle;\n",
       "    }\n",
       "\n",
       "    .dataframe tbody tr th {\n",
       "        vertical-align: top;\n",
       "    }\n",
       "\n",
       "    .dataframe thead th {\n",
       "        text-align: right;\n",
       "    }\n",
       "</style>\n",
       "<table border=\"1\" class=\"dataframe\">\n",
       "  <thead>\n",
       "    <tr style=\"text-align: right;\">\n",
       "      <th></th>\n",
       "      <th>regkey_opened</th>\n",
       "      <th>regkey_read</th>\n",
       "      <th>regkey_written</th>\n",
       "      <th>label</th>\n",
       "      <th>regkey_deleted</th>\n",
       "    </tr>\n",
       "    <tr>\n",
       "      <th>md5</th>\n",
       "      <th></th>\n",
       "      <th></th>\n",
       "      <th></th>\n",
       "      <th></th>\n",
       "      <th></th>\n",
       "    </tr>\n",
       "  </thead>\n",
       "  <tbody>\n",
       "    <tr>\n",
       "      <th>00263ca2071dc9a6ee577eb356b0d1d9</th>\n",
       "      <td>2</td>\n",
       "      <td>8</td>\n",
       "      <td>6</td>\n",
       "      <td>0</td>\n",
       "      <td>0</td>\n",
       "    </tr>\n",
       "    <tr>\n",
       "      <th>0137996cd3aa197ae8eb64fef12c044a</th>\n",
       "      <td>1</td>\n",
       "      <td>2</td>\n",
       "      <td>0</td>\n",
       "      <td>0</td>\n",
       "      <td>0</td>\n",
       "    </tr>\n",
       "    <tr>\n",
       "      <th>0282f83bbfb58c08b54dbd8015e54d2e</th>\n",
       "      <td>13</td>\n",
       "      <td>9</td>\n",
       "      <td>0</td>\n",
       "      <td>0</td>\n",
       "      <td>0</td>\n",
       "    </tr>\n",
       "  </tbody>\n",
       "</table>\n",
       "</div>"
      ],
      "text/plain": [
       "                                  regkey_opened  regkey_read  regkey_written  \\\n",
       "md5                                                                            \n",
       "00263ca2071dc9a6ee577eb356b0d1d9              2            8               6   \n",
       "0137996cd3aa197ae8eb64fef12c044a              1            2               0   \n",
       "0282f83bbfb58c08b54dbd8015e54d2e             13            9               0   \n",
       "\n",
       "                                  label  regkey_deleted  \n",
       "md5                                                      \n",
       "00263ca2071dc9a6ee577eb356b0d1d9      0               0  \n",
       "0137996cd3aa197ae8eb64fef12c044a      0               0  \n",
       "0282f83bbfb58c08b54dbd8015e54d2e      0               0  "
      ]
     },
     "execution_count": 70,
     "metadata": {},
     "output_type": "execute_result"
    }
   ],
   "source": [
    "file_name = 'regkeys_counts_dataset.csv'\n",
    "\n",
    "preview_data(folder_path, file_name)"
   ]
  },
  {
   "cell_type": "code",
   "execution_count": 71,
   "metadata": {},
   "outputs": [
    {
     "name": "stdout",
     "output_type": "stream",
     "text": [
      "Cross-validation 7 models required a duration of 58.60 seconds\n"
     ]
    }
   ],
   "source": [
    "start = time.time()\n",
    "\n",
    "names, results = get_evaluation_results(folder_path, file_name, scaler=StandardScaler())\n",
    "\n",
    "print(f'Cross-validation {len(names)} models required a duration of {time.time()-start:.2f} seconds')"
   ]
  },
  {
   "cell_type": "code",
   "execution_count": 72,
   "metadata": {},
   "outputs": [
    {
     "name": "stdout",
     "output_type": "stream",
     "text": [
      "LogisticRegression             \t: 63.930% ( (+/-) 2.534% )\n",
      "KNN                            \t: 79.443% ( (+/-) 2.758% )\n",
      "Decision tree                  \t: 80.215% ( (+/-) 2.147% )\n",
      "Random Forest                  \t: 82.112% ( (+/-) 2.233% )\n",
      "SVM                            \t: 64.550% ( (+/-) 2.175% )\n",
      "RegularNets                    \t: 65.741% ( (+/-) 2.140% )\n",
      "Gaussian Naive Bayes           \t: 56.875% ( (+/-) 0.516% )\n"
     ]
    }
   ],
   "source": [
    "print_evaluation_results(results, names)"
   ]
  },
  {
   "cell_type": "code",
   "execution_count": 73,
   "metadata": {
    "scrolled": false
   },
   "outputs": [
    {
     "data": {
      "text/html": [
       "\n",
       "        <iframe\n",
       "            width=\"900\"\n",
       "            height=\"600\"\n",
       "            src=\"figures/evaluation_registry_key_counts.html\"\n",
       "            frameborder=\"0\"\n",
       "            allowfullscreen\n",
       "        ></iframe>\n",
       "        "
      ],
      "text/plain": [
       "<IPython.lib.display.IFrame at 0x26fd8405c70>"
      ]
     },
     "execution_count": 73,
     "metadata": {},
     "output_type": "execute_result"
    }
   ],
   "source": [
    "fig = plot_evaluation_boxplots(results, names, title = 'Models Performance On Registry Key Operation Counts Data', y_axis = 'Accuracy')\n",
    "\n",
    "figure_path = 'figures/evaluation_registry_key_counts.html'\n",
    "\n",
    "save_figures_to_html(figure_path, [fig])\n",
    "\n",
    "IFrame(figure_path, width=900, height=600)"
   ]
  },
  {
   "cell_type": "markdown",
   "metadata": {},
   "source": [
    "### 6. PE Entropy"
   ]
  },
  {
   "cell_type": "code",
   "execution_count": 74,
   "metadata": {},
   "outputs": [
    {
     "name": "stdout",
     "output_type": "stream",
     "text": [
      "Nb Observations: 4308\n",
      "Nb Columns: 795\n"
     ]
    },
    {
     "data": {
      "text/html": [
       "<div>\n",
       "<style scoped>\n",
       "    .dataframe tbody tr th:only-of-type {\n",
       "        vertical-align: middle;\n",
       "    }\n",
       "\n",
       "    .dataframe tbody tr th {\n",
       "        vertical-align: top;\n",
       "    }\n",
       "\n",
       "    .dataframe thead th {\n",
       "        text-align: right;\n",
       "    }\n",
       "</style>\n",
       "<table border=\"1\" class=\"dataframe\">\n",
       "  <thead>\n",
       "    <tr style=\"text-align: right;\">\n",
       "      <th></th>\n",
       "      <th>.text</th>\n",
       "      <th>.data</th>\n",
       "      <th>.rsrc</th>\n",
       "      <th>.reloc</th>\n",
       "      <th>label</th>\n",
       "      <th>.rdata</th>\n",
       "      <th>.pdata</th>\n",
       "      <th>_RDATA</th>\n",
       "      <th>UPX0</th>\n",
       "      <th>UPX1</th>\n",
       "      <th>...</th>\n",
       "      <th>/47</th>\n",
       "      <th>/61</th>\n",
       "      <th>/73</th>\n",
       "      <th>/84</th>\n",
       "      <th>/95</th>\n",
       "      <th>dtwwkix</th>\n",
       "      <th>afaqowd</th>\n",
       "      <th>q\\xa0\\x01\\x00c</th>\n",
       "      <th>PAGEtext</th>\n",
       "      <th>PAGEdata</th>\n",
       "    </tr>\n",
       "    <tr>\n",
       "      <th>md5</th>\n",
       "      <th></th>\n",
       "      <th></th>\n",
       "      <th></th>\n",
       "      <th></th>\n",
       "      <th></th>\n",
       "      <th></th>\n",
       "      <th></th>\n",
       "      <th></th>\n",
       "      <th></th>\n",
       "      <th></th>\n",
       "      <th></th>\n",
       "      <th></th>\n",
       "      <th></th>\n",
       "      <th></th>\n",
       "      <th></th>\n",
       "      <th></th>\n",
       "      <th></th>\n",
       "      <th></th>\n",
       "      <th></th>\n",
       "      <th></th>\n",
       "      <th></th>\n",
       "    </tr>\n",
       "  </thead>\n",
       "  <tbody>\n",
       "    <tr>\n",
       "      <th>00263ca2071dc9a6ee577eb356b0d1d9</th>\n",
       "      <td>6.068004</td>\n",
       "      <td>4.873371</td>\n",
       "      <td>4.527203</td>\n",
       "      <td>5.159578</td>\n",
       "      <td>0</td>\n",
       "      <td>0.000000</td>\n",
       "      <td>0.000000</td>\n",
       "      <td>0.000000</td>\n",
       "      <td>0.0</td>\n",
       "      <td>0.0</td>\n",
       "      <td>...</td>\n",
       "      <td>0.0</td>\n",
       "      <td>0.0</td>\n",
       "      <td>0.0</td>\n",
       "      <td>0.0</td>\n",
       "      <td>0.0</td>\n",
       "      <td>0.0</td>\n",
       "      <td>0.0</td>\n",
       "      <td>0.0</td>\n",
       "      <td>0.0</td>\n",
       "      <td>0.0</td>\n",
       "    </tr>\n",
       "    <tr>\n",
       "      <th>0137996cd3aa197ae8eb64fef12c044a</th>\n",
       "      <td>6.490230</td>\n",
       "      <td>2.382517</td>\n",
       "      <td>0.000000</td>\n",
       "      <td>5.372628</td>\n",
       "      <td>0</td>\n",
       "      <td>5.108187</td>\n",
       "      <td>5.160316</td>\n",
       "      <td>1.117635</td>\n",
       "      <td>0.0</td>\n",
       "      <td>0.0</td>\n",
       "      <td>...</td>\n",
       "      <td>0.0</td>\n",
       "      <td>0.0</td>\n",
       "      <td>0.0</td>\n",
       "      <td>0.0</td>\n",
       "      <td>0.0</td>\n",
       "      <td>0.0</td>\n",
       "      <td>0.0</td>\n",
       "      <td>0.0</td>\n",
       "      <td>0.0</td>\n",
       "      <td>0.0</td>\n",
       "    </tr>\n",
       "    <tr>\n",
       "      <th>0282f83bbfb58c08b54dbd8015e54d2e</th>\n",
       "      <td>6.342347</td>\n",
       "      <td>1.021041</td>\n",
       "      <td>4.717804</td>\n",
       "      <td>4.662975</td>\n",
       "      <td>0</td>\n",
       "      <td>0.000000</td>\n",
       "      <td>0.000000</td>\n",
       "      <td>0.000000</td>\n",
       "      <td>0.0</td>\n",
       "      <td>0.0</td>\n",
       "      <td>...</td>\n",
       "      <td>0.0</td>\n",
       "      <td>0.0</td>\n",
       "      <td>0.0</td>\n",
       "      <td>0.0</td>\n",
       "      <td>0.0</td>\n",
       "      <td>0.0</td>\n",
       "      <td>0.0</td>\n",
       "      <td>0.0</td>\n",
       "      <td>0.0</td>\n",
       "      <td>0.0</td>\n",
       "    </tr>\n",
       "  </tbody>\n",
       "</table>\n",
       "<p>3 rows × 795 columns</p>\n",
       "</div>"
      ],
      "text/plain": [
       "                                     .text     .data     .rsrc    .reloc  \\\n",
       "md5                                                                        \n",
       "00263ca2071dc9a6ee577eb356b0d1d9  6.068004  4.873371  4.527203  5.159578   \n",
       "0137996cd3aa197ae8eb64fef12c044a  6.490230  2.382517  0.000000  5.372628   \n",
       "0282f83bbfb58c08b54dbd8015e54d2e  6.342347  1.021041  4.717804  4.662975   \n",
       "\n",
       "                                  label    .rdata    .pdata    _RDATA  UPX0  \\\n",
       "md5                                                                           \n",
       "00263ca2071dc9a6ee577eb356b0d1d9      0  0.000000  0.000000  0.000000   0.0   \n",
       "0137996cd3aa197ae8eb64fef12c044a      0  5.108187  5.160316  1.117635   0.0   \n",
       "0282f83bbfb58c08b54dbd8015e54d2e      0  0.000000  0.000000  0.000000   0.0   \n",
       "\n",
       "                                  UPX1  ...  /47  /61  /73  /84  /95  dtwwkix  \\\n",
       "md5                                     ...                                     \n",
       "00263ca2071dc9a6ee577eb356b0d1d9   0.0  ...  0.0  0.0  0.0  0.0  0.0      0.0   \n",
       "0137996cd3aa197ae8eb64fef12c044a   0.0  ...  0.0  0.0  0.0  0.0  0.0      0.0   \n",
       "0282f83bbfb58c08b54dbd8015e54d2e   0.0  ...  0.0  0.0  0.0  0.0  0.0      0.0   \n",
       "\n",
       "                                  afaqowd  q\\xa0\\x01\\x00c  PAGEtext  PAGEdata  \n",
       "md5                                                                            \n",
       "00263ca2071dc9a6ee577eb356b0d1d9      0.0             0.0       0.0       0.0  \n",
       "0137996cd3aa197ae8eb64fef12c044a      0.0             0.0       0.0       0.0  \n",
       "0282f83bbfb58c08b54dbd8015e54d2e      0.0             0.0       0.0       0.0  \n",
       "\n",
       "[3 rows x 795 columns]"
      ]
     },
     "execution_count": 74,
     "metadata": {},
     "output_type": "execute_result"
    }
   ],
   "source": [
    "file_name = 'pe_entropy_dataset.csv'\n",
    "\n",
    "preview_data(folder_path, file_name)"
   ]
  },
  {
   "cell_type": "code",
   "execution_count": 103,
   "metadata": {},
   "outputs": [
    {
     "name": "stdout",
     "output_type": "stream",
     "text": [
      "Cross-validation 7 models required a duration of 99.66 seconds\n"
     ]
    }
   ],
   "source": [
    "start = time.time()\n",
    "\n",
    "names, results = get_evaluation_results(folder_path, file_name, drop_null_columns=True, scaler=StandardScaler())\n",
    "\n",
    "print(f'Cross-validation {len(names)} models required a duration of {time.time()-start:.2f} seconds')"
   ]
  },
  {
   "cell_type": "code",
   "execution_count": 104,
   "metadata": {},
   "outputs": [
    {
     "name": "stdout",
     "output_type": "stream",
     "text": [
      "LogisticRegression             \t: 75.395% ( (+/-) 1.624% )\n",
      "KNN                            \t: 85.933% ( (+/-) 1.664% )\n",
      "Decision tree                  \t: 87.311% ( (+/-) 1.647% )\n",
      "Random Forest                  \t: 90.614% ( (+/-) 1.792% )\n",
      "SVM                            \t: 74.126% ( (+/-) 1.520% )\n",
      "RegularNets                    \t: 80.672% ( (+/-) 1.769% )\n",
      "Gaussian Naive Bayes           \t: 46.402% ( (+/-) 1.210% )\n"
     ]
    }
   ],
   "source": [
    "print_evaluation_results(results, names)"
   ]
  },
  {
   "cell_type": "code",
   "execution_count": 105,
   "metadata": {},
   "outputs": [
    {
     "data": {
      "text/html": [
       "\n",
       "        <iframe\n",
       "            width=\"900\"\n",
       "            height=\"600\"\n",
       "            src=\"figures/evaluation_pe_entropy.html\"\n",
       "            frameborder=\"0\"\n",
       "            allowfullscreen\n",
       "        ></iframe>\n",
       "        "
      ],
      "text/plain": [
       "<IPython.lib.display.IFrame at 0x26fd81ed0a0>"
      ]
     },
     "execution_count": 105,
     "metadata": {},
     "output_type": "execute_result"
    }
   ],
   "source": [
    "fig = plot_evaluation_boxplots(results, names, title = 'Models Performance On PE Entropy Data', y_axis = 'Accuracy')\n",
    "\n",
    "figure_path = 'figures/evaluation_pe_entropy.html'\n",
    "\n",
    "save_figures_to_html(figure_path, [fig])\n",
    "\n",
    "IFrame(figure_path, width=900, height=600)"
   ]
  }
 ],
 "metadata": {
  "kernelspec": {
   "display_name": "Python 3",
   "language": "python",
   "name": "python3"
  },
  "language_info": {
   "codemirror_mode": {
    "name": "ipython",
    "version": 3
   },
   "file_extension": ".py",
   "mimetype": "text/x-python",
   "name": "python",
   "nbconvert_exporter": "python",
   "pygments_lexer": "ipython3",
   "version": "3.8.8"
  }
 },
 "nbformat": 4,
 "nbformat_minor": 4
}
