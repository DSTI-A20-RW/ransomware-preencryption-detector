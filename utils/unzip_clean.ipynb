{
 "cells": [
  {
   "cell_type": "code",
   "execution_count": 47,
   "metadata": {},
   "outputs": [],
   "source": [
    "import zipfile\n",
    "import os\n",
    "#Set this path to were the reports are\n",
    "path=r'C:\\Users\\Caio\\Documents\\project_cyber\\utils'\n",
    "os.chdir(path)"
   ]
  },
  {
   "cell_type": "code",
   "execution_count": 56,
   "metadata": {},
   "outputs": [
    {
     "name": "stdout",
     "output_type": "stream",
     "text": [
      "File 2127973 exists\n",
      "File 2128140 exists\n"
     ]
    }
   ],
   "source": [
    "#This will iter in the folder and find all .zip \n",
    "for i in os.listdir():\n",
    "    if \".zip\" in i:\n",
    "        t=i.split('.')[0]\n",
    "        if os.path.exists(\"reports/{}.json\".format(t)) == True:\n",
    "            print(\"File {} exists\".format(t))\n",
    "        else:\n",
    "            try:\n",
    "                with zipfile.ZipFile(i,\"r\") as zip_ref:\n",
    "                       # Get a list of all archived file names from the zip\n",
    "                    listOfFileNames = zip_ref.namelist()\n",
    "                    zip_ref.extract(\"reports/report.json\")\n",
    "                print(\"File {} created\".format(t))\n",
    "                os.rename(\"reports/report.json\",\"reports/{}.json\".format(t))\n",
    "            except:\n",
    "                e = sys.exc_info()[0]\n",
    "                write_to_page( \"<p>Error: %s</p>\" % e )"
   ]
  },
  {
   "cell_type": "code",
   "execution_count": null,
   "metadata": {},
   "outputs": [],
   "source": []
  },
  {
   "cell_type": "code",
   "execution_count": null,
   "metadata": {},
   "outputs": [],
   "source": []
  }
 ],
 "metadata": {
  "kernelspec": {
   "display_name": "Python 3",
   "language": "python",
   "name": "python3"
  },
  "language_info": {
   "codemirror_mode": {
    "name": "ipython",
    "version": 3
   },
   "file_extension": ".py",
   "mimetype": "text/x-python",
   "name": "python",
   "nbconvert_exporter": "python",
   "pygments_lexer": "ipython3",
   "version": "3.8.3"
  }
 },
 "nbformat": 4,
 "nbformat_minor": 4
}
