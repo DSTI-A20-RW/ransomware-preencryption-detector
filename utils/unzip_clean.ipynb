{
 "cells": [
  {
   "cell_type": "code",
   "execution_count": 94,
   "metadata": {},
   "outputs": [],
   "source": [
    "import zipfile\n",
    "import os\n",
    "import json\n",
    "import pandas as pd\n",
    "#Set this path to were the reports are\n",
    "#path=r'C:\\Users\\Caio\\Documents\\project_cyber\\utils'\n",
    "path=r'C:\\Users\\Caio\\Documents\\project_cyber\\dataset'\n",
    "\n",
    "os.chdir(path)"
   ]
  },
  {
   "cell_type": "code",
   "execution_count": 132,
   "metadata": {},
   "outputs": [],
   "source": [
    "#This will iter in the folder and find all .zip \n",
    "def unzip_all(path):\n",
    "    os.chdir(path)\n",
    "    for i in os.listdir():\n",
    "        if \".zip\" in i:\n",
    "            t=i.split('.')[0]\n",
    "            if os.path.exists(\"reports/{}.json\".format(t)) == True:\n",
    "                print(\"File {} exists\".format(t))\n",
    "            else:\n",
    "                try:\n",
    "                    with zipfile.ZipFile(i,\"r\") as zip_ref:\n",
    "                           # Get a list of all archived file names from the zip\n",
    "                        listOfFileNames = zip_ref.namelist()\n",
    "                        zip_ref.extract(\"reports/report.json\")\n",
    "                    print(\"File {} created\".format(t))\n",
    "                    os.rename(\"reports/report.json\",\"reports/{}.json\".format(t))\n",
    "                except:\n",
    "                    e = sys.exc_info()[0]\n",
    "                    write_to_page( \"<p>Error: %s</p>\" % e )\n",
    "\n",
    "def find_ransomware(path,ransom_list):\n",
    "    os.chdir(path)\n",
    "    ransom_list=[\"ransom\",\"cryptik\",\"kryptik\"]\n",
    "    l1=[]\n",
    "    l2=[]\n",
    "    for i in os.listdir():\n",
    "        if \".json\" in i:\n",
    "            with open('{}'.format(i)) as f:\n",
    "                data = json.load(f)\n",
    "            l1.append(i.split(\".\")[0])\n",
    "            if any(x in str(data[\"irma\"]['probe_results'].values()).lower() for x in ransom_list):\n",
    "                l2.append('1')\n",
    "            else:\n",
    "                l2.append('0')\n",
    "    return l1,l2\n",
    "                    \n",
    "\n",
    "            "
   ]
  },
  {
   "cell_type": "code",
   "execution_count": 133,
   "metadata": {},
   "outputs": [],
   "source": [
    "\n",
    "ransom_list=[\"ransom\",\"cryptik\",\"kryptik\"]\n",
    "t=r'C:\\Users\\Caio\\Documents\\project_cyber\\ransomjson'\n",
    "t1,t2=find_ransomware(t,ransom_list)"
   ]
  },
  {
   "cell_type": "code",
   "execution_count": 136,
   "metadata": {},
   "outputs": [
    {
     "data": {
      "text/plain": [
       "(105, 105)"
      ]
     },
     "execution_count": 136,
     "metadata": {},
     "output_type": "execute_result"
    }
   ],
   "source": [
    "len(t1),len(t2)"
   ]
  },
  {
   "cell_type": "code",
   "execution_count": 137,
   "metadata": {},
   "outputs": [],
   "source": [
    "df = pd.DataFrame(list(zip(t1, t2)),\n",
    "               columns =['filename', 'ransomware'])\n",
    "df.to_csv('ransom_list.csv')"
   ]
  },
  {
   "cell_type": "code",
   "execution_count": null,
   "metadata": {},
   "outputs": [],
   "source": []
  }
 ],
 "metadata": {
  "kernelspec": {
   "display_name": "Python 3",
   "language": "python",
   "name": "python3"
  },
  "language_info": {
   "codemirror_mode": {
    "name": "ipython",
    "version": 3
   },
   "file_extension": ".py",
   "mimetype": "text/x-python",
   "name": "python",
   "nbconvert_exporter": "python",
   "pygments_lexer": "ipython3",
   "version": "3.8.3"
  }
 },
 "nbformat": 4,
 "nbformat_minor": 4
}
