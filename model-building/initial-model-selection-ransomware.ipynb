{
 "cells": [
  {
   "cell_type": "markdown",
   "metadata": {},
   "source": [
    "## **Imports and configurations**"
   ]
  },
  {
   "cell_type": "code",
   "execution_count": 1,
   "metadata": {},
   "outputs": [],
   "source": [
    "%reload_ext autoreload\n",
    "%autoreload 2"
   ]
  },
  {
   "cell_type": "code",
   "execution_count": 2,
   "metadata": {},
   "outputs": [
    {
     "data": {
      "text/html": [
       "        <script type=\"text/javascript\">\n",
       "        window.PlotlyConfig = {MathJaxConfig: 'local'};\n",
       "        if (window.MathJax) {MathJax.Hub.Config({SVG: {font: \"STIX-Web\"}});}\n",
       "        if (typeof require !== 'undefined') {\n",
       "        require.undef(\"plotly\");\n",
       "        requirejs.config({\n",
       "            paths: {\n",
       "                'plotly': ['https://cdn.plot.ly/plotly-latest.min']\n",
       "            }\n",
       "        });\n",
       "        require(['plotly'], function(Plotly) {\n",
       "            window._Plotly = Plotly;\n",
       "        });\n",
       "        }\n",
       "        </script>\n",
       "        "
      ]
     },
     "metadata": {},
     "output_type": "display_data"
    }
   ],
   "source": [
    "import os\n",
    "import time\n",
    "\n",
    "import pandas as pd\n",
    "import numpy as np\n",
    "import matplotlib\n",
    "import matplotlib.pyplot as plt\n",
    "import plotly.graph_objs as go\n",
    "import plotly.express as px\n",
    "\n",
    "from IPython.display import IFrame\n",
    "from plotly.offline import init_notebook_mode\n",
    "init_notebook_mode(connected=True)"
   ]
  },
  {
   "cell_type": "code",
   "execution_count": 8,
   "metadata": {},
   "outputs": [],
   "source": [
    "from helpers import *\n",
    "from learners import *\n",
    "from plot_utils import *"
   ]
  },
  {
   "cell_type": "markdown",
   "metadata": {},
   "source": [
    "## Data loading :"
   ]
  },
  {
   "cell_type": "code",
   "execution_count": 11,
   "metadata": {},
   "outputs": [
    {
     "name": "stdout",
     "output_type": "stream",
     "text": [
      "apistats_counts\n",
      "loaded data shape :   (2618, 301)\n",
      "fileops_created_nested_files\n",
      "loaded data shape :   (1232, 9747)\n",
      "fileops_deleted_nested_files\n",
      "loaded data shape :   (1029, 5537)\n",
      "fileops_exists_nested_files\n",
      "loaded data shape :   (1545, 6847)\n",
      "fileops_failed_nested_files\n",
      "loaded data shape :   (1300, 3073)\n",
      "fileops_opened_nested_files\n",
      "loaded data shape :   (2094, 12066)\n",
      "fileops_read_nested_files\n",
      "loaded data shape :   (1508, 10430)\n",
      "fileops_recreated_nested_files\n",
      "loaded data shape :   (539, 445)\n",
      "fileops_summary\n",
      "loaded data shape :   (2392, 12)\n",
      "fileops_written_nested_files\n",
      "loaded data shape :   (1265, 9891)\n",
      "loaded_dll_onehot\n",
      "loaded data shape :   (2168, 821)\n",
      "pe_entropy_analysis\n",
      "loaded data shape :   (3051, 715)\n",
      "pe_imports_advapi32\n",
      "loaded data shape :   (1532, 455)\n",
      "pe_imports_comctl32\n",
      "loaded data shape :   (598, 92)\n",
      "pe_imports_gdi32\n",
      "loaded data shape :   (883, 541)\n",
      "pe_imports_kernel32\n",
      "loaded data shape :   (2425, 886)\n",
      "pe_imports_libraries\n",
      "loaded data shape :   (3058, 286)\n",
      "pe_imports_msvcrt\n",
      "loaded data shape :   (851, 700)\n",
      "pe_imports_ole32\n",
      "loaded data shape :   (627, 303)\n",
      "pe_imports_shell32\n",
      "loaded data shape :   (773, 156)\n",
      "pe_imports_user32\n",
      "loaded data shape :   (1845, 678)\n",
      "regkeys_deleted_nested_keys\n",
      "loaded data shape :   (534, 471)\n",
      "regkeys_opened_nested_keys\n",
      "loaded data shape :   (1852, 5554)\n",
      "regkeys_read_nested_keys\n",
      "loaded data shape :   (2268, 7286)\n",
      "regkeys_summary\n",
      "loaded data shape :   (2392, 6)\n",
      "regkeys_written_nested_keys\n",
      "loaded data shape :   (1244, 2086)\n"
     ]
    }
   ],
   "source": [
    "folder_path = 'C:/Users/yaass/OneDrive/Bureau/Parser/ransom_datasets'\n",
    "\n",
    "files = get_file_list(folder_path, extensions=['gz'])\n",
    "\n",
    "datasets = prepare_datasets(datasets_path = folder_path)"
   ]
  },
  {
   "cell_type": "markdown",
   "metadata": {},
   "source": [
    "## **Models evaluation**"
   ]
  },
  {
   "cell_type": "markdown",
   "metadata": {},
   "source": [
    "### 1. apistats (count encoded)"
   ]
  },
  {
   "cell_type": "markdown",
   "metadata": {},
   "source": [
    "In this section, on top of studying apistats, we'll also compare the performance of different SMOTE techniques to decide which gives the highest performance."
   ]
  },
  {
   "cell_type": "code",
   "execution_count": 12,
   "metadata": {},
   "outputs": [
    {
     "data": {
      "text/html": [
       "<div>\n",
       "<style scoped>\n",
       "    .dataframe tbody tr th:only-of-type {\n",
       "        vertical-align: middle;\n",
       "    }\n",
       "\n",
       "    .dataframe tbody tr th {\n",
       "        vertical-align: top;\n",
       "    }\n",
       "\n",
       "    .dataframe thead th {\n",
       "        text-align: right;\n",
       "    }\n",
       "</style>\n",
       "<table border=\"1\" class=\"dataframe\">\n",
       "  <thead>\n",
       "    <tr style=\"text-align: right;\">\n",
       "      <th></th>\n",
       "      <th>GetUserNameExW</th>\n",
       "      <th>SetFileTime</th>\n",
       "      <th>GetFileVersionInfoSizeW</th>\n",
       "      <th>GetFileAttributesW</th>\n",
       "      <th>RegOpenKeyExW</th>\n",
       "      <th>NtDelayExecution</th>\n",
       "      <th>SetErrorMode</th>\n",
       "      <th>RegOpenKeyExA</th>\n",
       "      <th>RtlRemoveVectoredExceptionHandler</th>\n",
       "      <th>SetFilePointerEx</th>\n",
       "      <th>...</th>\n",
       "      <th>NetUserGetInfo</th>\n",
       "      <th>DecryptMessage</th>\n",
       "      <th>EncryptMessage</th>\n",
       "      <th>ReadCabinetState</th>\n",
       "      <th>CryptProtectMemory</th>\n",
       "      <th>CryptUnprotectMemory</th>\n",
       "      <th>WNetGetProviderNameW</th>\n",
       "      <th>CreateRemoteThreadEx</th>\n",
       "      <th>RtlCreateUserProcess</th>\n",
       "      <th>system</th>\n",
       "    </tr>\n",
       "    <tr>\n",
       "      <th>md5</th>\n",
       "      <th></th>\n",
       "      <th></th>\n",
       "      <th></th>\n",
       "      <th></th>\n",
       "      <th></th>\n",
       "      <th></th>\n",
       "      <th></th>\n",
       "      <th></th>\n",
       "      <th></th>\n",
       "      <th></th>\n",
       "      <th></th>\n",
       "      <th></th>\n",
       "      <th></th>\n",
       "      <th></th>\n",
       "      <th></th>\n",
       "      <th></th>\n",
       "      <th></th>\n",
       "      <th></th>\n",
       "      <th></th>\n",
       "      <th></th>\n",
       "      <th></th>\n",
       "    </tr>\n",
       "  </thead>\n",
       "  <tbody>\n",
       "    <tr>\n",
       "      <th>000a3ea381d7d70be8b6fe1ee51dca22</th>\n",
       "      <td>8</td>\n",
       "      <td>3</td>\n",
       "      <td>1173</td>\n",
       "      <td>876</td>\n",
       "      <td>475</td>\n",
       "      <td>1387</td>\n",
       "      <td>810</td>\n",
       "      <td>58</td>\n",
       "      <td>1</td>\n",
       "      <td>102</td>\n",
       "      <td>...</td>\n",
       "      <td>0</td>\n",
       "      <td>0</td>\n",
       "      <td>0</td>\n",
       "      <td>0</td>\n",
       "      <td>0</td>\n",
       "      <td>0</td>\n",
       "      <td>0</td>\n",
       "      <td>0</td>\n",
       "      <td>0</td>\n",
       "      <td>0</td>\n",
       "    </tr>\n",
       "    <tr>\n",
       "      <th>001cfa63ad79aaf3e4a2b85a2e7f227f</th>\n",
       "      <td>0</td>\n",
       "      <td>0</td>\n",
       "      <td>0</td>\n",
       "      <td>8</td>\n",
       "      <td>10</td>\n",
       "      <td>1</td>\n",
       "      <td>10</td>\n",
       "      <td>2</td>\n",
       "      <td>0</td>\n",
       "      <td>0</td>\n",
       "      <td>...</td>\n",
       "      <td>0</td>\n",
       "      <td>0</td>\n",
       "      <td>0</td>\n",
       "      <td>0</td>\n",
       "      <td>0</td>\n",
       "      <td>0</td>\n",
       "      <td>0</td>\n",
       "      <td>0</td>\n",
       "      <td>0</td>\n",
       "      <td>0</td>\n",
       "    </tr>\n",
       "    <tr>\n",
       "      <th>003e845bdcc5367220bf13f7170da16f</th>\n",
       "      <td>0</td>\n",
       "      <td>2</td>\n",
       "      <td>0</td>\n",
       "      <td>6</td>\n",
       "      <td>1</td>\n",
       "      <td>0</td>\n",
       "      <td>0</td>\n",
       "      <td>1</td>\n",
       "      <td>0</td>\n",
       "      <td>0</td>\n",
       "      <td>...</td>\n",
       "      <td>0</td>\n",
       "      <td>0</td>\n",
       "      <td>0</td>\n",
       "      <td>0</td>\n",
       "      <td>0</td>\n",
       "      <td>0</td>\n",
       "      <td>0</td>\n",
       "      <td>0</td>\n",
       "      <td>0</td>\n",
       "      <td>0</td>\n",
       "    </tr>\n",
       "    <tr>\n",
       "      <th>00a53241bf9c9425c6df8da44a5ca4f4</th>\n",
       "      <td>0</td>\n",
       "      <td>0</td>\n",
       "      <td>0</td>\n",
       "      <td>0</td>\n",
       "      <td>0</td>\n",
       "      <td>0</td>\n",
       "      <td>0</td>\n",
       "      <td>0</td>\n",
       "      <td>0</td>\n",
       "      <td>0</td>\n",
       "      <td>...</td>\n",
       "      <td>0</td>\n",
       "      <td>0</td>\n",
       "      <td>0</td>\n",
       "      <td>0</td>\n",
       "      <td>0</td>\n",
       "      <td>0</td>\n",
       "      <td>0</td>\n",
       "      <td>0</td>\n",
       "      <td>0</td>\n",
       "      <td>0</td>\n",
       "    </tr>\n",
       "    <tr>\n",
       "      <th>00bb04604996c97b7b4f8b2c767c0f40</th>\n",
       "      <td>0</td>\n",
       "      <td>0</td>\n",
       "      <td>0</td>\n",
       "      <td>4</td>\n",
       "      <td>0</td>\n",
       "      <td>0</td>\n",
       "      <td>1</td>\n",
       "      <td>1</td>\n",
       "      <td>0</td>\n",
       "      <td>0</td>\n",
       "      <td>...</td>\n",
       "      <td>0</td>\n",
       "      <td>0</td>\n",
       "      <td>0</td>\n",
       "      <td>0</td>\n",
       "      <td>0</td>\n",
       "      <td>0</td>\n",
       "      <td>0</td>\n",
       "      <td>0</td>\n",
       "      <td>0</td>\n",
       "      <td>0</td>\n",
       "    </tr>\n",
       "  </tbody>\n",
       "</table>\n",
       "<p>5 rows × 301 columns</p>\n",
       "</div>"
      ],
      "text/plain": [
       "                                  GetUserNameExW  SetFileTime  \\\n",
       "md5                                                             \n",
       "000a3ea381d7d70be8b6fe1ee51dca22               8            3   \n",
       "001cfa63ad79aaf3e4a2b85a2e7f227f               0            0   \n",
       "003e845bdcc5367220bf13f7170da16f               0            2   \n",
       "00a53241bf9c9425c6df8da44a5ca4f4               0            0   \n",
       "00bb04604996c97b7b4f8b2c767c0f40               0            0   \n",
       "\n",
       "                                  GetFileVersionInfoSizeW  GetFileAttributesW  \\\n",
       "md5                                                                             \n",
       "000a3ea381d7d70be8b6fe1ee51dca22                     1173                 876   \n",
       "001cfa63ad79aaf3e4a2b85a2e7f227f                        0                   8   \n",
       "003e845bdcc5367220bf13f7170da16f                        0                   6   \n",
       "00a53241bf9c9425c6df8da44a5ca4f4                        0                   0   \n",
       "00bb04604996c97b7b4f8b2c767c0f40                        0                   4   \n",
       "\n",
       "                                  RegOpenKeyExW  NtDelayExecution  \\\n",
       "md5                                                                 \n",
       "000a3ea381d7d70be8b6fe1ee51dca22            475              1387   \n",
       "001cfa63ad79aaf3e4a2b85a2e7f227f             10                 1   \n",
       "003e845bdcc5367220bf13f7170da16f              1                 0   \n",
       "00a53241bf9c9425c6df8da44a5ca4f4              0                 0   \n",
       "00bb04604996c97b7b4f8b2c767c0f40              0                 0   \n",
       "\n",
       "                                  SetErrorMode  RegOpenKeyExA  \\\n",
       "md5                                                             \n",
       "000a3ea381d7d70be8b6fe1ee51dca22           810             58   \n",
       "001cfa63ad79aaf3e4a2b85a2e7f227f            10              2   \n",
       "003e845bdcc5367220bf13f7170da16f             0              1   \n",
       "00a53241bf9c9425c6df8da44a5ca4f4             0              0   \n",
       "00bb04604996c97b7b4f8b2c767c0f40             1              1   \n",
       "\n",
       "                                  RtlRemoveVectoredExceptionHandler  \\\n",
       "md5                                                                   \n",
       "000a3ea381d7d70be8b6fe1ee51dca22                                  1   \n",
       "001cfa63ad79aaf3e4a2b85a2e7f227f                                  0   \n",
       "003e845bdcc5367220bf13f7170da16f                                  0   \n",
       "00a53241bf9c9425c6df8da44a5ca4f4                                  0   \n",
       "00bb04604996c97b7b4f8b2c767c0f40                                  0   \n",
       "\n",
       "                                  SetFilePointerEx  ...  NetUserGetInfo  \\\n",
       "md5                                                 ...                   \n",
       "000a3ea381d7d70be8b6fe1ee51dca22               102  ...               0   \n",
       "001cfa63ad79aaf3e4a2b85a2e7f227f                 0  ...               0   \n",
       "003e845bdcc5367220bf13f7170da16f                 0  ...               0   \n",
       "00a53241bf9c9425c6df8da44a5ca4f4                 0  ...               0   \n",
       "00bb04604996c97b7b4f8b2c767c0f40                 0  ...               0   \n",
       "\n",
       "                                  DecryptMessage  EncryptMessage  \\\n",
       "md5                                                                \n",
       "000a3ea381d7d70be8b6fe1ee51dca22               0               0   \n",
       "001cfa63ad79aaf3e4a2b85a2e7f227f               0               0   \n",
       "003e845bdcc5367220bf13f7170da16f               0               0   \n",
       "00a53241bf9c9425c6df8da44a5ca4f4               0               0   \n",
       "00bb04604996c97b7b4f8b2c767c0f40               0               0   \n",
       "\n",
       "                                  ReadCabinetState  CryptProtectMemory  \\\n",
       "md5                                                                      \n",
       "000a3ea381d7d70be8b6fe1ee51dca22                 0                   0   \n",
       "001cfa63ad79aaf3e4a2b85a2e7f227f                 0                   0   \n",
       "003e845bdcc5367220bf13f7170da16f                 0                   0   \n",
       "00a53241bf9c9425c6df8da44a5ca4f4                 0                   0   \n",
       "00bb04604996c97b7b4f8b2c767c0f40                 0                   0   \n",
       "\n",
       "                                  CryptUnprotectMemory  WNetGetProviderNameW  \\\n",
       "md5                                                                            \n",
       "000a3ea381d7d70be8b6fe1ee51dca22                     0                     0   \n",
       "001cfa63ad79aaf3e4a2b85a2e7f227f                     0                     0   \n",
       "003e845bdcc5367220bf13f7170da16f                     0                     0   \n",
       "00a53241bf9c9425c6df8da44a5ca4f4                     0                     0   \n",
       "00bb04604996c97b7b4f8b2c767c0f40                     0                     0   \n",
       "\n",
       "                                  CreateRemoteThreadEx  RtlCreateUserProcess  \\\n",
       "md5                                                                            \n",
       "000a3ea381d7d70be8b6fe1ee51dca22                     0                     0   \n",
       "001cfa63ad79aaf3e4a2b85a2e7f227f                     0                     0   \n",
       "003e845bdcc5367220bf13f7170da16f                     0                     0   \n",
       "00a53241bf9c9425c6df8da44a5ca4f4                     0                     0   \n",
       "00bb04604996c97b7b4f8b2c767c0f40                     0                     0   \n",
       "\n",
       "                                  system  \n",
       "md5                                       \n",
       "000a3ea381d7d70be8b6fe1ee51dca22       0  \n",
       "001cfa63ad79aaf3e4a2b85a2e7f227f       0  \n",
       "003e845bdcc5367220bf13f7170da16f       0  \n",
       "00a53241bf9c9425c6df8da44a5ca4f4       0  \n",
       "00bb04604996c97b7b4f8b2c767c0f40       0  \n",
       "\n",
       "[5 rows x 301 columns]"
      ]
     },
     "execution_count": 12,
     "metadata": {},
     "output_type": "execute_result"
    }
   ],
   "source": [
    "datasets['apistats_counts'].head()"
   ]
  },
  {
   "cell_type": "code",
   "execution_count": 15,
   "metadata": {},
   "outputs": [
    {
     "name": "stdout",
     "output_type": "stream",
     "text": [
      "Class distribution:\n",
      "malware      : 2206\n",
      "ransomware   : 412\n",
      "\n",
      "Majority class classifier accuracy = 84.26%\n"
     ]
    }
   ],
   "source": [
    "class_distribution(datasets['apistats_counts'], label='sublabel')"
   ]
  },
  {
   "cell_type": "code",
   "execution_count": 104,
   "metadata": {},
   "outputs": [
    {
     "name": "stdout",
     "output_type": "stream",
     "text": [
      "Cross-validation 8 models required a duration of 73.79 seconds\n"
     ]
    }
   ],
   "source": [
    "start = time.time()\n",
    "\n",
    "#create a smote pipeline\n",
    "X, y = get_X_y(datasets['apistats_counts'], label='sublabel')\n",
    "smoter = smote(X, y, category='adaptive', over_strategy=0.5, under_strategy=0.8, k_neighbors=5, fit=False)\n",
    "\n",
    "#compute cross-validation scores\n",
    "names, results = get_evaluation_results(df = datasets['apistats_counts'], \n",
    "                                        label='sublabel', \n",
    "                                        smoter=smoter, \n",
    "                                        scaler=MinMaxScaler(),\n",
    "                                        scoring ='accuracy')\n",
    "\n",
    "print(f'Cross-validation {len(names)} models required a duration of {time.time()-start:.2f} seconds')"
   ]
  },
  {
   "cell_type": "code",
   "execution_count": 103,
   "metadata": {},
   "outputs": [
    {
     "name": "stdout",
     "output_type": "stream",
     "text": [
      "LogisticRegression             \t: 92.734% ( (+/-) 1.368% )\n",
      "KNN                            \t: 95.985% ( (+/-) 1.203% )\n",
      "Decision tree                  \t: 96.183% ( (+/-) 1.309% )\n",
      "Random Forest                  \t: 97.710% ( (+/-) 0.865% )\n",
      "SVM                            \t: 92.543% ( (+/-) 1.089% )\n",
      "RegularNets                    \t: 86.450% ( (+/-) 3.343% )\n",
      "LDA                            \t: 87.405% ( (+/-) 2.152% )\n",
      "Gaussian Naive Bayes           \t: 62.405% ( (+/-) 3.027% )\n"
     ]
    }
   ],
   "source": [
    "#standard smote\n",
    "print_evaluation_results(results, names)"
   ]
  },
  {
   "cell_type": "code",
   "execution_count": 94,
   "metadata": {},
   "outputs": [
    {
     "name": "stdout",
     "output_type": "stream",
     "text": [
      "LogisticRegression             \t: 92.366% ( (+/-) 1.323% )\n",
      "KNN                            \t: 94.656% ( (+/-) 1.223% )\n",
      "Decision tree                  \t: 95.420% ( (+/-) 1.054% )\n",
      "Random Forest                  \t: 97.515% ( (+/-) 0.930% )\n",
      "SVM                            \t: 92.366% ( (+/-) 5.243% )\n",
      "RegularNets                    \t: 84.351% ( (+/-) 3.141% )\n",
      "LDA                            \t: 84.924% ( (+/-) 3.367% )\n",
      "Gaussian Naive Bayes           \t: 60.878% ( (+/-) 2.657% )\n"
     ]
    }
   ],
   "source": [
    "#bordeline smote\n",
    "print_evaluation_results(results, names)"
   ]
  },
  {
   "cell_type": "code",
   "execution_count": 97,
   "metadata": {},
   "outputs": [
    {
     "name": "stdout",
     "output_type": "stream",
     "text": [
      "LogisticRegression             \t: 92.734% ( (+/-) 1.202% )\n",
      "KNN                            \t: 95.420% ( (+/-) 1.500% )\n",
      "Decision tree                  \t: 95.802% ( (+/-) 1.471% )\n",
      "Random Forest                  \t: 97.710% ( (+/-) 0.739% )\n",
      "SVM                            \t: 92.748% ( (+/-) 1.061% )\n",
      "RegularNets                    \t: 83.397% ( (+/-) 2.909% )\n",
      "LDA                            \t: 86.999% ( (+/-) 2.794% )\n",
      "Gaussian Naive Bayes           \t: 62.333% ( (+/-) 2.966% )\n"
     ]
    }
   ],
   "source": [
    "#svm smote\n",
    "print_evaluation_results(results, names)"
   ]
  },
  {
   "cell_type": "code",
   "execution_count": 105,
   "metadata": {},
   "outputs": [
    {
     "name": "stdout",
     "output_type": "stream",
     "text": [
      "LogisticRegression             \t: 92.734% ( (+/-) 1.438% )\n",
      "KNN                            \t: 94.466% ( (+/-) 1.365% )\n",
      "Decision tree                  \t: 95.785% ( (+/-) 1.346% )\n",
      "Random Forest                  \t: 98.084% ( (+/-) 0.900% )\n",
      "SVM                            \t: 92.366% ( (+/-) 1.182% )\n",
      "RegularNets                    \t: 86.998% ( (+/-) 3.656% )\n",
      "LDA                            \t: 87.380% ( (+/-) 2.593% )\n",
      "Gaussian Naive Bayes           \t: 60.115% ( (+/-) 2.599% )\n"
     ]
    }
   ],
   "source": [
    "#adaptive smote\n",
    "print_evaluation_results(results, names)"
   ]
  },
  {
   "cell_type": "markdown",
   "metadata": {},
   "source": [
    "**Conclusion** : The adaptive SMOTE ADASYN gives the highest accuracy with minimum variability."
   ]
  },
  {
   "cell_type": "code",
   "execution_count": 106,
   "metadata": {},
   "outputs": [
    {
     "data": {
      "text/html": [
       "\n",
       "        <iframe\n",
       "            width=\"900\"\n",
       "            height=\"600\"\n",
       "            src=\"figures/ransomware/evaluation_count_apistats.html\"\n",
       "            frameborder=\"0\"\n",
       "            allowfullscreen\n",
       "        ></iframe>\n",
       "        "
      ],
      "text/plain": [
       "<IPython.lib.display.IFrame at 0x25e98c0b8e0>"
      ]
     },
     "execution_count": 106,
     "metadata": {},
     "output_type": "execute_result"
    }
   ],
   "source": [
    "fig = plot_evaluation_boxplots(results, names, title = 'Models Performance On Count Encoded \"apistats\" Data', y_axis = 'Accuracy')\n",
    "\n",
    "figure_path = 'figures/ransomware/evaluation_count_apistats.html'\n",
    "\n",
    "save_figures_to_html(figure_path, [fig])\n",
    "\n",
    "IFrame(figure_path, width=900, height=600)"
   ]
  },
  {
   "cell_type": "markdown",
   "metadata": {},
   "source": [
    "### 2. dll_loaded (one-hot encoded)"
   ]
  },
  {
   "cell_type": "code",
   "execution_count": 109,
   "metadata": {},
   "outputs": [
    {
     "name": "stdout",
     "output_type": "stream",
     "text": [
      "Class distribution:\n",
      "malware      : 1875\n",
      "ransomware   : 293\n",
      "\n",
      "Majority class classifier accuracy = 86.49%\n"
     ]
    },
    {
     "data": {
      "text/html": [
       "<div>\n",
       "<style scoped>\n",
       "    .dataframe tbody tr th:only-of-type {\n",
       "        vertical-align: middle;\n",
       "    }\n",
       "\n",
       "    .dataframe tbody tr th {\n",
       "        vertical-align: top;\n",
       "    }\n",
       "\n",
       "    .dataframe thead th {\n",
       "        text-align: right;\n",
       "    }\n",
       "</style>\n",
       "<table border=\"1\" class=\"dataframe\">\n",
       "  <thead>\n",
       "    <tr style=\"text-align: right;\">\n",
       "      <th></th>\n",
       "      <th>advapi32</th>\n",
       "      <th>user32</th>\n",
       "      <th>api-ms-win-service-management-l2-1-0</th>\n",
       "      <th>shell32</th>\n",
       "      <th>mlang</th>\n",
       "      <th>c:/windows/system32/wbem/wbemsvc</th>\n",
       "      <th>wininet</th>\n",
       "      <th>sspicli</th>\n",
       "      <th>wintrust</th>\n",
       "      <th>api-ms-win-security-sddl-l1-1-0</th>\n",
       "      <th>...</th>\n",
       "      <th>c:/program files (x86)/mozilla firefox/mozcrt19</th>\n",
       "      <th>c:/windows/syswow64/28463/kgcu</th>\n",
       "      <th>kgcu</th>\n",
       "      <th>c:/windows/winsxs/amd64_microsoft.vc80.crt_1fc8b3b9a1e18e3b_8.0.50727.4940_none_88df89932faf0bf6/msvcr80</th>\n",
       "      <th>c:/windows/winsxs/amd64_microsoft.vc80.crt_1fc8b3b9a1e18e3b_8.0.50727.4940_none_88df89932faf0bf6/msvcm80</th>\n",
       "      <th>c:/windows/microsoft.net/framework64/v2.0.50727/version</th>\n",
       "      <th>idndl</th>\n",
       "      <th>msvcr100</th>\n",
       "      <th>c:/windows/system32/hhctrl</th>\n",
       "      <th>c:/windows/dxgidebug</th>\n",
       "    </tr>\n",
       "    <tr>\n",
       "      <th>md5</th>\n",
       "      <th></th>\n",
       "      <th></th>\n",
       "      <th></th>\n",
       "      <th></th>\n",
       "      <th></th>\n",
       "      <th></th>\n",
       "      <th></th>\n",
       "      <th></th>\n",
       "      <th></th>\n",
       "      <th></th>\n",
       "      <th></th>\n",
       "      <th></th>\n",
       "      <th></th>\n",
       "      <th></th>\n",
       "      <th></th>\n",
       "      <th></th>\n",
       "      <th></th>\n",
       "      <th></th>\n",
       "      <th></th>\n",
       "      <th></th>\n",
       "      <th></th>\n",
       "    </tr>\n",
       "  </thead>\n",
       "  <tbody>\n",
       "    <tr>\n",
       "      <th>000a3ea381d7d70be8b6fe1ee51dca22</th>\n",
       "      <td>1</td>\n",
       "      <td>1</td>\n",
       "      <td>1</td>\n",
       "      <td>1</td>\n",
       "      <td>1</td>\n",
       "      <td>1</td>\n",
       "      <td>1</td>\n",
       "      <td>1</td>\n",
       "      <td>1</td>\n",
       "      <td>1</td>\n",
       "      <td>...</td>\n",
       "      <td>0</td>\n",
       "      <td>0</td>\n",
       "      <td>0</td>\n",
       "      <td>0</td>\n",
       "      <td>0</td>\n",
       "      <td>0</td>\n",
       "      <td>0</td>\n",
       "      <td>0</td>\n",
       "      <td>0</td>\n",
       "      <td>0</td>\n",
       "    </tr>\n",
       "    <tr>\n",
       "      <th>001cfa63ad79aaf3e4a2b85a2e7f227f</th>\n",
       "      <td>1</td>\n",
       "      <td>0</td>\n",
       "      <td>0</td>\n",
       "      <td>1</td>\n",
       "      <td>0</td>\n",
       "      <td>0</td>\n",
       "      <td>0</td>\n",
       "      <td>0</td>\n",
       "      <td>0</td>\n",
       "      <td>0</td>\n",
       "      <td>...</td>\n",
       "      <td>0</td>\n",
       "      <td>0</td>\n",
       "      <td>0</td>\n",
       "      <td>0</td>\n",
       "      <td>0</td>\n",
       "      <td>0</td>\n",
       "      <td>0</td>\n",
       "      <td>0</td>\n",
       "      <td>0</td>\n",
       "      <td>0</td>\n",
       "    </tr>\n",
       "    <tr>\n",
       "      <th>003e845bdcc5367220bf13f7170da16f</th>\n",
       "      <td>0</td>\n",
       "      <td>0</td>\n",
       "      <td>0</td>\n",
       "      <td>0</td>\n",
       "      <td>0</td>\n",
       "      <td>0</td>\n",
       "      <td>0</td>\n",
       "      <td>0</td>\n",
       "      <td>0</td>\n",
       "      <td>0</td>\n",
       "      <td>...</td>\n",
       "      <td>0</td>\n",
       "      <td>0</td>\n",
       "      <td>0</td>\n",
       "      <td>0</td>\n",
       "      <td>0</td>\n",
       "      <td>0</td>\n",
       "      <td>0</td>\n",
       "      <td>0</td>\n",
       "      <td>0</td>\n",
       "      <td>0</td>\n",
       "    </tr>\n",
       "    <tr>\n",
       "      <th>00bb04604996c97b7b4f8b2c767c0f40</th>\n",
       "      <td>0</td>\n",
       "      <td>0</td>\n",
       "      <td>0</td>\n",
       "      <td>0</td>\n",
       "      <td>0</td>\n",
       "      <td>0</td>\n",
       "      <td>0</td>\n",
       "      <td>0</td>\n",
       "      <td>0</td>\n",
       "      <td>0</td>\n",
       "      <td>...</td>\n",
       "      <td>0</td>\n",
       "      <td>0</td>\n",
       "      <td>0</td>\n",
       "      <td>0</td>\n",
       "      <td>0</td>\n",
       "      <td>0</td>\n",
       "      <td>0</td>\n",
       "      <td>0</td>\n",
       "      <td>0</td>\n",
       "      <td>0</td>\n",
       "    </tr>\n",
       "    <tr>\n",
       "      <th>00cc33352ae8e526f7533119fb823cb1</th>\n",
       "      <td>1</td>\n",
       "      <td>1</td>\n",
       "      <td>0</td>\n",
       "      <td>0</td>\n",
       "      <td>0</td>\n",
       "      <td>0</td>\n",
       "      <td>0</td>\n",
       "      <td>0</td>\n",
       "      <td>0</td>\n",
       "      <td>0</td>\n",
       "      <td>...</td>\n",
       "      <td>0</td>\n",
       "      <td>0</td>\n",
       "      <td>0</td>\n",
       "      <td>0</td>\n",
       "      <td>0</td>\n",
       "      <td>0</td>\n",
       "      <td>0</td>\n",
       "      <td>0</td>\n",
       "      <td>0</td>\n",
       "      <td>0</td>\n",
       "    </tr>\n",
       "  </tbody>\n",
       "</table>\n",
       "<p>5 rows × 821 columns</p>\n",
       "</div>"
      ],
      "text/plain": [
       "                                  advapi32  user32  \\\n",
       "md5                                                  \n",
       "000a3ea381d7d70be8b6fe1ee51dca22         1       1   \n",
       "001cfa63ad79aaf3e4a2b85a2e7f227f         1       0   \n",
       "003e845bdcc5367220bf13f7170da16f         0       0   \n",
       "00bb04604996c97b7b4f8b2c767c0f40         0       0   \n",
       "00cc33352ae8e526f7533119fb823cb1         1       1   \n",
       "\n",
       "                                  api-ms-win-service-management-l2-1-0  \\\n",
       "md5                                                                      \n",
       "000a3ea381d7d70be8b6fe1ee51dca22                                     1   \n",
       "001cfa63ad79aaf3e4a2b85a2e7f227f                                     0   \n",
       "003e845bdcc5367220bf13f7170da16f                                     0   \n",
       "00bb04604996c97b7b4f8b2c767c0f40                                     0   \n",
       "00cc33352ae8e526f7533119fb823cb1                                     0   \n",
       "\n",
       "                                  shell32  mlang  \\\n",
       "md5                                                \n",
       "000a3ea381d7d70be8b6fe1ee51dca22        1      1   \n",
       "001cfa63ad79aaf3e4a2b85a2e7f227f        1      0   \n",
       "003e845bdcc5367220bf13f7170da16f        0      0   \n",
       "00bb04604996c97b7b4f8b2c767c0f40        0      0   \n",
       "00cc33352ae8e526f7533119fb823cb1        0      0   \n",
       "\n",
       "                                  c:/windows/system32/wbem/wbemsvc  wininet  \\\n",
       "md5                                                                           \n",
       "000a3ea381d7d70be8b6fe1ee51dca22                                 1        1   \n",
       "001cfa63ad79aaf3e4a2b85a2e7f227f                                 0        0   \n",
       "003e845bdcc5367220bf13f7170da16f                                 0        0   \n",
       "00bb04604996c97b7b4f8b2c767c0f40                                 0        0   \n",
       "00cc33352ae8e526f7533119fb823cb1                                 0        0   \n",
       "\n",
       "                                  sspicli  wintrust  \\\n",
       "md5                                                   \n",
       "000a3ea381d7d70be8b6fe1ee51dca22        1         1   \n",
       "001cfa63ad79aaf3e4a2b85a2e7f227f        0         0   \n",
       "003e845bdcc5367220bf13f7170da16f        0         0   \n",
       "00bb04604996c97b7b4f8b2c767c0f40        0         0   \n",
       "00cc33352ae8e526f7533119fb823cb1        0         0   \n",
       "\n",
       "                                  api-ms-win-security-sddl-l1-1-0  ...  \\\n",
       "md5                                                                ...   \n",
       "000a3ea381d7d70be8b6fe1ee51dca22                                1  ...   \n",
       "001cfa63ad79aaf3e4a2b85a2e7f227f                                0  ...   \n",
       "003e845bdcc5367220bf13f7170da16f                                0  ...   \n",
       "00bb04604996c97b7b4f8b2c767c0f40                                0  ...   \n",
       "00cc33352ae8e526f7533119fb823cb1                                0  ...   \n",
       "\n",
       "                                  c:/program files (x86)/mozilla firefox/mozcrt19  \\\n",
       "md5                                                                                 \n",
       "000a3ea381d7d70be8b6fe1ee51dca22                                                0   \n",
       "001cfa63ad79aaf3e4a2b85a2e7f227f                                                0   \n",
       "003e845bdcc5367220bf13f7170da16f                                                0   \n",
       "00bb04604996c97b7b4f8b2c767c0f40                                                0   \n",
       "00cc33352ae8e526f7533119fb823cb1                                                0   \n",
       "\n",
       "                                  c:/windows/syswow64/28463/kgcu  kgcu  \\\n",
       "md5                                                                      \n",
       "000a3ea381d7d70be8b6fe1ee51dca22                               0     0   \n",
       "001cfa63ad79aaf3e4a2b85a2e7f227f                               0     0   \n",
       "003e845bdcc5367220bf13f7170da16f                               0     0   \n",
       "00bb04604996c97b7b4f8b2c767c0f40                               0     0   \n",
       "00cc33352ae8e526f7533119fb823cb1                               0     0   \n",
       "\n",
       "                                  c:/windows/winsxs/amd64_microsoft.vc80.crt_1fc8b3b9a1e18e3b_8.0.50727.4940_none_88df89932faf0bf6/msvcr80  \\\n",
       "md5                                                                                                                                          \n",
       "000a3ea381d7d70be8b6fe1ee51dca22                                                  0                                                          \n",
       "001cfa63ad79aaf3e4a2b85a2e7f227f                                                  0                                                          \n",
       "003e845bdcc5367220bf13f7170da16f                                                  0                                                          \n",
       "00bb04604996c97b7b4f8b2c767c0f40                                                  0                                                          \n",
       "00cc33352ae8e526f7533119fb823cb1                                                  0                                                          \n",
       "\n",
       "                                  c:/windows/winsxs/amd64_microsoft.vc80.crt_1fc8b3b9a1e18e3b_8.0.50727.4940_none_88df89932faf0bf6/msvcm80  \\\n",
       "md5                                                                                                                                          \n",
       "000a3ea381d7d70be8b6fe1ee51dca22                                                  0                                                          \n",
       "001cfa63ad79aaf3e4a2b85a2e7f227f                                                  0                                                          \n",
       "003e845bdcc5367220bf13f7170da16f                                                  0                                                          \n",
       "00bb04604996c97b7b4f8b2c767c0f40                                                  0                                                          \n",
       "00cc33352ae8e526f7533119fb823cb1                                                  0                                                          \n",
       "\n",
       "                                  c:/windows/microsoft.net/framework64/v2.0.50727/version  \\\n",
       "md5                                                                                         \n",
       "000a3ea381d7d70be8b6fe1ee51dca22                                                  0         \n",
       "001cfa63ad79aaf3e4a2b85a2e7f227f                                                  0         \n",
       "003e845bdcc5367220bf13f7170da16f                                                  0         \n",
       "00bb04604996c97b7b4f8b2c767c0f40                                                  0         \n",
       "00cc33352ae8e526f7533119fb823cb1                                                  0         \n",
       "\n",
       "                                  idndl  msvcr100  c:/windows/system32/hhctrl  \\\n",
       "md5                                                                             \n",
       "000a3ea381d7d70be8b6fe1ee51dca22      0         0                           0   \n",
       "001cfa63ad79aaf3e4a2b85a2e7f227f      0         0                           0   \n",
       "003e845bdcc5367220bf13f7170da16f      0         0                           0   \n",
       "00bb04604996c97b7b4f8b2c767c0f40      0         0                           0   \n",
       "00cc33352ae8e526f7533119fb823cb1      0         0                           0   \n",
       "\n",
       "                                  c:/windows/dxgidebug  \n",
       "md5                                                     \n",
       "000a3ea381d7d70be8b6fe1ee51dca22                     0  \n",
       "001cfa63ad79aaf3e4a2b85a2e7f227f                     0  \n",
       "003e845bdcc5367220bf13f7170da16f                     0  \n",
       "00bb04604996c97b7b4f8b2c767c0f40                     0  \n",
       "00cc33352ae8e526f7533119fb823cb1                     0  \n",
       "\n",
       "[5 rows x 821 columns]"
      ]
     },
     "execution_count": 109,
     "metadata": {},
     "output_type": "execute_result"
    }
   ],
   "source": [
    "df = datasets['loaded_dll_onehot']\n",
    "class_distribution(df, label='sublabel')\n",
    "df.head()"
   ]
  },
  {
   "cell_type": "code",
   "execution_count": 111,
   "metadata": {
    "scrolled": false
   },
   "outputs": [
    {
     "name": "stdout",
     "output_type": "stream",
     "text": [
      "Cross-validation 8 models required a duration of 93.55 seconds\n"
     ]
    }
   ],
   "source": [
    "start = time.time()\n",
    "\n",
    "names, results = get_evaluation_results(df, label='sublabel')\n",
    "\n",
    "print(f'Cross-validation {len(names)} models required a duration of {time.time()-start:.2f} seconds')"
   ]
  },
  {
   "cell_type": "code",
   "execution_count": 131,
   "metadata": {},
   "outputs": [
    {
     "name": "stdout",
     "output_type": "stream",
     "text": [
      "The new class distribution after SAMPLING strategy : {'malware': 1192, 'ransomware': 954}\n",
      "Cross-validation 8 models required a duration of 87.02 seconds\n"
     ]
    }
   ],
   "source": [
    "start = time.time()\n",
    "\n",
    "#create a smote pipeline\n",
    "X, y = get_X_y(df, label='sublabel')\n",
    "\n",
    "smote_params = {\n",
    "    'category' : 'adaptive',\n",
    "    'over_strategy' : 0.5,\n",
    "    'under_strategy' : 0.8,\n",
    "    'k_neighbors' : 5,\n",
    "}\n",
    "\n",
    "smoter = smote(X, y, **smote_params, fit=False)\n",
    "\n",
    "print_new_distribution(X, y, smote_params)\n",
    "\n",
    "\n",
    "#compute cross-validation scores\n",
    "names, results = get_evaluation_results(df = df, \n",
    "                                        label='sublabel', \n",
    "                                        smoter=smoter, \n",
    "                                        scaler=MinMaxScaler(),\n",
    "                                        scoring ='accuracy')\n",
    "\n",
    "print(f'Cross-validation {len(names)} models required a duration of {time.time()-start:.2f} seconds')"
   ]
  },
  {
   "cell_type": "code",
   "execution_count": 125,
   "metadata": {},
   "outputs": [
    {
     "name": "stdout",
     "output_type": "stream",
     "text": [
      "LogisticRegression             \t: 89.171% ( (+/-) 3.654% )\n",
      "KNN                            \t: 86.605% ( (+/-) 4.136% )\n",
      "Decision tree                  \t: 92.166% ( (+/-) 2.821% )\n",
      "Random Forest                  \t: 93.765% ( (+/-) 3.144% )\n",
      "SVM                            \t: 89.171% ( (+/-) 3.841% )\n",
      "RegularNets                    \t: 92.166% ( (+/-) 2.895% )\n",
      "LDA                            \t: 84.064% ( (+/-) 3.592% )\n",
      "Gaussian Naive Bayes           \t: 55.300% ( (+/-) 4.434% )\n"
     ]
    }
   ],
   "source": [
    "print_evaluation_results(results, names)"
   ]
  },
  {
   "cell_type": "code",
   "execution_count": 132,
   "metadata": {},
   "outputs": [
    {
     "data": {
      "text/html": [
       "\n",
       "        <iframe\n",
       "            width=\"900\"\n",
       "            height=\"600\"\n",
       "            src=\"figures/ransomware/evaluation_onehot_dll_data.html\"\n",
       "            frameborder=\"0\"\n",
       "            allowfullscreen\n",
       "        ></iframe>\n",
       "        "
      ],
      "text/plain": [
       "<IPython.lib.display.IFrame at 0x25e99a1db80>"
      ]
     },
     "execution_count": 132,
     "metadata": {},
     "output_type": "execute_result"
    }
   ],
   "source": [
    "fig = plot_evaluation_boxplots(results, names, title = 'Models Performance On One-Hot Encoded \"dll_loaded\" Data', y_axis = 'Accuracy')\n",
    "\n",
    "figure_path = 'figures/ransomware/evaluation_onehot_dll_data.html'\n",
    "\n",
    "save_figures_to_html(figure_path, [fig])\n",
    "\n",
    "IFrame(figure_path, width=900, height=600)"
   ]
  },
  {
   "cell_type": "markdown",
   "metadata": {},
   "source": [
    "### 3. File operations "
   ]
  },
  {
   "cell_type": "markdown",
   "metadata": {},
   "source": [
    "In this section we'll study the summary information about file operations. As for the specific nested file operation of each category, as they are composed of a number of features in the order of 10k, we'll study them in the feature selection notebook, in order to perform variable selection before training."
   ]
  },
  {
   "cell_type": "markdown",
   "metadata": {},
   "source": [
    "**File Operations (Counts Summary)**"
   ]
  },
  {
   "cell_type": "code",
   "execution_count": 126,
   "metadata": {},
   "outputs": [
    {
     "name": "stdout",
     "output_type": "stream",
     "text": [
      "Class distribution:\n",
      "malware      : 1981\n",
      "ransomware   : 411\n",
      "\n",
      "Majority class classifier accuracy = 82.82%\n"
     ]
    },
    {
     "data": {
      "text/html": [
       "<div>\n",
       "<style scoped>\n",
       "    .dataframe tbody tr th:only-of-type {\n",
       "        vertical-align: middle;\n",
       "    }\n",
       "\n",
       "    .dataframe tbody tr th {\n",
       "        vertical-align: top;\n",
       "    }\n",
       "\n",
       "    .dataframe thead th {\n",
       "        text-align: right;\n",
       "    }\n",
       "</style>\n",
       "<table border=\"1\" class=\"dataframe\">\n",
       "  <thead>\n",
       "    <tr style=\"text-align: right;\">\n",
       "      <th></th>\n",
       "      <th>file_opened</th>\n",
       "      <th>file_read</th>\n",
       "      <th>file_created</th>\n",
       "      <th>file_moved</th>\n",
       "      <th>file_written</th>\n",
       "      <th>file_recreated</th>\n",
       "      <th>file_failed</th>\n",
       "      <th>file_deleted</th>\n",
       "      <th>file_exists</th>\n",
       "      <th>label</th>\n",
       "      <th>sublabel</th>\n",
       "      <th>file_copied</th>\n",
       "    </tr>\n",
       "    <tr>\n",
       "      <th>md5</th>\n",
       "      <th></th>\n",
       "      <th></th>\n",
       "      <th></th>\n",
       "      <th></th>\n",
       "      <th></th>\n",
       "      <th></th>\n",
       "      <th></th>\n",
       "      <th></th>\n",
       "      <th></th>\n",
       "      <th></th>\n",
       "      <th></th>\n",
       "      <th></th>\n",
       "    </tr>\n",
       "  </thead>\n",
       "  <tbody>\n",
       "    <tr>\n",
       "      <th>000a3ea381d7d70be8b6fe1ee51dca22</th>\n",
       "      <td>69</td>\n",
       "      <td>18</td>\n",
       "      <td>16</td>\n",
       "      <td>1</td>\n",
       "      <td>18</td>\n",
       "      <td>7</td>\n",
       "      <td>7</td>\n",
       "      <td>6</td>\n",
       "      <td>37</td>\n",
       "      <td>1</td>\n",
       "      <td>1</td>\n",
       "      <td>0</td>\n",
       "    </tr>\n",
       "    <tr>\n",
       "      <th>001cfa63ad79aaf3e4a2b85a2e7f227f</th>\n",
       "      <td>2</td>\n",
       "      <td>0</td>\n",
       "      <td>0</td>\n",
       "      <td>1</td>\n",
       "      <td>0</td>\n",
       "      <td>0</td>\n",
       "      <td>1</td>\n",
       "      <td>0</td>\n",
       "      <td>4</td>\n",
       "      <td>1</td>\n",
       "      <td>1</td>\n",
       "      <td>0</td>\n",
       "    </tr>\n",
       "    <tr>\n",
       "      <th>003e845bdcc5367220bf13f7170da16f</th>\n",
       "      <td>7</td>\n",
       "      <td>1</td>\n",
       "      <td>3</td>\n",
       "      <td>0</td>\n",
       "      <td>2</td>\n",
       "      <td>0</td>\n",
       "      <td>0</td>\n",
       "      <td>0</td>\n",
       "      <td>4</td>\n",
       "      <td>1</td>\n",
       "      <td>1</td>\n",
       "      <td>0</td>\n",
       "    </tr>\n",
       "    <tr>\n",
       "      <th>00bb04604996c97b7b4f8b2c767c0f40</th>\n",
       "      <td>0</td>\n",
       "      <td>0</td>\n",
       "      <td>0</td>\n",
       "      <td>0</td>\n",
       "      <td>0</td>\n",
       "      <td>0</td>\n",
       "      <td>0</td>\n",
       "      <td>0</td>\n",
       "      <td>4</td>\n",
       "      <td>1</td>\n",
       "      <td>1</td>\n",
       "      <td>0</td>\n",
       "    </tr>\n",
       "    <tr>\n",
       "      <th>00cc33352ae8e526f7533119fb823cb1</th>\n",
       "      <td>0</td>\n",
       "      <td>0</td>\n",
       "      <td>0</td>\n",
       "      <td>0</td>\n",
       "      <td>0</td>\n",
       "      <td>0</td>\n",
       "      <td>0</td>\n",
       "      <td>0</td>\n",
       "      <td>0</td>\n",
       "      <td>1</td>\n",
       "      <td>1</td>\n",
       "      <td>0</td>\n",
       "    </tr>\n",
       "  </tbody>\n",
       "</table>\n",
       "</div>"
      ],
      "text/plain": [
       "                                  file_opened  file_read  file_created  \\\n",
       "md5                                                                      \n",
       "000a3ea381d7d70be8b6fe1ee51dca22           69         18            16   \n",
       "001cfa63ad79aaf3e4a2b85a2e7f227f            2          0             0   \n",
       "003e845bdcc5367220bf13f7170da16f            7          1             3   \n",
       "00bb04604996c97b7b4f8b2c767c0f40            0          0             0   \n",
       "00cc33352ae8e526f7533119fb823cb1            0          0             0   \n",
       "\n",
       "                                  file_moved  file_written  file_recreated  \\\n",
       "md5                                                                          \n",
       "000a3ea381d7d70be8b6fe1ee51dca22           1            18               7   \n",
       "001cfa63ad79aaf3e4a2b85a2e7f227f           1             0               0   \n",
       "003e845bdcc5367220bf13f7170da16f           0             2               0   \n",
       "00bb04604996c97b7b4f8b2c767c0f40           0             0               0   \n",
       "00cc33352ae8e526f7533119fb823cb1           0             0               0   \n",
       "\n",
       "                                  file_failed  file_deleted  file_exists  \\\n",
       "md5                                                                        \n",
       "000a3ea381d7d70be8b6fe1ee51dca22            7             6           37   \n",
       "001cfa63ad79aaf3e4a2b85a2e7f227f            1             0            4   \n",
       "003e845bdcc5367220bf13f7170da16f            0             0            4   \n",
       "00bb04604996c97b7b4f8b2c767c0f40            0             0            4   \n",
       "00cc33352ae8e526f7533119fb823cb1            0             0            0   \n",
       "\n",
       "                                  label  sublabel  file_copied  \n",
       "md5                                                             \n",
       "000a3ea381d7d70be8b6fe1ee51dca22      1         1            0  \n",
       "001cfa63ad79aaf3e4a2b85a2e7f227f      1         1            0  \n",
       "003e845bdcc5367220bf13f7170da16f      1         1            0  \n",
       "00bb04604996c97b7b4f8b2c767c0f40      1         1            0  \n",
       "00cc33352ae8e526f7533119fb823cb1      1         1            0  "
      ]
     },
     "execution_count": 126,
     "metadata": {},
     "output_type": "execute_result"
    }
   ],
   "source": [
    "df = datasets['fileops_summary']\n",
    "class_distribution(df, label='sublabel')\n",
    "df.head()"
   ]
  },
  {
   "cell_type": "code",
   "execution_count": 127,
   "metadata": {},
   "outputs": [
    {
     "name": "stdout",
     "output_type": "stream",
     "text": [
      "The new class distribution after SAMPLING strategy : {'malware': 1188, 'ransomware': 951}\n",
      "Cross-validation 8 models required a duration of 77.37 seconds\n"
     ]
    }
   ],
   "source": [
    "start = time.time()\n",
    "\n",
    "#create a smote pipeline\n",
    "X, y = get_X_y(df, label='sublabel')\n",
    "\n",
    "smote_params = {\n",
    "    'category' : 'adaptive',\n",
    "    'over_strategy' : 0.5,\n",
    "    'under_strategy' : 0.8,\n",
    "    'k_neighbors' : 5,\n",
    "}\n",
    "\n",
    "smoter = smote(X, y, **smote_params, fit=False)\n",
    "\n",
    "print_new_distribution(X, y, smote_params)\n",
    "\n",
    "\n",
    "#compute cross-validation scores\n",
    "names, results = get_evaluation_results(df = df, \n",
    "                                        label='sublabel', \n",
    "                                        smoter=smoter, \n",
    "                                        scaler=MinMaxScaler(),\n",
    "                                        scoring ='accuracy')\n",
    "\n",
    "print(f'Cross-validation {len(names)} models required a duration of {time.time()-start:.2f} seconds')"
   ]
  },
  {
   "cell_type": "code",
   "execution_count": 128,
   "metadata": {},
   "outputs": [
    {
     "name": "stdout",
     "output_type": "stream",
     "text": [
      "LogisticRegression             \t: 82.845% ( (+/-) 0.533% )\n",
      "KNN                            \t: 87.657% ( (+/-) 3.403% )\n",
      "Decision tree                  \t: 90.377% ( (+/-) 2.089% )\n",
      "Random Forest                  \t: 92.469% ( (+/-) 2.603% )\n",
      "SVM                            \t: 81.420% ( (+/-) 14.718% )\n",
      "RegularNets                    \t: 82.427% ( (+/-) 1.505% )\n",
      "LDA                            \t: 82.427% ( (+/-) 0.799% )\n",
      "Gaussian Naive Bayes           \t: 79.541% ( (+/-) 24.767% )\n"
     ]
    }
   ],
   "source": [
    "print_evaluation_results(results, names)"
   ]
  },
  {
   "cell_type": "code",
   "execution_count": 130,
   "metadata": {},
   "outputs": [
    {
     "data": {
      "text/html": [
       "\n",
       "        <iframe\n",
       "            width=\"900\"\n",
       "            height=\"600\"\n",
       "            src=\"figures/ransomware/evaluation_file_operation_counts.html\"\n",
       "            frameborder=\"0\"\n",
       "            allowfullscreen\n",
       "        ></iframe>\n",
       "        "
      ],
      "text/plain": [
       "<IPython.lib.display.IFrame at 0x25e99abe310>"
      ]
     },
     "execution_count": 130,
     "metadata": {},
     "output_type": "execute_result"
    }
   ],
   "source": [
    "fig = plot_evaluation_boxplots(results, names, title = 'Models Performance On File Operation Counts Data', y_axis = 'Accuracy')\n",
    "\n",
    "figure_path = 'figures/ransomware/evaluation_file_operation_counts.html'\n",
    "\n",
    "save_figures_to_html(figure_path, [fig])\n",
    "\n",
    "IFrame(figure_path, width=900, height=600)"
   ]
  },
  {
   "cell_type": "markdown",
   "metadata": {},
   "source": [
    "### 4. Registry Key Operations"
   ]
  },
  {
   "cell_type": "markdown",
   "metadata": {},
   "source": [
    "In this section we'll study the summary information about registry key operations. As for the specific nested registry keys of each category, as they are composed of a number of features in the order of 10k, we'll study them in the feature selection notebook, in order to perform variable selection before training."
   ]
  },
  {
   "cell_type": "markdown",
   "metadata": {},
   "source": [
    "**Registry Key Operations (Counts Summary)**"
   ]
  },
  {
   "cell_type": "code",
   "execution_count": 135,
   "metadata": {},
   "outputs": [
    {
     "name": "stdout",
     "output_type": "stream",
     "text": [
      "Class distribution:\n",
      "malware      : 1981\n",
      "ransomware   : 411\n",
      "\n",
      "Majority class classifier accuracy = 82.82%\n"
     ]
    },
    {
     "data": {
      "text/html": [
       "<div>\n",
       "<style scoped>\n",
       "    .dataframe tbody tr th:only-of-type {\n",
       "        vertical-align: middle;\n",
       "    }\n",
       "\n",
       "    .dataframe tbody tr th {\n",
       "        vertical-align: top;\n",
       "    }\n",
       "\n",
       "    .dataframe thead th {\n",
       "        text-align: right;\n",
       "    }\n",
       "</style>\n",
       "<table border=\"1\" class=\"dataframe\">\n",
       "  <thead>\n",
       "    <tr style=\"text-align: right;\">\n",
       "      <th></th>\n",
       "      <th>regkey_opened</th>\n",
       "      <th>regkey_written</th>\n",
       "      <th>regkey_deleted</th>\n",
       "      <th>regkey_read</th>\n",
       "      <th>label</th>\n",
       "      <th>sublabel</th>\n",
       "    </tr>\n",
       "    <tr>\n",
       "      <th>md5</th>\n",
       "      <th></th>\n",
       "      <th></th>\n",
       "      <th></th>\n",
       "      <th></th>\n",
       "      <th></th>\n",
       "      <th></th>\n",
       "    </tr>\n",
       "  </thead>\n",
       "  <tbody>\n",
       "    <tr>\n",
       "      <th>000a3ea381d7d70be8b6fe1ee51dca22</th>\n",
       "      <td>222</td>\n",
       "      <td>60</td>\n",
       "      <td>4</td>\n",
       "      <td>561</td>\n",
       "      <td>1</td>\n",
       "      <td>1</td>\n",
       "    </tr>\n",
       "    <tr>\n",
       "      <th>001cfa63ad79aaf3e4a2b85a2e7f227f</th>\n",
       "      <td>9</td>\n",
       "      <td>0</td>\n",
       "      <td>0</td>\n",
       "      <td>5</td>\n",
       "      <td>1</td>\n",
       "      <td>1</td>\n",
       "    </tr>\n",
       "    <tr>\n",
       "      <th>003e845bdcc5367220bf13f7170da16f</th>\n",
       "      <td>3</td>\n",
       "      <td>1</td>\n",
       "      <td>0</td>\n",
       "      <td>9</td>\n",
       "      <td>1</td>\n",
       "      <td>1</td>\n",
       "    </tr>\n",
       "    <tr>\n",
       "      <th>00bb04604996c97b7b4f8b2c767c0f40</th>\n",
       "      <td>1</td>\n",
       "      <td>0</td>\n",
       "      <td>0</td>\n",
       "      <td>6</td>\n",
       "      <td>1</td>\n",
       "      <td>1</td>\n",
       "    </tr>\n",
       "    <tr>\n",
       "      <th>00cc33352ae8e526f7533119fb823cb1</th>\n",
       "      <td>0</td>\n",
       "      <td>0</td>\n",
       "      <td>0</td>\n",
       "      <td>0</td>\n",
       "      <td>1</td>\n",
       "      <td>1</td>\n",
       "    </tr>\n",
       "  </tbody>\n",
       "</table>\n",
       "</div>"
      ],
      "text/plain": [
       "                                  regkey_opened  regkey_written  \\\n",
       "md5                                                               \n",
       "000a3ea381d7d70be8b6fe1ee51dca22            222              60   \n",
       "001cfa63ad79aaf3e4a2b85a2e7f227f              9               0   \n",
       "003e845bdcc5367220bf13f7170da16f              3               1   \n",
       "00bb04604996c97b7b4f8b2c767c0f40              1               0   \n",
       "00cc33352ae8e526f7533119fb823cb1              0               0   \n",
       "\n",
       "                                  regkey_deleted  regkey_read  label  sublabel  \n",
       "md5                                                                             \n",
       "000a3ea381d7d70be8b6fe1ee51dca22               4          561      1         1  \n",
       "001cfa63ad79aaf3e4a2b85a2e7f227f               0            5      1         1  \n",
       "003e845bdcc5367220bf13f7170da16f               0            9      1         1  \n",
       "00bb04604996c97b7b4f8b2c767c0f40               0            6      1         1  \n",
       "00cc33352ae8e526f7533119fb823cb1               0            0      1         1  "
      ]
     },
     "execution_count": 135,
     "metadata": {},
     "output_type": "execute_result"
    }
   ],
   "source": [
    "df = datasets['regkeys_summary']\n",
    "class_distribution(df, label='sublabel')\n",
    "df.head()"
   ]
  },
  {
   "cell_type": "code",
   "execution_count": 136,
   "metadata": {},
   "outputs": [
    {
     "name": "stdout",
     "output_type": "stream",
     "text": [
      "The new class distribution after SAMPLING strategy : {'malware': 1155, 'ransomware': 924}\n",
      "Cross-validation 8 models required a duration of 74.01 seconds\n"
     ]
    }
   ],
   "source": [
    "start = time.time()\n",
    "\n",
    "#create a smote pipeline\n",
    "X, y = get_X_y(df, label='sublabel')\n",
    "\n",
    "smote_params = {\n",
    "    'category' : 'adaptive',\n",
    "    'over_strategy' : 0.5,\n",
    "    'under_strategy' : 0.8,\n",
    "    'k_neighbors' : 5,\n",
    "}\n",
    "\n",
    "smoter = smote(X, y, **smote_params, fit=False)\n",
    "\n",
    "print_new_distribution(X, y, smote_params)\n",
    "\n",
    "\n",
    "#compute cross-validation scores\n",
    "names, results = get_evaluation_results(df = df, \n",
    "                                        label='sublabel', \n",
    "                                        smoter=smoter, \n",
    "                                        scaler=MinMaxScaler(),\n",
    "                                        scoring ='accuracy')\n",
    "\n",
    "print(f'Cross-validation {len(names)} models required a duration of {time.time()-start:.2f} seconds')"
   ]
  },
  {
   "cell_type": "code",
   "execution_count": 137,
   "metadata": {},
   "outputs": [
    {
     "name": "stdout",
     "output_type": "stream",
     "text": [
      "LogisticRegression             \t: 54.071% ( (+/-) 6.116% )\n",
      "KNN                            \t: 86.611% ( (+/-) 2.683% )\n",
      "Decision tree                  \t: 87.238% ( (+/-) 2.764% )\n",
      "Random Forest                  \t: 87.657% ( (+/-) 2.982% )\n",
      "SVM                            \t: 52.720% ( (+/-) 2.173% )\n",
      "RegularNets                    \t: 54.393% ( (+/-) 3.101% )\n",
      "LDA                            \t: 50.105% ( (+/-) 4.028% )\n",
      "Gaussian Naive Bayes           \t: 46.138% ( (+/-) 3.400% )\n"
     ]
    }
   ],
   "source": [
    "print_evaluation_results(results, names)"
   ]
  },
  {
   "cell_type": "code",
   "execution_count": 138,
   "metadata": {},
   "outputs": [
    {
     "data": {
      "text/html": [
       "\n",
       "        <iframe\n",
       "            width=\"900\"\n",
       "            height=\"600\"\n",
       "            src=\"figures/ransomware/evaluation_registry_key_counts.html\"\n",
       "            frameborder=\"0\"\n",
       "            allowfullscreen\n",
       "        ></iframe>\n",
       "        "
      ],
      "text/plain": [
       "<IPython.lib.display.IFrame at 0x25e98c1b760>"
      ]
     },
     "execution_count": 138,
     "metadata": {},
     "output_type": "execute_result"
    }
   ],
   "source": [
    "fig = plot_evaluation_boxplots(results, names, title = 'Models Performance On RegKeys Operation Counts Data', y_axis = 'Accuracy')\n",
    "\n",
    "figure_path = 'figures/ransomware/evaluation_registry_key_counts.html'\n",
    "\n",
    "save_figures_to_html(figure_path, [fig])\n",
    "\n",
    "IFrame(figure_path, width=900, height=600)"
   ]
  },
  {
   "cell_type": "markdown",
   "metadata": {},
   "source": [
    "### 5. PE Entropy"
   ]
  },
  {
   "cell_type": "code",
   "execution_count": 139,
   "metadata": {},
   "outputs": [
    {
     "name": "stdout",
     "output_type": "stream",
     "text": [
      "Class distribution:\n",
      "malware      : 2608\n",
      "ransomware   : 443\n",
      "\n",
      "Majority class classifier accuracy = 85.48%\n"
     ]
    },
    {
     "data": {
      "text/html": [
       "<div>\n",
       "<style scoped>\n",
       "    .dataframe tbody tr th:only-of-type {\n",
       "        vertical-align: middle;\n",
       "    }\n",
       "\n",
       "    .dataframe tbody tr th {\n",
       "        vertical-align: top;\n",
       "    }\n",
       "\n",
       "    .dataframe thead th {\n",
       "        text-align: right;\n",
       "    }\n",
       "</style>\n",
       "<table border=\"1\" class=\"dataframe\">\n",
       "  <thead>\n",
       "    <tr style=\"text-align: right;\">\n",
       "      <th></th>\n",
       "      <th>.text</th>\n",
       "      <th>.rdata</th>\n",
       "      <th>.data</th>\n",
       "      <th>.data2</th>\n",
       "      <th>.rsrc</th>\n",
       "      <th>.reloc</th>\n",
       "      <th>label</th>\n",
       "      <th>sublabel</th>\n",
       "      <th>.pdata</th>\n",
       "      <th>UPX0</th>\n",
       "      <th>...</th>\n",
       "      <th>hultkjl</th>\n",
       "      <th>#\\r\\n\\x00c</th>\n",
       "      <th>.init</th>\n",
       "      <th>\\x99\\xe3\\x00\\x00c</th>\n",
       "      <th>T\\t\\x00oc</th>\n",
       "      <th>CDS0</th>\n",
       "      <th>CDS1</th>\n",
       "      <th>PS\\xff\\xd5\\xab\\xeb\\xe7\\xc3</th>\n",
       "      <th>\\x10@\\x00\\x88=A</th>\n",
       "      <th>\\xfc\\xe4@\\x00\\xfc\\x0f@</th>\n",
       "    </tr>\n",
       "    <tr>\n",
       "      <th>md5</th>\n",
       "      <th></th>\n",
       "      <th></th>\n",
       "      <th></th>\n",
       "      <th></th>\n",
       "      <th></th>\n",
       "      <th></th>\n",
       "      <th></th>\n",
       "      <th></th>\n",
       "      <th></th>\n",
       "      <th></th>\n",
       "      <th></th>\n",
       "      <th></th>\n",
       "      <th></th>\n",
       "      <th></th>\n",
       "      <th></th>\n",
       "      <th></th>\n",
       "      <th></th>\n",
       "      <th></th>\n",
       "      <th></th>\n",
       "      <th></th>\n",
       "      <th></th>\n",
       "    </tr>\n",
       "  </thead>\n",
       "  <tbody>\n",
       "    <tr>\n",
       "      <th>000a3ea381d7d70be8b6fe1ee51dca22</th>\n",
       "      <td>7</td>\n",
       "      <td>5</td>\n",
       "      <td>0</td>\n",
       "      <td>0</td>\n",
       "      <td>5</td>\n",
       "      <td>3</td>\n",
       "      <td>1</td>\n",
       "      <td>1</td>\n",
       "      <td>0</td>\n",
       "      <td>0</td>\n",
       "      <td>...</td>\n",
       "      <td>0</td>\n",
       "      <td>0</td>\n",
       "      <td>0</td>\n",
       "      <td>0</td>\n",
       "      <td>0</td>\n",
       "      <td>0</td>\n",
       "      <td>0</td>\n",
       "      <td>0</td>\n",
       "      <td>0</td>\n",
       "      <td>0</td>\n",
       "    </tr>\n",
       "    <tr>\n",
       "      <th>001cfa63ad79aaf3e4a2b85a2e7f227f</th>\n",
       "      <td>4</td>\n",
       "      <td>0</td>\n",
       "      <td>2</td>\n",
       "      <td>0</td>\n",
       "      <td>3</td>\n",
       "      <td>0</td>\n",
       "      <td>1</td>\n",
       "      <td>1</td>\n",
       "      <td>0</td>\n",
       "      <td>0</td>\n",
       "      <td>...</td>\n",
       "      <td>0</td>\n",
       "      <td>0</td>\n",
       "      <td>0</td>\n",
       "      <td>0</td>\n",
       "      <td>0</td>\n",
       "      <td>0</td>\n",
       "      <td>0</td>\n",
       "      <td>0</td>\n",
       "      <td>0</td>\n",
       "      <td>0</td>\n",
       "    </tr>\n",
       "    <tr>\n",
       "      <th>003e845bdcc5367220bf13f7170da16f</th>\n",
       "      <td>6</td>\n",
       "      <td>0</td>\n",
       "      <td>5</td>\n",
       "      <td>0</td>\n",
       "      <td>7</td>\n",
       "      <td>0</td>\n",
       "      <td>1</td>\n",
       "      <td>1</td>\n",
       "      <td>4</td>\n",
       "      <td>0</td>\n",
       "      <td>...</td>\n",
       "      <td>0</td>\n",
       "      <td>0</td>\n",
       "      <td>0</td>\n",
       "      <td>0</td>\n",
       "      <td>0</td>\n",
       "      <td>0</td>\n",
       "      <td>0</td>\n",
       "      <td>0</td>\n",
       "      <td>0</td>\n",
       "      <td>0</td>\n",
       "    </tr>\n",
       "    <tr>\n",
       "      <th>00a53241bf9c9425c6df8da44a5ca4f4</th>\n",
       "      <td>4</td>\n",
       "      <td>0</td>\n",
       "      <td>3</td>\n",
       "      <td>0</td>\n",
       "      <td>0</td>\n",
       "      <td>0</td>\n",
       "      <td>1</td>\n",
       "      <td>1</td>\n",
       "      <td>0</td>\n",
       "      <td>0</td>\n",
       "      <td>...</td>\n",
       "      <td>0</td>\n",
       "      <td>0</td>\n",
       "      <td>0</td>\n",
       "      <td>0</td>\n",
       "      <td>0</td>\n",
       "      <td>0</td>\n",
       "      <td>0</td>\n",
       "      <td>0</td>\n",
       "      <td>0</td>\n",
       "      <td>0</td>\n",
       "    </tr>\n",
       "    <tr>\n",
       "      <th>00bb04604996c97b7b4f8b2c767c0f40</th>\n",
       "      <td>4</td>\n",
       "      <td>0</td>\n",
       "      <td>7</td>\n",
       "      <td>0</td>\n",
       "      <td>0</td>\n",
       "      <td>0</td>\n",
       "      <td>1</td>\n",
       "      <td>1</td>\n",
       "      <td>0</td>\n",
       "      <td>0</td>\n",
       "      <td>...</td>\n",
       "      <td>0</td>\n",
       "      <td>0</td>\n",
       "      <td>0</td>\n",
       "      <td>0</td>\n",
       "      <td>0</td>\n",
       "      <td>0</td>\n",
       "      <td>0</td>\n",
       "      <td>0</td>\n",
       "      <td>0</td>\n",
       "      <td>0</td>\n",
       "    </tr>\n",
       "  </tbody>\n",
       "</table>\n",
       "<p>5 rows × 715 columns</p>\n",
       "</div>"
      ],
      "text/plain": [
       "                                  .text  .rdata  .data  .data2  .rsrc  .reloc  \\\n",
       "md5                                                                             \n",
       "000a3ea381d7d70be8b6fe1ee51dca22      7       5      0       0      5       3   \n",
       "001cfa63ad79aaf3e4a2b85a2e7f227f      4       0      2       0      3       0   \n",
       "003e845bdcc5367220bf13f7170da16f      6       0      5       0      7       0   \n",
       "00a53241bf9c9425c6df8da44a5ca4f4      4       0      3       0      0       0   \n",
       "00bb04604996c97b7b4f8b2c767c0f40      4       0      7       0      0       0   \n",
       "\n",
       "                                  label  sublabel  .pdata  UPX0  ...  hultkjl  \\\n",
       "md5                                                              ...            \n",
       "000a3ea381d7d70be8b6fe1ee51dca22      1         1       0     0  ...        0   \n",
       "001cfa63ad79aaf3e4a2b85a2e7f227f      1         1       0     0  ...        0   \n",
       "003e845bdcc5367220bf13f7170da16f      1         1       4     0  ...        0   \n",
       "00a53241bf9c9425c6df8da44a5ca4f4      1         1       0     0  ...        0   \n",
       "00bb04604996c97b7b4f8b2c767c0f40      1         1       0     0  ...        0   \n",
       "\n",
       "                                  #\\r\\n\\x00c  .init  \\x99\\xe3\\x00\\x00c  \\\n",
       "md5                                                                      \n",
       "000a3ea381d7d70be8b6fe1ee51dca22           0      0                  0   \n",
       "001cfa63ad79aaf3e4a2b85a2e7f227f           0      0                  0   \n",
       "003e845bdcc5367220bf13f7170da16f           0      0                  0   \n",
       "00a53241bf9c9425c6df8da44a5ca4f4           0      0                  0   \n",
       "00bb04604996c97b7b4f8b2c767c0f40           0      0                  0   \n",
       "\n",
       "                                  T\\t\\x00oc  CDS0  CDS1  \\\n",
       "md5                                                       \n",
       "000a3ea381d7d70be8b6fe1ee51dca22          0     0     0   \n",
       "001cfa63ad79aaf3e4a2b85a2e7f227f          0     0     0   \n",
       "003e845bdcc5367220bf13f7170da16f          0     0     0   \n",
       "00a53241bf9c9425c6df8da44a5ca4f4          0     0     0   \n",
       "00bb04604996c97b7b4f8b2c767c0f40          0     0     0   \n",
       "\n",
       "                                  PS\\xff\\xd5\\xab\\xeb\\xe7\\xc3  \\x10@\\x00\\x88=A  \\\n",
       "md5                                                                             \n",
       "000a3ea381d7d70be8b6fe1ee51dca22                           0                0   \n",
       "001cfa63ad79aaf3e4a2b85a2e7f227f                           0                0   \n",
       "003e845bdcc5367220bf13f7170da16f                           0                0   \n",
       "00a53241bf9c9425c6df8da44a5ca4f4                           0                0   \n",
       "00bb04604996c97b7b4f8b2c767c0f40                           0                0   \n",
       "\n",
       "                                  \\xfc\\xe4@\\x00\\xfc\\x0f@  \n",
       "md5                                                       \n",
       "000a3ea381d7d70be8b6fe1ee51dca22                       0  \n",
       "001cfa63ad79aaf3e4a2b85a2e7f227f                       0  \n",
       "003e845bdcc5367220bf13f7170da16f                       0  \n",
       "00a53241bf9c9425c6df8da44a5ca4f4                       0  \n",
       "00bb04604996c97b7b4f8b2c767c0f40                       0  \n",
       "\n",
       "[5 rows x 715 columns]"
      ]
     },
     "execution_count": 139,
     "metadata": {},
     "output_type": "execute_result"
    }
   ],
   "source": [
    "df = datasets['pe_entropy_analysis']\n",
    "class_distribution(df, label='sublabel')\n",
    "df.head()"
   ]
  },
  {
   "cell_type": "code",
   "execution_count": 140,
   "metadata": {},
   "outputs": [
    {
     "name": "stdout",
     "output_type": "stream",
     "text": [
      "The new class distribution after SAMPLING strategy : {'malware': 1616, 'ransomware': 1293}\n",
      "Cross-validation 8 models required a duration of 96.63 seconds\n"
     ]
    }
   ],
   "source": [
    "start = time.time()\n",
    "\n",
    "#create a smote pipeline\n",
    "X, y = get_X_y(df, label='sublabel')\n",
    "\n",
    "smote_params = {\n",
    "    'category' : 'adaptive',\n",
    "    'over_strategy' : 0.5,\n",
    "    'under_strategy' : 0.8,\n",
    "    'k_neighbors' : 5,\n",
    "}\n",
    "\n",
    "smoter = smote(X, y, **smote_params, fit=False)\n",
    "\n",
    "print_new_distribution(X, y, smote_params)\n",
    "\n",
    "\n",
    "#compute cross-validation scores\n",
    "names, results = get_evaluation_results(df = df, \n",
    "                                        label='sublabel', \n",
    "                                        smoter=smoter, \n",
    "                                        scaler=MinMaxScaler(),\n",
    "                                        scoring ='accuracy')\n",
    "\n",
    "print(f'Cross-validation {len(names)} models required a duration of {time.time()-start:.2f} seconds')"
   ]
  },
  {
   "cell_type": "code",
   "execution_count": 141,
   "metadata": {},
   "outputs": [
    {
     "name": "stdout",
     "output_type": "stream",
     "text": [
      "LogisticRegression             \t: 78.525% ( (+/-) 2.559% )\n",
      "KNN                            \t: 88.852% ( (+/-) 2.010% )\n",
      "Decision tree                  \t: 91.162% ( (+/-) 1.759% )\n",
      "Random Forest                  \t: 92.295% ( (+/-) 1.486% )\n",
      "SVM                            \t: 86.885% ( (+/-) 2.291% )\n",
      "RegularNets                    \t: 83.770% ( (+/-) 4.018% )\n",
      "LDA                            \t: 77.869% ( (+/-) 2.841% )\n",
      "Gaussian Naive Bayes           \t: 27.169% ( (+/-) 2.127% )\n"
     ]
    }
   ],
   "source": [
    "print_evaluation_results(results, names)"
   ]
  },
  {
   "cell_type": "code",
   "execution_count": 142,
   "metadata": {},
   "outputs": [
    {
     "data": {
      "text/html": [
       "\n",
       "        <iframe\n",
       "            width=\"900\"\n",
       "            height=\"600\"\n",
       "            src=\"figures/ransomware/evaluation_pe_entropy.html\"\n",
       "            frameborder=\"0\"\n",
       "            allowfullscreen\n",
       "        ></iframe>\n",
       "        "
      ],
      "text/plain": [
       "<IPython.lib.display.IFrame at 0x25ef63f8940>"
      ]
     },
     "execution_count": 142,
     "metadata": {},
     "output_type": "execute_result"
    }
   ],
   "source": [
    "fig = plot_evaluation_boxplots(results, names, title = 'Models Performance On PE Entropy Data', y_axis = 'Accuracy')\n",
    "\n",
    "figure_path = 'figures/ransomware/evaluation_pe_entropy.html'\n",
    "\n",
    "save_figures_to_html(figure_path, [fig])\n",
    "\n",
    "IFrame(figure_path, width=900, height=600)"
   ]
  },
  {
   "cell_type": "markdown",
   "metadata": {},
   "source": [
    "### 6. PE Imports (One-Hot Encoded)"
   ]
  },
  {
   "cell_type": "markdown",
   "metadata": {},
   "source": [
    "Considering all pe import functions at once ends up generating a dataset that has over 20 000 columns. So we will analyse imports belonging to different libraries (e.g. kernel32.dll, user32.dll...) separately and try to select either the ones with the highest feature importance in the most recurrent libraries. <br/>\n",
    "\n",
    "For now, let's first study the performance on training on just the libraries, before checking the individual pe imports."
   ]
  },
  {
   "cell_type": "markdown",
   "metadata": {},
   "source": [
    "**Libraries**"
   ]
  },
  {
   "cell_type": "code",
   "execution_count": 144,
   "metadata": {},
   "outputs": [
    {
     "name": "stdout",
     "output_type": "stream",
     "text": [
      "Class distribution:\n",
      "malware      : 2614\n",
      "ransomware   : 444\n",
      "\n",
      "Majority class classifier accuracy = 85.48%\n"
     ]
    },
    {
     "data": {
      "text/html": [
       "<div>\n",
       "<style scoped>\n",
       "    .dataframe tbody tr th:only-of-type {\n",
       "        vertical-align: middle;\n",
       "    }\n",
       "\n",
       "    .dataframe tbody tr th {\n",
       "        vertical-align: top;\n",
       "    }\n",
       "\n",
       "    .dataframe thead th {\n",
       "        text-align: right;\n",
       "    }\n",
       "</style>\n",
       "<table border=\"1\" class=\"dataframe\">\n",
       "  <thead>\n",
       "    <tr style=\"text-align: right;\">\n",
       "      <th></th>\n",
       "      <th>kernel32.dll</th>\n",
       "      <th>user32.dll</th>\n",
       "      <th>gdi32.dll</th>\n",
       "      <th>advapi32.dll</th>\n",
       "      <th>shell32.dll</th>\n",
       "      <th>ole32.dll</th>\n",
       "      <th>shlwapi.dll</th>\n",
       "      <th>comctl32.dll</th>\n",
       "      <th>label</th>\n",
       "      <th>sublabel</th>\n",
       "      <th>...</th>\n",
       "      <th>cmnclim.dll</th>\n",
       "      <th>api-ms-win-core-threadpool-l1-1-0.dll</th>\n",
       "      <th>ktmw32.dll</th>\n",
       "      <th>msvcm80.dll</th>\n",
       "      <th>bdeui.dll</th>\n",
       "      <th>mrxsmb.sys</th>\n",
       "      <th>sspisrv.dll</th>\n",
       "      <th>api-ms-win-crt-convert-l1-1-0.dll</th>\n",
       "      <th>api-ms-win-crt-filesystem-l1-1-0.dll</th>\n",
       "      <th>api-ms-win-crt-environment-l1-1-0.dll</th>\n",
       "    </tr>\n",
       "    <tr>\n",
       "      <th>md5</th>\n",
       "      <th></th>\n",
       "      <th></th>\n",
       "      <th></th>\n",
       "      <th></th>\n",
       "      <th></th>\n",
       "      <th></th>\n",
       "      <th></th>\n",
       "      <th></th>\n",
       "      <th></th>\n",
       "      <th></th>\n",
       "      <th></th>\n",
       "      <th></th>\n",
       "      <th></th>\n",
       "      <th></th>\n",
       "      <th></th>\n",
       "      <th></th>\n",
       "      <th></th>\n",
       "      <th></th>\n",
       "      <th></th>\n",
       "      <th></th>\n",
       "      <th></th>\n",
       "    </tr>\n",
       "  </thead>\n",
       "  <tbody>\n",
       "    <tr>\n",
       "      <th>000a3ea381d7d70be8b6fe1ee51dca22</th>\n",
       "      <td>1</td>\n",
       "      <td>1</td>\n",
       "      <td>1</td>\n",
       "      <td>1</td>\n",
       "      <td>1</td>\n",
       "      <td>1</td>\n",
       "      <td>1</td>\n",
       "      <td>1</td>\n",
       "      <td>1</td>\n",
       "      <td>1</td>\n",
       "      <td>...</td>\n",
       "      <td>0</td>\n",
       "      <td>0</td>\n",
       "      <td>0</td>\n",
       "      <td>0</td>\n",
       "      <td>0</td>\n",
       "      <td>0</td>\n",
       "      <td>0</td>\n",
       "      <td>0</td>\n",
       "      <td>0</td>\n",
       "      <td>0</td>\n",
       "    </tr>\n",
       "    <tr>\n",
       "      <th>001cfa63ad79aaf3e4a2b85a2e7f227f</th>\n",
       "      <td>1</td>\n",
       "      <td>0</td>\n",
       "      <td>1</td>\n",
       "      <td>1</td>\n",
       "      <td>0</td>\n",
       "      <td>0</td>\n",
       "      <td>0</td>\n",
       "      <td>0</td>\n",
       "      <td>1</td>\n",
       "      <td>1</td>\n",
       "      <td>...</td>\n",
       "      <td>0</td>\n",
       "      <td>0</td>\n",
       "      <td>0</td>\n",
       "      <td>0</td>\n",
       "      <td>0</td>\n",
       "      <td>0</td>\n",
       "      <td>0</td>\n",
       "      <td>0</td>\n",
       "      <td>0</td>\n",
       "      <td>0</td>\n",
       "    </tr>\n",
       "    <tr>\n",
       "      <th>003e845bdcc5367220bf13f7170da16f</th>\n",
       "      <td>1</td>\n",
       "      <td>1</td>\n",
       "      <td>1</td>\n",
       "      <td>1</td>\n",
       "      <td>0</td>\n",
       "      <td>0</td>\n",
       "      <td>0</td>\n",
       "      <td>1</td>\n",
       "      <td>1</td>\n",
       "      <td>1</td>\n",
       "      <td>...</td>\n",
       "      <td>0</td>\n",
       "      <td>0</td>\n",
       "      <td>0</td>\n",
       "      <td>0</td>\n",
       "      <td>0</td>\n",
       "      <td>0</td>\n",
       "      <td>0</td>\n",
       "      <td>0</td>\n",
       "      <td>0</td>\n",
       "      <td>0</td>\n",
       "    </tr>\n",
       "    <tr>\n",
       "      <th>00a53241bf9c9425c6df8da44a5ca4f4</th>\n",
       "      <td>0</td>\n",
       "      <td>0</td>\n",
       "      <td>0</td>\n",
       "      <td>0</td>\n",
       "      <td>0</td>\n",
       "      <td>0</td>\n",
       "      <td>0</td>\n",
       "      <td>0</td>\n",
       "      <td>1</td>\n",
       "      <td>1</td>\n",
       "      <td>...</td>\n",
       "      <td>0</td>\n",
       "      <td>0</td>\n",
       "      <td>0</td>\n",
       "      <td>0</td>\n",
       "      <td>0</td>\n",
       "      <td>0</td>\n",
       "      <td>0</td>\n",
       "      <td>0</td>\n",
       "      <td>0</td>\n",
       "      <td>0</td>\n",
       "    </tr>\n",
       "    <tr>\n",
       "      <th>00bb04604996c97b7b4f8b2c767c0f40</th>\n",
       "      <td>0</td>\n",
       "      <td>0</td>\n",
       "      <td>0</td>\n",
       "      <td>0</td>\n",
       "      <td>0</td>\n",
       "      <td>0</td>\n",
       "      <td>0</td>\n",
       "      <td>0</td>\n",
       "      <td>1</td>\n",
       "      <td>1</td>\n",
       "      <td>...</td>\n",
       "      <td>0</td>\n",
       "      <td>0</td>\n",
       "      <td>0</td>\n",
       "      <td>0</td>\n",
       "      <td>0</td>\n",
       "      <td>0</td>\n",
       "      <td>0</td>\n",
       "      <td>0</td>\n",
       "      <td>0</td>\n",
       "      <td>0</td>\n",
       "    </tr>\n",
       "  </tbody>\n",
       "</table>\n",
       "<p>5 rows × 286 columns</p>\n",
       "</div>"
      ],
      "text/plain": [
       "                                  kernel32.dll  user32.dll  gdi32.dll  \\\n",
       "md5                                                                     \n",
       "000a3ea381d7d70be8b6fe1ee51dca22             1           1          1   \n",
       "001cfa63ad79aaf3e4a2b85a2e7f227f             1           0          1   \n",
       "003e845bdcc5367220bf13f7170da16f             1           1          1   \n",
       "00a53241bf9c9425c6df8da44a5ca4f4             0           0          0   \n",
       "00bb04604996c97b7b4f8b2c767c0f40             0           0          0   \n",
       "\n",
       "                                  advapi32.dll  shell32.dll  ole32.dll  \\\n",
       "md5                                                                      \n",
       "000a3ea381d7d70be8b6fe1ee51dca22             1            1          1   \n",
       "001cfa63ad79aaf3e4a2b85a2e7f227f             1            0          0   \n",
       "003e845bdcc5367220bf13f7170da16f             1            0          0   \n",
       "00a53241bf9c9425c6df8da44a5ca4f4             0            0          0   \n",
       "00bb04604996c97b7b4f8b2c767c0f40             0            0          0   \n",
       "\n",
       "                                  shlwapi.dll  comctl32.dll  label  sublabel  \\\n",
       "md5                                                                            \n",
       "000a3ea381d7d70be8b6fe1ee51dca22            1             1      1         1   \n",
       "001cfa63ad79aaf3e4a2b85a2e7f227f            0             0      1         1   \n",
       "003e845bdcc5367220bf13f7170da16f            0             1      1         1   \n",
       "00a53241bf9c9425c6df8da44a5ca4f4            0             0      1         1   \n",
       "00bb04604996c97b7b4f8b2c767c0f40            0             0      1         1   \n",
       "\n",
       "                                  ...  cmnclim.dll  \\\n",
       "md5                               ...                \n",
       "000a3ea381d7d70be8b6fe1ee51dca22  ...            0   \n",
       "001cfa63ad79aaf3e4a2b85a2e7f227f  ...            0   \n",
       "003e845bdcc5367220bf13f7170da16f  ...            0   \n",
       "00a53241bf9c9425c6df8da44a5ca4f4  ...            0   \n",
       "00bb04604996c97b7b4f8b2c767c0f40  ...            0   \n",
       "\n",
       "                                  api-ms-win-core-threadpool-l1-1-0.dll  \\\n",
       "md5                                                                       \n",
       "000a3ea381d7d70be8b6fe1ee51dca22                                      0   \n",
       "001cfa63ad79aaf3e4a2b85a2e7f227f                                      0   \n",
       "003e845bdcc5367220bf13f7170da16f                                      0   \n",
       "00a53241bf9c9425c6df8da44a5ca4f4                                      0   \n",
       "00bb04604996c97b7b4f8b2c767c0f40                                      0   \n",
       "\n",
       "                                  ktmw32.dll  msvcm80.dll  bdeui.dll  \\\n",
       "md5                                                                    \n",
       "000a3ea381d7d70be8b6fe1ee51dca22           0            0          0   \n",
       "001cfa63ad79aaf3e4a2b85a2e7f227f           0            0          0   \n",
       "003e845bdcc5367220bf13f7170da16f           0            0          0   \n",
       "00a53241bf9c9425c6df8da44a5ca4f4           0            0          0   \n",
       "00bb04604996c97b7b4f8b2c767c0f40           0            0          0   \n",
       "\n",
       "                                  mrxsmb.sys  sspisrv.dll  \\\n",
       "md5                                                         \n",
       "000a3ea381d7d70be8b6fe1ee51dca22           0            0   \n",
       "001cfa63ad79aaf3e4a2b85a2e7f227f           0            0   \n",
       "003e845bdcc5367220bf13f7170da16f           0            0   \n",
       "00a53241bf9c9425c6df8da44a5ca4f4           0            0   \n",
       "00bb04604996c97b7b4f8b2c767c0f40           0            0   \n",
       "\n",
       "                                  api-ms-win-crt-convert-l1-1-0.dll  \\\n",
       "md5                                                                   \n",
       "000a3ea381d7d70be8b6fe1ee51dca22                                  0   \n",
       "001cfa63ad79aaf3e4a2b85a2e7f227f                                  0   \n",
       "003e845bdcc5367220bf13f7170da16f                                  0   \n",
       "00a53241bf9c9425c6df8da44a5ca4f4                                  0   \n",
       "00bb04604996c97b7b4f8b2c767c0f40                                  0   \n",
       "\n",
       "                                  api-ms-win-crt-filesystem-l1-1-0.dll  \\\n",
       "md5                                                                      \n",
       "000a3ea381d7d70be8b6fe1ee51dca22                                     0   \n",
       "001cfa63ad79aaf3e4a2b85a2e7f227f                                     0   \n",
       "003e845bdcc5367220bf13f7170da16f                                     0   \n",
       "00a53241bf9c9425c6df8da44a5ca4f4                                     0   \n",
       "00bb04604996c97b7b4f8b2c767c0f40                                     0   \n",
       "\n",
       "                                  api-ms-win-crt-environment-l1-1-0.dll  \n",
       "md5                                                                      \n",
       "000a3ea381d7d70be8b6fe1ee51dca22                                      0  \n",
       "001cfa63ad79aaf3e4a2b85a2e7f227f                                      0  \n",
       "003e845bdcc5367220bf13f7170da16f                                      0  \n",
       "00a53241bf9c9425c6df8da44a5ca4f4                                      0  \n",
       "00bb04604996c97b7b4f8b2c767c0f40                                      0  \n",
       "\n",
       "[5 rows x 286 columns]"
      ]
     },
     "execution_count": 144,
     "metadata": {},
     "output_type": "execute_result"
    }
   ],
   "source": [
    "df = datasets['pe_imports_libraries']\n",
    "class_distribution(df, label='sublabel')\n",
    "df.head()"
   ]
  },
  {
   "cell_type": "code",
   "execution_count": 145,
   "metadata": {},
   "outputs": [
    {
     "name": "stdout",
     "output_type": "stream",
     "text": [
      "The new class distribution after SAMPLING strategy : {'malware': 1621, 'ransomware': 1297}\n",
      "Cross-validation 8 models required a duration of 42.07 seconds\n"
     ]
    }
   ],
   "source": [
    "start = time.time()\n",
    "\n",
    "#create a smote pipeline\n",
    "X, y = get_X_y(df, label='sublabel')\n",
    "\n",
    "smote_params = {\n",
    "    'category' : 'adaptive',\n",
    "    'over_strategy' : 0.5,\n",
    "    'under_strategy' : 0.8,\n",
    "    'k_neighbors' : 5,\n",
    "}\n",
    "\n",
    "smoter = smote(X, y, **smote_params, fit=False)\n",
    "\n",
    "print_new_distribution(X, y, smote_params)\n",
    "\n",
    "\n",
    "#compute cross-validation scores\n",
    "names, results = get_evaluation_results(df = df, \n",
    "                                        label='sublabel', \n",
    "                                        smoter=smoter, \n",
    "                                        scaler=MinMaxScaler(),\n",
    "                                        scoring ='accuracy')\n",
    "\n",
    "print(f'Cross-validation {len(names)} models required a duration of {time.time()-start:.2f} seconds')"
   ]
  },
  {
   "cell_type": "code",
   "execution_count": 146,
   "metadata": {},
   "outputs": [
    {
     "name": "stdout",
     "output_type": "stream",
     "text": [
      "LogisticRegression             \t: 78.396% ( (+/-) 2.206% )\n",
      "KNN                            \t: 76.961% ( (+/-) 3.557% )\n",
      "Decision tree                  \t: 80.719% ( (+/-) 2.402% )\n",
      "Random Forest                  \t: 80.882% ( (+/-) 2.228% )\n",
      "SVM                            \t: 80.524% ( (+/-) 2.282% )\n",
      "RegularNets                    \t: 80.065% ( (+/-) 2.470% )\n",
      "LDA                            \t: 76.432% ( (+/-) 2.705% )\n",
      "Gaussian Naive Bayes           \t: 34.641% ( (+/-) 2.285% )\n"
     ]
    }
   ],
   "source": [
    "print_evaluation_results(results, names)"
   ]
  },
  {
   "cell_type": "code",
   "execution_count": 147,
   "metadata": {},
   "outputs": [
    {
     "data": {
      "text/html": [
       "\n",
       "        <iframe\n",
       "            width=\"900\"\n",
       "            height=\"600\"\n",
       "            src=\"figures/ransomware/evaluation_pe_imports.html\"\n",
       "            frameborder=\"0\"\n",
       "            allowfullscreen\n",
       "        ></iframe>\n",
       "        "
      ],
      "text/plain": [
       "<IPython.lib.display.IFrame at 0x25e98c39280>"
      ]
     },
     "execution_count": 147,
     "metadata": {},
     "output_type": "execute_result"
    }
   ],
   "source": [
    "fig = plot_evaluation_boxplots(results, names, title = 'Models Performance On PE Entropy Libraries Data', y_axis = 'Accuracy')\n",
    "\n",
    "figure_path = 'figures/ransomware/evaluation_pe_imports.html'\n",
    "\n",
    "save_figures_to_html(figure_path, [fig])\n",
    "\n",
    "IFrame(figure_path, width=900, height=600)"
   ]
  },
  {
   "cell_type": "markdown",
   "metadata": {},
   "source": [
    "**Selecting Libraries**"
   ]
  },
  {
   "cell_type": "code",
   "execution_count": 192,
   "metadata": {},
   "outputs": [],
   "source": [
    "from learners import *"
   ]
  },
  {
   "cell_type": "code",
   "execution_count": 194,
   "metadata": {},
   "outputs": [],
   "source": [
    "X, y = get_X_y(df, label='sublabel')\n",
    "smote_params = {\n",
    "    'category' : 'adaptive',\n",
    "    'over_strategy' : 0.5,\n",
    "    'under_strategy' : 0.8,\n",
    "    'k_neighbors' : 5,\n",
    "    }\n",
    "smoter = smote(X, y, **smote_params, fit=False)"
   ]
  },
  {
   "cell_type": "code",
   "execution_count": 195,
   "metadata": {},
   "outputs": [
    {
     "data": {
      "text/plain": [
       "['gdi32.dll',\n",
       " 'advapi32.dll',\n",
       " 'shell32.dll',\n",
       " 'shlwapi.dll',\n",
       " 'comctl32.dll',\n",
       " 'msvcrt.dll',\n",
       " 'version.dll',\n",
       " 'comdlg32.dll',\n",
       " 'wininet.dll',\n",
       " 'ntdll.dll']"
      ]
     },
     "execution_count": 195,
     "metadata": {},
     "output_type": "execute_result"
    }
   ],
   "source": [
    "k_best_selected_libraries = select_k_best(df, select_function=chi2, k=10, label='sublabel', smoter=smoter)\n",
    "k_best_selected_libraries"
   ]
  },
  {
   "cell_type": "code",
   "execution_count": 196,
   "metadata": {},
   "outputs": [
    {
     "data": {
      "text/plain": [
       "kernel32.dll    2425\n",
       "user32.dll      1845\n",
       "advapi32.dll    1532\n",
       "gdi32.dll        883\n",
       "msvcrt.dll       851\n",
       "shell32.dll      773\n",
       "ole32.dll        627\n",
       "comctl32.dll     598\n",
       "version.dll      487\n",
       "oleaut32.dll     430\n",
       "shlwapi.dll      327\n",
       "wininet.dll      295\n",
       "ntdll.dll        246\n",
       "ws2_32.dll       240\n",
       "comdlg32.dll     220\n",
       "dtype: int64"
      ]
     },
     "execution_count": 196,
     "metadata": {},
     "output_type": "execute_result"
    }
   ],
   "source": [
    "limit= 15\n",
    "most_recurrent_libraries = get_most_recurrent(df, portion=0.05, limit=limit)\n",
    "most_recurrent_libraries"
   ]
  },
  {
   "cell_type": "code",
   "execution_count": 197,
   "metadata": {},
   "outputs": [
    {
     "data": {
      "application/vnd.plotly.v1+json": {
       "config": {
        "plotlyServerURL": "https://plot.ly"
       },
       "data": [
        {
         "marker": {
          "color": [
           "lightslategray",
           "lightslategray",
           "lightblue",
           "lightblue",
           "lightblue",
           "lightblue",
           "lightslategray",
           "lightblue",
           "lightblue",
           "lightslategray",
           "lightblue",
           "lightblue",
           "lightblue",
           "lightslategray",
           "lightblue"
          ]
         },
         "type": "bar",
         "x": [
          "kernel32.dll",
          "user32.dll",
          "advapi32.dll",
          "gdi32.dll",
          "msvcrt.dll",
          "shell32.dll",
          "ole32.dll",
          "comctl32.dll",
          "version.dll",
          "oleaut32.dll",
          "shlwapi.dll",
          "wininet.dll",
          "ntdll.dll",
          "ws2_32.dll",
          "comdlg32.dll"
         ],
         "y": [
          2425,
          1845,
          1532,
          883,
          851,
          773,
          627,
          598,
          487,
          430,
          327,
          295,
          246,
          240,
          220
         ]
        }
       ],
       "layout": {
        "template": {
         "data": {
          "bar": [
           {
            "error_x": {
             "color": "#2a3f5f"
            },
            "error_y": {
             "color": "#2a3f5f"
            },
            "marker": {
             "line": {
              "color": "#E5ECF6",
              "width": 0.5
             }
            },
            "type": "bar"
           }
          ],
          "barpolar": [
           {
            "marker": {
             "line": {
              "color": "#E5ECF6",
              "width": 0.5
             }
            },
            "type": "barpolar"
           }
          ],
          "carpet": [
           {
            "aaxis": {
             "endlinecolor": "#2a3f5f",
             "gridcolor": "white",
             "linecolor": "white",
             "minorgridcolor": "white",
             "startlinecolor": "#2a3f5f"
            },
            "baxis": {
             "endlinecolor": "#2a3f5f",
             "gridcolor": "white",
             "linecolor": "white",
             "minorgridcolor": "white",
             "startlinecolor": "#2a3f5f"
            },
            "type": "carpet"
           }
          ],
          "choropleth": [
           {
            "colorbar": {
             "outlinewidth": 0,
             "ticks": ""
            },
            "type": "choropleth"
           }
          ],
          "contour": [
           {
            "colorbar": {
             "outlinewidth": 0,
             "ticks": ""
            },
            "colorscale": [
             [
              0,
              "#0d0887"
             ],
             [
              0.1111111111111111,
              "#46039f"
             ],
             [
              0.2222222222222222,
              "#7201a8"
             ],
             [
              0.3333333333333333,
              "#9c179e"
             ],
             [
              0.4444444444444444,
              "#bd3786"
             ],
             [
              0.5555555555555556,
              "#d8576b"
             ],
             [
              0.6666666666666666,
              "#ed7953"
             ],
             [
              0.7777777777777778,
              "#fb9f3a"
             ],
             [
              0.8888888888888888,
              "#fdca26"
             ],
             [
              1,
              "#f0f921"
             ]
            ],
            "type": "contour"
           }
          ],
          "contourcarpet": [
           {
            "colorbar": {
             "outlinewidth": 0,
             "ticks": ""
            },
            "type": "contourcarpet"
           }
          ],
          "heatmap": [
           {
            "colorbar": {
             "outlinewidth": 0,
             "ticks": ""
            },
            "colorscale": [
             [
              0,
              "#0d0887"
             ],
             [
              0.1111111111111111,
              "#46039f"
             ],
             [
              0.2222222222222222,
              "#7201a8"
             ],
             [
              0.3333333333333333,
              "#9c179e"
             ],
             [
              0.4444444444444444,
              "#bd3786"
             ],
             [
              0.5555555555555556,
              "#d8576b"
             ],
             [
              0.6666666666666666,
              "#ed7953"
             ],
             [
              0.7777777777777778,
              "#fb9f3a"
             ],
             [
              0.8888888888888888,
              "#fdca26"
             ],
             [
              1,
              "#f0f921"
             ]
            ],
            "type": "heatmap"
           }
          ],
          "heatmapgl": [
           {
            "colorbar": {
             "outlinewidth": 0,
             "ticks": ""
            },
            "colorscale": [
             [
              0,
              "#0d0887"
             ],
             [
              0.1111111111111111,
              "#46039f"
             ],
             [
              0.2222222222222222,
              "#7201a8"
             ],
             [
              0.3333333333333333,
              "#9c179e"
             ],
             [
              0.4444444444444444,
              "#bd3786"
             ],
             [
              0.5555555555555556,
              "#d8576b"
             ],
             [
              0.6666666666666666,
              "#ed7953"
             ],
             [
              0.7777777777777778,
              "#fb9f3a"
             ],
             [
              0.8888888888888888,
              "#fdca26"
             ],
             [
              1,
              "#f0f921"
             ]
            ],
            "type": "heatmapgl"
           }
          ],
          "histogram": [
           {
            "marker": {
             "colorbar": {
              "outlinewidth": 0,
              "ticks": ""
             }
            },
            "type": "histogram"
           }
          ],
          "histogram2d": [
           {
            "colorbar": {
             "outlinewidth": 0,
             "ticks": ""
            },
            "colorscale": [
             [
              0,
              "#0d0887"
             ],
             [
              0.1111111111111111,
              "#46039f"
             ],
             [
              0.2222222222222222,
              "#7201a8"
             ],
             [
              0.3333333333333333,
              "#9c179e"
             ],
             [
              0.4444444444444444,
              "#bd3786"
             ],
             [
              0.5555555555555556,
              "#d8576b"
             ],
             [
              0.6666666666666666,
              "#ed7953"
             ],
             [
              0.7777777777777778,
              "#fb9f3a"
             ],
             [
              0.8888888888888888,
              "#fdca26"
             ],
             [
              1,
              "#f0f921"
             ]
            ],
            "type": "histogram2d"
           }
          ],
          "histogram2dcontour": [
           {
            "colorbar": {
             "outlinewidth": 0,
             "ticks": ""
            },
            "colorscale": [
             [
              0,
              "#0d0887"
             ],
             [
              0.1111111111111111,
              "#46039f"
             ],
             [
              0.2222222222222222,
              "#7201a8"
             ],
             [
              0.3333333333333333,
              "#9c179e"
             ],
             [
              0.4444444444444444,
              "#bd3786"
             ],
             [
              0.5555555555555556,
              "#d8576b"
             ],
             [
              0.6666666666666666,
              "#ed7953"
             ],
             [
              0.7777777777777778,
              "#fb9f3a"
             ],
             [
              0.8888888888888888,
              "#fdca26"
             ],
             [
              1,
              "#f0f921"
             ]
            ],
            "type": "histogram2dcontour"
           }
          ],
          "mesh3d": [
           {
            "colorbar": {
             "outlinewidth": 0,
             "ticks": ""
            },
            "type": "mesh3d"
           }
          ],
          "parcoords": [
           {
            "line": {
             "colorbar": {
              "outlinewidth": 0,
              "ticks": ""
             }
            },
            "type": "parcoords"
           }
          ],
          "pie": [
           {
            "automargin": true,
            "type": "pie"
           }
          ],
          "scatter": [
           {
            "marker": {
             "colorbar": {
              "outlinewidth": 0,
              "ticks": ""
             }
            },
            "type": "scatter"
           }
          ],
          "scatter3d": [
           {
            "line": {
             "colorbar": {
              "outlinewidth": 0,
              "ticks": ""
             }
            },
            "marker": {
             "colorbar": {
              "outlinewidth": 0,
              "ticks": ""
             }
            },
            "type": "scatter3d"
           }
          ],
          "scattercarpet": [
           {
            "marker": {
             "colorbar": {
              "outlinewidth": 0,
              "ticks": ""
             }
            },
            "type": "scattercarpet"
           }
          ],
          "scattergeo": [
           {
            "marker": {
             "colorbar": {
              "outlinewidth": 0,
              "ticks": ""
             }
            },
            "type": "scattergeo"
           }
          ],
          "scattergl": [
           {
            "marker": {
             "colorbar": {
              "outlinewidth": 0,
              "ticks": ""
             }
            },
            "type": "scattergl"
           }
          ],
          "scattermapbox": [
           {
            "marker": {
             "colorbar": {
              "outlinewidth": 0,
              "ticks": ""
             }
            },
            "type": "scattermapbox"
           }
          ],
          "scatterpolar": [
           {
            "marker": {
             "colorbar": {
              "outlinewidth": 0,
              "ticks": ""
             }
            },
            "type": "scatterpolar"
           }
          ],
          "scatterpolargl": [
           {
            "marker": {
             "colorbar": {
              "outlinewidth": 0,
              "ticks": ""
             }
            },
            "type": "scatterpolargl"
           }
          ],
          "scatterternary": [
           {
            "marker": {
             "colorbar": {
              "outlinewidth": 0,
              "ticks": ""
             }
            },
            "type": "scatterternary"
           }
          ],
          "surface": [
           {
            "colorbar": {
             "outlinewidth": 0,
             "ticks": ""
            },
            "colorscale": [
             [
              0,
              "#0d0887"
             ],
             [
              0.1111111111111111,
              "#46039f"
             ],
             [
              0.2222222222222222,
              "#7201a8"
             ],
             [
              0.3333333333333333,
              "#9c179e"
             ],
             [
              0.4444444444444444,
              "#bd3786"
             ],
             [
              0.5555555555555556,
              "#d8576b"
             ],
             [
              0.6666666666666666,
              "#ed7953"
             ],
             [
              0.7777777777777778,
              "#fb9f3a"
             ],
             [
              0.8888888888888888,
              "#fdca26"
             ],
             [
              1,
              "#f0f921"
             ]
            ],
            "type": "surface"
           }
          ],
          "table": [
           {
            "cells": {
             "fill": {
              "color": "#EBF0F8"
             },
             "line": {
              "color": "white"
             }
            },
            "header": {
             "fill": {
              "color": "#C8D4E3"
             },
             "line": {
              "color": "white"
             }
            },
            "type": "table"
           }
          ]
         },
         "layout": {
          "annotationdefaults": {
           "arrowcolor": "#2a3f5f",
           "arrowhead": 0,
           "arrowwidth": 1
          },
          "autotypenumbers": "strict",
          "coloraxis": {
           "colorbar": {
            "outlinewidth": 0,
            "ticks": ""
           }
          },
          "colorscale": {
           "diverging": [
            [
             0,
             "#8e0152"
            ],
            [
             0.1,
             "#c51b7d"
            ],
            [
             0.2,
             "#de77ae"
            ],
            [
             0.3,
             "#f1b6da"
            ],
            [
             0.4,
             "#fde0ef"
            ],
            [
             0.5,
             "#f7f7f7"
            ],
            [
             0.6,
             "#e6f5d0"
            ],
            [
             0.7,
             "#b8e186"
            ],
            [
             0.8,
             "#7fbc41"
            ],
            [
             0.9,
             "#4d9221"
            ],
            [
             1,
             "#276419"
            ]
           ],
           "sequential": [
            [
             0,
             "#0d0887"
            ],
            [
             0.1111111111111111,
             "#46039f"
            ],
            [
             0.2222222222222222,
             "#7201a8"
            ],
            [
             0.3333333333333333,
             "#9c179e"
            ],
            [
             0.4444444444444444,
             "#bd3786"
            ],
            [
             0.5555555555555556,
             "#d8576b"
            ],
            [
             0.6666666666666666,
             "#ed7953"
            ],
            [
             0.7777777777777778,
             "#fb9f3a"
            ],
            [
             0.8888888888888888,
             "#fdca26"
            ],
            [
             1,
             "#f0f921"
            ]
           ],
           "sequentialminus": [
            [
             0,
             "#0d0887"
            ],
            [
             0.1111111111111111,
             "#46039f"
            ],
            [
             0.2222222222222222,
             "#7201a8"
            ],
            [
             0.3333333333333333,
             "#9c179e"
            ],
            [
             0.4444444444444444,
             "#bd3786"
            ],
            [
             0.5555555555555556,
             "#d8576b"
            ],
            [
             0.6666666666666666,
             "#ed7953"
            ],
            [
             0.7777777777777778,
             "#fb9f3a"
            ],
            [
             0.8888888888888888,
             "#fdca26"
            ],
            [
             1,
             "#f0f921"
            ]
           ]
          },
          "colorway": [
           "#636efa",
           "#EF553B",
           "#00cc96",
           "#ab63fa",
           "#FFA15A",
           "#19d3f3",
           "#FF6692",
           "#B6E880",
           "#FF97FF",
           "#FECB52"
          ],
          "font": {
           "color": "#2a3f5f"
          },
          "geo": {
           "bgcolor": "white",
           "lakecolor": "white",
           "landcolor": "#E5ECF6",
           "showlakes": true,
           "showland": true,
           "subunitcolor": "white"
          },
          "hoverlabel": {
           "align": "left"
          },
          "hovermode": "closest",
          "mapbox": {
           "style": "light"
          },
          "paper_bgcolor": "white",
          "plot_bgcolor": "#E5ECF6",
          "polar": {
           "angularaxis": {
            "gridcolor": "white",
            "linecolor": "white",
            "ticks": ""
           },
           "bgcolor": "#E5ECF6",
           "radialaxis": {
            "gridcolor": "white",
            "linecolor": "white",
            "ticks": ""
           }
          },
          "scene": {
           "xaxis": {
            "backgroundcolor": "#E5ECF6",
            "gridcolor": "white",
            "gridwidth": 2,
            "linecolor": "white",
            "showbackground": true,
            "ticks": "",
            "zerolinecolor": "white"
           },
           "yaxis": {
            "backgroundcolor": "#E5ECF6",
            "gridcolor": "white",
            "gridwidth": 2,
            "linecolor": "white",
            "showbackground": true,
            "ticks": "",
            "zerolinecolor": "white"
           },
           "zaxis": {
            "backgroundcolor": "#E5ECF6",
            "gridcolor": "white",
            "gridwidth": 2,
            "linecolor": "white",
            "showbackground": true,
            "ticks": "",
            "zerolinecolor": "white"
           }
          },
          "shapedefaults": {
           "line": {
            "color": "#2a3f5f"
           }
          },
          "ternary": {
           "aaxis": {
            "gridcolor": "white",
            "linecolor": "white",
            "ticks": ""
           },
           "baxis": {
            "gridcolor": "white",
            "linecolor": "white",
            "ticks": ""
           },
           "bgcolor": "#E5ECF6",
           "caxis": {
            "gridcolor": "white",
            "linecolor": "white",
            "ticks": ""
           }
          },
          "title": {
           "x": 0.05
          },
          "xaxis": {
           "automargin": true,
           "gridcolor": "white",
           "linecolor": "white",
           "ticks": "",
           "title": {
            "standoff": 15
           },
           "zerolinecolor": "white",
           "zerolinewidth": 2
          },
          "yaxis": {
           "automargin": true,
           "gridcolor": "white",
           "linecolor": "white",
           "ticks": "",
           "title": {
            "standoff": 15
           },
           "zerolinecolor": "white",
           "zerolinewidth": 2
          }
         }
        },
        "title": {
         "text": "The top 5% most recurrent libraries in PE imports",
         "x": 0.3
        }
       }
      },
      "text/html": [
       "<div>                            <div id=\"c6e66d61-6aaf-4e43-b3a8-f525adcedb93\" class=\"plotly-graph-div\" style=\"height:525px; width:100%;\"></div>            <script type=\"text/javascript\">                require([\"plotly\"], function(Plotly) {                    window.PLOTLYENV=window.PLOTLYENV || {};                                    if (document.getElementById(\"c6e66d61-6aaf-4e43-b3a8-f525adcedb93\")) {                    Plotly.newPlot(                        \"c6e66d61-6aaf-4e43-b3a8-f525adcedb93\",                        [{\"marker\": {\"color\": [\"lightslategray\", \"lightslategray\", \"lightblue\", \"lightblue\", \"lightblue\", \"lightblue\", \"lightslategray\", \"lightblue\", \"lightblue\", \"lightslategray\", \"lightblue\", \"lightblue\", \"lightblue\", \"lightslategray\", \"lightblue\"]}, \"type\": \"bar\", \"x\": [\"kernel32.dll\", \"user32.dll\", \"advapi32.dll\", \"gdi32.dll\", \"msvcrt.dll\", \"shell32.dll\", \"ole32.dll\", \"comctl32.dll\", \"version.dll\", \"oleaut32.dll\", \"shlwapi.dll\", \"wininet.dll\", \"ntdll.dll\", \"ws2_32.dll\", \"comdlg32.dll\"], \"y\": [2425, 1845, 1532, 883, 851, 773, 627, 598, 487, 430, 327, 295, 246, 240, 220]}],                        {\"template\": {\"data\": {\"bar\": [{\"error_x\": {\"color\": \"#2a3f5f\"}, \"error_y\": {\"color\": \"#2a3f5f\"}, \"marker\": {\"line\": {\"color\": \"#E5ECF6\", \"width\": 0.5}}, \"type\": \"bar\"}], \"barpolar\": [{\"marker\": {\"line\": {\"color\": \"#E5ECF6\", \"width\": 0.5}}, \"type\": \"barpolar\"}], \"carpet\": [{\"aaxis\": {\"endlinecolor\": \"#2a3f5f\", \"gridcolor\": \"white\", \"linecolor\": \"white\", \"minorgridcolor\": \"white\", \"startlinecolor\": \"#2a3f5f\"}, \"baxis\": {\"endlinecolor\": \"#2a3f5f\", \"gridcolor\": \"white\", \"linecolor\": \"white\", \"minorgridcolor\": \"white\", \"startlinecolor\": \"#2a3f5f\"}, \"type\": \"carpet\"}], \"choropleth\": [{\"colorbar\": {\"outlinewidth\": 0, \"ticks\": \"\"}, \"type\": \"choropleth\"}], \"contour\": [{\"colorbar\": {\"outlinewidth\": 0, \"ticks\": \"\"}, \"colorscale\": [[0.0, \"#0d0887\"], [0.1111111111111111, \"#46039f\"], [0.2222222222222222, \"#7201a8\"], [0.3333333333333333, \"#9c179e\"], [0.4444444444444444, \"#bd3786\"], [0.5555555555555556, \"#d8576b\"], [0.6666666666666666, \"#ed7953\"], [0.7777777777777778, \"#fb9f3a\"], [0.8888888888888888, \"#fdca26\"], [1.0, \"#f0f921\"]], \"type\": \"contour\"}], \"contourcarpet\": [{\"colorbar\": {\"outlinewidth\": 0, \"ticks\": \"\"}, \"type\": \"contourcarpet\"}], \"heatmap\": [{\"colorbar\": {\"outlinewidth\": 0, \"ticks\": \"\"}, \"colorscale\": [[0.0, \"#0d0887\"], [0.1111111111111111, \"#46039f\"], [0.2222222222222222, \"#7201a8\"], [0.3333333333333333, \"#9c179e\"], [0.4444444444444444, \"#bd3786\"], [0.5555555555555556, \"#d8576b\"], [0.6666666666666666, \"#ed7953\"], [0.7777777777777778, \"#fb9f3a\"], [0.8888888888888888, \"#fdca26\"], [1.0, \"#f0f921\"]], \"type\": \"heatmap\"}], \"heatmapgl\": [{\"colorbar\": {\"outlinewidth\": 0, \"ticks\": \"\"}, \"colorscale\": [[0.0, \"#0d0887\"], [0.1111111111111111, \"#46039f\"], [0.2222222222222222, \"#7201a8\"], [0.3333333333333333, \"#9c179e\"], [0.4444444444444444, \"#bd3786\"], [0.5555555555555556, \"#d8576b\"], [0.6666666666666666, \"#ed7953\"], [0.7777777777777778, \"#fb9f3a\"], [0.8888888888888888, \"#fdca26\"], [1.0, \"#f0f921\"]], \"type\": \"heatmapgl\"}], \"histogram\": [{\"marker\": {\"colorbar\": {\"outlinewidth\": 0, \"ticks\": \"\"}}, \"type\": \"histogram\"}], \"histogram2d\": [{\"colorbar\": {\"outlinewidth\": 0, \"ticks\": \"\"}, \"colorscale\": [[0.0, \"#0d0887\"], [0.1111111111111111, \"#46039f\"], [0.2222222222222222, \"#7201a8\"], [0.3333333333333333, \"#9c179e\"], [0.4444444444444444, \"#bd3786\"], [0.5555555555555556, \"#d8576b\"], [0.6666666666666666, \"#ed7953\"], [0.7777777777777778, \"#fb9f3a\"], [0.8888888888888888, \"#fdca26\"], [1.0, \"#f0f921\"]], \"type\": \"histogram2d\"}], \"histogram2dcontour\": [{\"colorbar\": {\"outlinewidth\": 0, \"ticks\": \"\"}, \"colorscale\": [[0.0, \"#0d0887\"], [0.1111111111111111, \"#46039f\"], [0.2222222222222222, \"#7201a8\"], [0.3333333333333333, \"#9c179e\"], [0.4444444444444444, \"#bd3786\"], [0.5555555555555556, \"#d8576b\"], [0.6666666666666666, \"#ed7953\"], [0.7777777777777778, \"#fb9f3a\"], [0.8888888888888888, \"#fdca26\"], [1.0, \"#f0f921\"]], \"type\": \"histogram2dcontour\"}], \"mesh3d\": [{\"colorbar\": {\"outlinewidth\": 0, \"ticks\": \"\"}, \"type\": \"mesh3d\"}], \"parcoords\": [{\"line\": {\"colorbar\": {\"outlinewidth\": 0, \"ticks\": \"\"}}, \"type\": \"parcoords\"}], \"pie\": [{\"automargin\": true, \"type\": \"pie\"}], \"scatter\": [{\"marker\": {\"colorbar\": {\"outlinewidth\": 0, \"ticks\": \"\"}}, \"type\": \"scatter\"}], \"scatter3d\": [{\"line\": {\"colorbar\": {\"outlinewidth\": 0, \"ticks\": \"\"}}, \"marker\": {\"colorbar\": {\"outlinewidth\": 0, \"ticks\": \"\"}}, \"type\": \"scatter3d\"}], \"scattercarpet\": [{\"marker\": {\"colorbar\": {\"outlinewidth\": 0, \"ticks\": \"\"}}, \"type\": \"scattercarpet\"}], \"scattergeo\": [{\"marker\": {\"colorbar\": {\"outlinewidth\": 0, \"ticks\": \"\"}}, \"type\": \"scattergeo\"}], \"scattergl\": [{\"marker\": {\"colorbar\": {\"outlinewidth\": 0, \"ticks\": \"\"}}, \"type\": \"scattergl\"}], \"scattermapbox\": [{\"marker\": {\"colorbar\": {\"outlinewidth\": 0, \"ticks\": \"\"}}, \"type\": \"scattermapbox\"}], \"scatterpolar\": [{\"marker\": {\"colorbar\": {\"outlinewidth\": 0, \"ticks\": \"\"}}, \"type\": \"scatterpolar\"}], \"scatterpolargl\": [{\"marker\": {\"colorbar\": {\"outlinewidth\": 0, \"ticks\": \"\"}}, \"type\": \"scatterpolargl\"}], \"scatterternary\": [{\"marker\": {\"colorbar\": {\"outlinewidth\": 0, \"ticks\": \"\"}}, \"type\": \"scatterternary\"}], \"surface\": [{\"colorbar\": {\"outlinewidth\": 0, \"ticks\": \"\"}, \"colorscale\": [[0.0, \"#0d0887\"], [0.1111111111111111, \"#46039f\"], [0.2222222222222222, \"#7201a8\"], [0.3333333333333333, \"#9c179e\"], [0.4444444444444444, \"#bd3786\"], [0.5555555555555556, \"#d8576b\"], [0.6666666666666666, \"#ed7953\"], [0.7777777777777778, \"#fb9f3a\"], [0.8888888888888888, \"#fdca26\"], [1.0, \"#f0f921\"]], \"type\": \"surface\"}], \"table\": [{\"cells\": {\"fill\": {\"color\": \"#EBF0F8\"}, \"line\": {\"color\": \"white\"}}, \"header\": {\"fill\": {\"color\": \"#C8D4E3\"}, \"line\": {\"color\": \"white\"}}, \"type\": \"table\"}]}, \"layout\": {\"annotationdefaults\": {\"arrowcolor\": \"#2a3f5f\", \"arrowhead\": 0, \"arrowwidth\": 1}, \"autotypenumbers\": \"strict\", \"coloraxis\": {\"colorbar\": {\"outlinewidth\": 0, \"ticks\": \"\"}}, \"colorscale\": {\"diverging\": [[0, \"#8e0152\"], [0.1, \"#c51b7d\"], [0.2, \"#de77ae\"], [0.3, \"#f1b6da\"], [0.4, \"#fde0ef\"], [0.5, \"#f7f7f7\"], [0.6, \"#e6f5d0\"], [0.7, \"#b8e186\"], [0.8, \"#7fbc41\"], [0.9, \"#4d9221\"], [1, \"#276419\"]], \"sequential\": [[0.0, \"#0d0887\"], [0.1111111111111111, \"#46039f\"], [0.2222222222222222, \"#7201a8\"], [0.3333333333333333, \"#9c179e\"], [0.4444444444444444, \"#bd3786\"], [0.5555555555555556, \"#d8576b\"], [0.6666666666666666, \"#ed7953\"], [0.7777777777777778, \"#fb9f3a\"], [0.8888888888888888, \"#fdca26\"], [1.0, \"#f0f921\"]], \"sequentialminus\": [[0.0, \"#0d0887\"], [0.1111111111111111, \"#46039f\"], [0.2222222222222222, \"#7201a8\"], [0.3333333333333333, \"#9c179e\"], [0.4444444444444444, \"#bd3786\"], [0.5555555555555556, \"#d8576b\"], [0.6666666666666666, \"#ed7953\"], [0.7777777777777778, \"#fb9f3a\"], [0.8888888888888888, \"#fdca26\"], [1.0, \"#f0f921\"]]}, \"colorway\": [\"#636efa\", \"#EF553B\", \"#00cc96\", \"#ab63fa\", \"#FFA15A\", \"#19d3f3\", \"#FF6692\", \"#B6E880\", \"#FF97FF\", \"#FECB52\"], \"font\": {\"color\": \"#2a3f5f\"}, \"geo\": {\"bgcolor\": \"white\", \"lakecolor\": \"white\", \"landcolor\": \"#E5ECF6\", \"showlakes\": true, \"showland\": true, \"subunitcolor\": \"white\"}, \"hoverlabel\": {\"align\": \"left\"}, \"hovermode\": \"closest\", \"mapbox\": {\"style\": \"light\"}, \"paper_bgcolor\": \"white\", \"plot_bgcolor\": \"#E5ECF6\", \"polar\": {\"angularaxis\": {\"gridcolor\": \"white\", \"linecolor\": \"white\", \"ticks\": \"\"}, \"bgcolor\": \"#E5ECF6\", \"radialaxis\": {\"gridcolor\": \"white\", \"linecolor\": \"white\", \"ticks\": \"\"}}, \"scene\": {\"xaxis\": {\"backgroundcolor\": \"#E5ECF6\", \"gridcolor\": \"white\", \"gridwidth\": 2, \"linecolor\": \"white\", \"showbackground\": true, \"ticks\": \"\", \"zerolinecolor\": \"white\"}, \"yaxis\": {\"backgroundcolor\": \"#E5ECF6\", \"gridcolor\": \"white\", \"gridwidth\": 2, \"linecolor\": \"white\", \"showbackground\": true, \"ticks\": \"\", \"zerolinecolor\": \"white\"}, \"zaxis\": {\"backgroundcolor\": \"#E5ECF6\", \"gridcolor\": \"white\", \"gridwidth\": 2, \"linecolor\": \"white\", \"showbackground\": true, \"ticks\": \"\", \"zerolinecolor\": \"white\"}}, \"shapedefaults\": {\"line\": {\"color\": \"#2a3f5f\"}}, \"ternary\": {\"aaxis\": {\"gridcolor\": \"white\", \"linecolor\": \"white\", \"ticks\": \"\"}, \"baxis\": {\"gridcolor\": \"white\", \"linecolor\": \"white\", \"ticks\": \"\"}, \"bgcolor\": \"#E5ECF6\", \"caxis\": {\"gridcolor\": \"white\", \"linecolor\": \"white\", \"ticks\": \"\"}}, \"title\": {\"x\": 0.05}, \"xaxis\": {\"automargin\": true, \"gridcolor\": \"white\", \"linecolor\": \"white\", \"ticks\": \"\", \"title\": {\"standoff\": 15}, \"zerolinecolor\": \"white\", \"zerolinewidth\": 2}, \"yaxis\": {\"automargin\": true, \"gridcolor\": \"white\", \"linecolor\": \"white\", \"ticks\": \"\", \"title\": {\"standoff\": 15}, \"zerolinecolor\": \"white\", \"zerolinewidth\": 2}}}, \"title\": {\"text\": \"The top 5% most recurrent libraries in PE imports\", \"x\": 0.3}},                        {\"responsive\": true}                    ).then(function(){\n",
       "                            \n",
       "var gd = document.getElementById('c6e66d61-6aaf-4e43-b3a8-f525adcedb93');\n",
       "var x = new MutationObserver(function (mutations, observer) {{\n",
       "        var display = window.getComputedStyle(gd).display;\n",
       "        if (!display || display === 'none') {{\n",
       "            console.log([gd, 'removed!']);\n",
       "            Plotly.purge(gd);\n",
       "            observer.disconnect();\n",
       "        }}\n",
       "}});\n",
       "\n",
       "// Listen for the removal of the full notebook cells\n",
       "var notebookContainer = gd.closest('#notebook-container');\n",
       "if (notebookContainer) {{\n",
       "    x.observe(notebookContainer, {childList: true});\n",
       "}}\n",
       "\n",
       "// Listen for the clearing of the current output cell\n",
       "var outputEl = gd.closest('.output');\n",
       "if (outputEl) {{\n",
       "    x.observe(outputEl, {childList: true});\n",
       "}}\n",
       "\n",
       "                        })                };                });            </script>        </div>"
      ]
     },
     "metadata": {},
     "output_type": "display_data"
    }
   ],
   "source": [
    "#Retrieve the most recurrent libraries in PE imports across all data samples\n",
    "selected_libraries_indices = []\n",
    "for column in k_best_selected_libraries:\n",
    "    if column in most_recurrent_libraries.index.tolist():\n",
    "        selected_libraries_indices.append(most_recurrent_libraries.index.tolist().index(column))\n",
    "\n",
    "#Plot\n",
    "colors = np.repeat('lightslategray', limit)\n",
    "colors[selected_libraries_indices] = 'lightblue'\n",
    "\n",
    "fig = go.Figure( data = [ go.Bar(x=most_recurrent_libraries.index, \n",
    "                                 y=most_recurrent_libraries.values,  \n",
    "                                 marker_color=colors) ] )\n",
    "\n",
    "fig.update_layout(title='The top 5% most recurrent libraries in PE imports', title_x=0.3)\n",
    "\n",
    "fig.show()"
   ]
  },
  {
   "cell_type": "markdown",
   "metadata": {},
   "source": [
    "Let's explore what's the majority class in function of the involved libraries in PE imports:"
   ]
  },
  {
   "cell_type": "code",
   "execution_count": 198,
   "metadata": {},
   "outputs": [],
   "source": [
    "def plot_class_distribution(df, libraries, title, label='sublabel'):\n",
    "    \n",
    "    malware = []\n",
    "    ransomware = []\n",
    "    \n",
    "    #Balancing:\n",
    "    X, y = get_X_y(df, label=label)\n",
    "    smote_params = {\n",
    "    'category' : 'adaptive',\n",
    "    'over_strategy' : 0.5,\n",
    "    'under_strategy' : 0.8,\n",
    "    'k_neighbors' : 5,\n",
    "    }\n",
    "    X, y = smote(X, y, **smote_params, fit=True)\n",
    "    X['sublabel'] = y\n",
    "    df = X.copy()\n",
    "    \n",
    "    for library in libraries:\n",
    "        subset = df[df[library] != 0]\n",
    "        total = len(subset)\n",
    "        malware.append(subset[label].sum())\n",
    "        ransomware.append(subset[label].sum() - total)\n",
    "\n",
    "    fig = go.Figure(data=[\n",
    "        go.Bar(name='Malware', x=libraries, y=malware, marker_color=np.repeat('crimson', len(libraries))),\n",
    "        go.Bar(name='Ransomware', x=libraries, y=ransomware, marker_color=np.repeat('lightslategray', len(libraries))) ])\n",
    "    \n",
    "    fig.update_layout(barmode='group', \n",
    "                      title=title, \n",
    "                      title_x=0.2)\n",
    "    fig.show()"
   ]
  },
  {
   "cell_type": "code",
   "execution_count": 199,
   "metadata": {},
   "outputs": [
    {
     "data": {
      "application/vnd.plotly.v1+json": {
       "config": {
        "plotlyServerURL": "https://plot.ly"
       },
       "data": [
        {
         "marker": {
          "color": [
           "crimson",
           "crimson",
           "crimson",
           "crimson",
           "crimson",
           "crimson",
           "crimson",
           "crimson",
           "crimson",
           "crimson"
          ]
         },
         "name": "Malware",
         "type": "bar",
         "x": [
          "kernel32.dll",
          "user32.dll",
          "advapi32.dll",
          "gdi32.dll",
          "msvcrt.dll",
          "shell32.dll",
          "ole32.dll",
          "comctl32.dll",
          "version.dll",
          "oleaut32.dll"
         ],
         "y": [
          3443,
          2685,
          1732,
          669,
          586,
          846,
          719,
          460,
          327,
          620
         ]
        },
        {
         "marker": {
          "color": [
           "lightslategray",
           "lightslategray",
           "lightslategray",
           "lightslategray",
           "lightslategray",
           "lightslategray",
           "lightslategray",
           "lightslategray",
           "lightslategray",
           "lightslategray"
          ]
         },
         "name": "Ransomware",
         "type": "bar",
         "x": [
          "kernel32.dll",
          "user32.dll",
          "advapi32.dll",
          "gdi32.dll",
          "msvcrt.dll",
          "shell32.dll",
          "ole32.dll",
          "comctl32.dll",
          "version.dll",
          "oleaut32.dll"
         ],
         "y": [
          1046,
          841,
          408,
          53,
          14,
          185,
          174,
          34,
          6,
          199
         ]
        }
       ],
       "layout": {
        "barmode": "group",
        "template": {
         "data": {
          "bar": [
           {
            "error_x": {
             "color": "#2a3f5f"
            },
            "error_y": {
             "color": "#2a3f5f"
            },
            "marker": {
             "line": {
              "color": "#E5ECF6",
              "width": 0.5
             }
            },
            "type": "bar"
           }
          ],
          "barpolar": [
           {
            "marker": {
             "line": {
              "color": "#E5ECF6",
              "width": 0.5
             }
            },
            "type": "barpolar"
           }
          ],
          "carpet": [
           {
            "aaxis": {
             "endlinecolor": "#2a3f5f",
             "gridcolor": "white",
             "linecolor": "white",
             "minorgridcolor": "white",
             "startlinecolor": "#2a3f5f"
            },
            "baxis": {
             "endlinecolor": "#2a3f5f",
             "gridcolor": "white",
             "linecolor": "white",
             "minorgridcolor": "white",
             "startlinecolor": "#2a3f5f"
            },
            "type": "carpet"
           }
          ],
          "choropleth": [
           {
            "colorbar": {
             "outlinewidth": 0,
             "ticks": ""
            },
            "type": "choropleth"
           }
          ],
          "contour": [
           {
            "colorbar": {
             "outlinewidth": 0,
             "ticks": ""
            },
            "colorscale": [
             [
              0,
              "#0d0887"
             ],
             [
              0.1111111111111111,
              "#46039f"
             ],
             [
              0.2222222222222222,
              "#7201a8"
             ],
             [
              0.3333333333333333,
              "#9c179e"
             ],
             [
              0.4444444444444444,
              "#bd3786"
             ],
             [
              0.5555555555555556,
              "#d8576b"
             ],
             [
              0.6666666666666666,
              "#ed7953"
             ],
             [
              0.7777777777777778,
              "#fb9f3a"
             ],
             [
              0.8888888888888888,
              "#fdca26"
             ],
             [
              1,
              "#f0f921"
             ]
            ],
            "type": "contour"
           }
          ],
          "contourcarpet": [
           {
            "colorbar": {
             "outlinewidth": 0,
             "ticks": ""
            },
            "type": "contourcarpet"
           }
          ],
          "heatmap": [
           {
            "colorbar": {
             "outlinewidth": 0,
             "ticks": ""
            },
            "colorscale": [
             [
              0,
              "#0d0887"
             ],
             [
              0.1111111111111111,
              "#46039f"
             ],
             [
              0.2222222222222222,
              "#7201a8"
             ],
             [
              0.3333333333333333,
              "#9c179e"
             ],
             [
              0.4444444444444444,
              "#bd3786"
             ],
             [
              0.5555555555555556,
              "#d8576b"
             ],
             [
              0.6666666666666666,
              "#ed7953"
             ],
             [
              0.7777777777777778,
              "#fb9f3a"
             ],
             [
              0.8888888888888888,
              "#fdca26"
             ],
             [
              1,
              "#f0f921"
             ]
            ],
            "type": "heatmap"
           }
          ],
          "heatmapgl": [
           {
            "colorbar": {
             "outlinewidth": 0,
             "ticks": ""
            },
            "colorscale": [
             [
              0,
              "#0d0887"
             ],
             [
              0.1111111111111111,
              "#46039f"
             ],
             [
              0.2222222222222222,
              "#7201a8"
             ],
             [
              0.3333333333333333,
              "#9c179e"
             ],
             [
              0.4444444444444444,
              "#bd3786"
             ],
             [
              0.5555555555555556,
              "#d8576b"
             ],
             [
              0.6666666666666666,
              "#ed7953"
             ],
             [
              0.7777777777777778,
              "#fb9f3a"
             ],
             [
              0.8888888888888888,
              "#fdca26"
             ],
             [
              1,
              "#f0f921"
             ]
            ],
            "type": "heatmapgl"
           }
          ],
          "histogram": [
           {
            "marker": {
             "colorbar": {
              "outlinewidth": 0,
              "ticks": ""
             }
            },
            "type": "histogram"
           }
          ],
          "histogram2d": [
           {
            "colorbar": {
             "outlinewidth": 0,
             "ticks": ""
            },
            "colorscale": [
             [
              0,
              "#0d0887"
             ],
             [
              0.1111111111111111,
              "#46039f"
             ],
             [
              0.2222222222222222,
              "#7201a8"
             ],
             [
              0.3333333333333333,
              "#9c179e"
             ],
             [
              0.4444444444444444,
              "#bd3786"
             ],
             [
              0.5555555555555556,
              "#d8576b"
             ],
             [
              0.6666666666666666,
              "#ed7953"
             ],
             [
              0.7777777777777778,
              "#fb9f3a"
             ],
             [
              0.8888888888888888,
              "#fdca26"
             ],
             [
              1,
              "#f0f921"
             ]
            ],
            "type": "histogram2d"
           }
          ],
          "histogram2dcontour": [
           {
            "colorbar": {
             "outlinewidth": 0,
             "ticks": ""
            },
            "colorscale": [
             [
              0,
              "#0d0887"
             ],
             [
              0.1111111111111111,
              "#46039f"
             ],
             [
              0.2222222222222222,
              "#7201a8"
             ],
             [
              0.3333333333333333,
              "#9c179e"
             ],
             [
              0.4444444444444444,
              "#bd3786"
             ],
             [
              0.5555555555555556,
              "#d8576b"
             ],
             [
              0.6666666666666666,
              "#ed7953"
             ],
             [
              0.7777777777777778,
              "#fb9f3a"
             ],
             [
              0.8888888888888888,
              "#fdca26"
             ],
             [
              1,
              "#f0f921"
             ]
            ],
            "type": "histogram2dcontour"
           }
          ],
          "mesh3d": [
           {
            "colorbar": {
             "outlinewidth": 0,
             "ticks": ""
            },
            "type": "mesh3d"
           }
          ],
          "parcoords": [
           {
            "line": {
             "colorbar": {
              "outlinewidth": 0,
              "ticks": ""
             }
            },
            "type": "parcoords"
           }
          ],
          "pie": [
           {
            "automargin": true,
            "type": "pie"
           }
          ],
          "scatter": [
           {
            "marker": {
             "colorbar": {
              "outlinewidth": 0,
              "ticks": ""
             }
            },
            "type": "scatter"
           }
          ],
          "scatter3d": [
           {
            "line": {
             "colorbar": {
              "outlinewidth": 0,
              "ticks": ""
             }
            },
            "marker": {
             "colorbar": {
              "outlinewidth": 0,
              "ticks": ""
             }
            },
            "type": "scatter3d"
           }
          ],
          "scattercarpet": [
           {
            "marker": {
             "colorbar": {
              "outlinewidth": 0,
              "ticks": ""
             }
            },
            "type": "scattercarpet"
           }
          ],
          "scattergeo": [
           {
            "marker": {
             "colorbar": {
              "outlinewidth": 0,
              "ticks": ""
             }
            },
            "type": "scattergeo"
           }
          ],
          "scattergl": [
           {
            "marker": {
             "colorbar": {
              "outlinewidth": 0,
              "ticks": ""
             }
            },
            "type": "scattergl"
           }
          ],
          "scattermapbox": [
           {
            "marker": {
             "colorbar": {
              "outlinewidth": 0,
              "ticks": ""
             }
            },
            "type": "scattermapbox"
           }
          ],
          "scatterpolar": [
           {
            "marker": {
             "colorbar": {
              "outlinewidth": 0,
              "ticks": ""
             }
            },
            "type": "scatterpolar"
           }
          ],
          "scatterpolargl": [
           {
            "marker": {
             "colorbar": {
              "outlinewidth": 0,
              "ticks": ""
             }
            },
            "type": "scatterpolargl"
           }
          ],
          "scatterternary": [
           {
            "marker": {
             "colorbar": {
              "outlinewidth": 0,
              "ticks": ""
             }
            },
            "type": "scatterternary"
           }
          ],
          "surface": [
           {
            "colorbar": {
             "outlinewidth": 0,
             "ticks": ""
            },
            "colorscale": [
             [
              0,
              "#0d0887"
             ],
             [
              0.1111111111111111,
              "#46039f"
             ],
             [
              0.2222222222222222,
              "#7201a8"
             ],
             [
              0.3333333333333333,
              "#9c179e"
             ],
             [
              0.4444444444444444,
              "#bd3786"
             ],
             [
              0.5555555555555556,
              "#d8576b"
             ],
             [
              0.6666666666666666,
              "#ed7953"
             ],
             [
              0.7777777777777778,
              "#fb9f3a"
             ],
             [
              0.8888888888888888,
              "#fdca26"
             ],
             [
              1,
              "#f0f921"
             ]
            ],
            "type": "surface"
           }
          ],
          "table": [
           {
            "cells": {
             "fill": {
              "color": "#EBF0F8"
             },
             "line": {
              "color": "white"
             }
            },
            "header": {
             "fill": {
              "color": "#C8D4E3"
             },
             "line": {
              "color": "white"
             }
            },
            "type": "table"
           }
          ]
         },
         "layout": {
          "annotationdefaults": {
           "arrowcolor": "#2a3f5f",
           "arrowhead": 0,
           "arrowwidth": 1
          },
          "autotypenumbers": "strict",
          "coloraxis": {
           "colorbar": {
            "outlinewidth": 0,
            "ticks": ""
           }
          },
          "colorscale": {
           "diverging": [
            [
             0,
             "#8e0152"
            ],
            [
             0.1,
             "#c51b7d"
            ],
            [
             0.2,
             "#de77ae"
            ],
            [
             0.3,
             "#f1b6da"
            ],
            [
             0.4,
             "#fde0ef"
            ],
            [
             0.5,
             "#f7f7f7"
            ],
            [
             0.6,
             "#e6f5d0"
            ],
            [
             0.7,
             "#b8e186"
            ],
            [
             0.8,
             "#7fbc41"
            ],
            [
             0.9,
             "#4d9221"
            ],
            [
             1,
             "#276419"
            ]
           ],
           "sequential": [
            [
             0,
             "#0d0887"
            ],
            [
             0.1111111111111111,
             "#46039f"
            ],
            [
             0.2222222222222222,
             "#7201a8"
            ],
            [
             0.3333333333333333,
             "#9c179e"
            ],
            [
             0.4444444444444444,
             "#bd3786"
            ],
            [
             0.5555555555555556,
             "#d8576b"
            ],
            [
             0.6666666666666666,
             "#ed7953"
            ],
            [
             0.7777777777777778,
             "#fb9f3a"
            ],
            [
             0.8888888888888888,
             "#fdca26"
            ],
            [
             1,
             "#f0f921"
            ]
           ],
           "sequentialminus": [
            [
             0,
             "#0d0887"
            ],
            [
             0.1111111111111111,
             "#46039f"
            ],
            [
             0.2222222222222222,
             "#7201a8"
            ],
            [
             0.3333333333333333,
             "#9c179e"
            ],
            [
             0.4444444444444444,
             "#bd3786"
            ],
            [
             0.5555555555555556,
             "#d8576b"
            ],
            [
             0.6666666666666666,
             "#ed7953"
            ],
            [
             0.7777777777777778,
             "#fb9f3a"
            ],
            [
             0.8888888888888888,
             "#fdca26"
            ],
            [
             1,
             "#f0f921"
            ]
           ]
          },
          "colorway": [
           "#636efa",
           "#EF553B",
           "#00cc96",
           "#ab63fa",
           "#FFA15A",
           "#19d3f3",
           "#FF6692",
           "#B6E880",
           "#FF97FF",
           "#FECB52"
          ],
          "font": {
           "color": "#2a3f5f"
          },
          "geo": {
           "bgcolor": "white",
           "lakecolor": "white",
           "landcolor": "#E5ECF6",
           "showlakes": true,
           "showland": true,
           "subunitcolor": "white"
          },
          "hoverlabel": {
           "align": "left"
          },
          "hovermode": "closest",
          "mapbox": {
           "style": "light"
          },
          "paper_bgcolor": "white",
          "plot_bgcolor": "#E5ECF6",
          "polar": {
           "angularaxis": {
            "gridcolor": "white",
            "linecolor": "white",
            "ticks": ""
           },
           "bgcolor": "#E5ECF6",
           "radialaxis": {
            "gridcolor": "white",
            "linecolor": "white",
            "ticks": ""
           }
          },
          "scene": {
           "xaxis": {
            "backgroundcolor": "#E5ECF6",
            "gridcolor": "white",
            "gridwidth": 2,
            "linecolor": "white",
            "showbackground": true,
            "ticks": "",
            "zerolinecolor": "white"
           },
           "yaxis": {
            "backgroundcolor": "#E5ECF6",
            "gridcolor": "white",
            "gridwidth": 2,
            "linecolor": "white",
            "showbackground": true,
            "ticks": "",
            "zerolinecolor": "white"
           },
           "zaxis": {
            "backgroundcolor": "#E5ECF6",
            "gridcolor": "white",
            "gridwidth": 2,
            "linecolor": "white",
            "showbackground": true,
            "ticks": "",
            "zerolinecolor": "white"
           }
          },
          "shapedefaults": {
           "line": {
            "color": "#2a3f5f"
           }
          },
          "ternary": {
           "aaxis": {
            "gridcolor": "white",
            "linecolor": "white",
            "ticks": ""
           },
           "baxis": {
            "gridcolor": "white",
            "linecolor": "white",
            "ticks": ""
           },
           "bgcolor": "#E5ECF6",
           "caxis": {
            "gridcolor": "white",
            "linecolor": "white",
            "ticks": ""
           }
          },
          "title": {
           "x": 0.05
          },
          "xaxis": {
           "automargin": true,
           "gridcolor": "white",
           "linecolor": "white",
           "ticks": "",
           "title": {
            "standoff": 15
           },
           "zerolinecolor": "white",
           "zerolinewidth": 2
          },
          "yaxis": {
           "automargin": true,
           "gridcolor": "white",
           "linecolor": "white",
           "ticks": "",
           "title": {
            "standoff": 15
           },
           "zerolinecolor": "white",
           "zerolinewidth": 2
          }
         }
        },
        "title": {
         "text": "The class distribution for the most recurrent libraries in PE imports",
         "x": 0.2
        }
       }
      },
      "text/html": [
       "<div>                            <div id=\"f491c1fb-c5d7-4c42-abaa-4cb562a935c7\" class=\"plotly-graph-div\" style=\"height:525px; width:100%;\"></div>            <script type=\"text/javascript\">                require([\"plotly\"], function(Plotly) {                    window.PLOTLYENV=window.PLOTLYENV || {};                                    if (document.getElementById(\"f491c1fb-c5d7-4c42-abaa-4cb562a935c7\")) {                    Plotly.newPlot(                        \"f491c1fb-c5d7-4c42-abaa-4cb562a935c7\",                        [{\"marker\": {\"color\": [\"crimson\", \"crimson\", \"crimson\", \"crimson\", \"crimson\", \"crimson\", \"crimson\", \"crimson\", \"crimson\", \"crimson\"]}, \"name\": \"Malware\", \"type\": \"bar\", \"x\": [\"kernel32.dll\", \"user32.dll\", \"advapi32.dll\", \"gdi32.dll\", \"msvcrt.dll\", \"shell32.dll\", \"ole32.dll\", \"comctl32.dll\", \"version.dll\", \"oleaut32.dll\"], \"y\": [3443, 2685, 1732, 669, 586, 846, 719, 460, 327, 620]}, {\"marker\": {\"color\": [\"lightslategray\", \"lightslategray\", \"lightslategray\", \"lightslategray\", \"lightslategray\", \"lightslategray\", \"lightslategray\", \"lightslategray\", \"lightslategray\", \"lightslategray\"]}, \"name\": \"Ransomware\", \"type\": \"bar\", \"x\": [\"kernel32.dll\", \"user32.dll\", \"advapi32.dll\", \"gdi32.dll\", \"msvcrt.dll\", \"shell32.dll\", \"ole32.dll\", \"comctl32.dll\", \"version.dll\", \"oleaut32.dll\"], \"y\": [1046, 841, 408, 53, 14, 185, 174, 34, 6, 199]}],                        {\"barmode\": \"group\", \"template\": {\"data\": {\"bar\": [{\"error_x\": {\"color\": \"#2a3f5f\"}, \"error_y\": {\"color\": \"#2a3f5f\"}, \"marker\": {\"line\": {\"color\": \"#E5ECF6\", \"width\": 0.5}}, \"type\": \"bar\"}], \"barpolar\": [{\"marker\": {\"line\": {\"color\": \"#E5ECF6\", \"width\": 0.5}}, \"type\": \"barpolar\"}], \"carpet\": [{\"aaxis\": {\"endlinecolor\": \"#2a3f5f\", \"gridcolor\": \"white\", \"linecolor\": \"white\", \"minorgridcolor\": \"white\", \"startlinecolor\": \"#2a3f5f\"}, \"baxis\": {\"endlinecolor\": \"#2a3f5f\", \"gridcolor\": \"white\", \"linecolor\": \"white\", \"minorgridcolor\": \"white\", \"startlinecolor\": \"#2a3f5f\"}, \"type\": \"carpet\"}], \"choropleth\": [{\"colorbar\": {\"outlinewidth\": 0, \"ticks\": \"\"}, \"type\": \"choropleth\"}], \"contour\": [{\"colorbar\": {\"outlinewidth\": 0, \"ticks\": \"\"}, \"colorscale\": [[0.0, \"#0d0887\"], [0.1111111111111111, \"#46039f\"], [0.2222222222222222, \"#7201a8\"], [0.3333333333333333, \"#9c179e\"], [0.4444444444444444, \"#bd3786\"], [0.5555555555555556, \"#d8576b\"], [0.6666666666666666, \"#ed7953\"], [0.7777777777777778, \"#fb9f3a\"], [0.8888888888888888, \"#fdca26\"], [1.0, \"#f0f921\"]], \"type\": \"contour\"}], \"contourcarpet\": [{\"colorbar\": {\"outlinewidth\": 0, \"ticks\": \"\"}, \"type\": \"contourcarpet\"}], \"heatmap\": [{\"colorbar\": {\"outlinewidth\": 0, \"ticks\": \"\"}, \"colorscale\": [[0.0, \"#0d0887\"], [0.1111111111111111, \"#46039f\"], [0.2222222222222222, \"#7201a8\"], [0.3333333333333333, \"#9c179e\"], [0.4444444444444444, \"#bd3786\"], [0.5555555555555556, \"#d8576b\"], [0.6666666666666666, \"#ed7953\"], [0.7777777777777778, \"#fb9f3a\"], [0.8888888888888888, \"#fdca26\"], [1.0, \"#f0f921\"]], \"type\": \"heatmap\"}], \"heatmapgl\": [{\"colorbar\": {\"outlinewidth\": 0, \"ticks\": \"\"}, \"colorscale\": [[0.0, \"#0d0887\"], [0.1111111111111111, \"#46039f\"], [0.2222222222222222, \"#7201a8\"], [0.3333333333333333, \"#9c179e\"], [0.4444444444444444, \"#bd3786\"], [0.5555555555555556, \"#d8576b\"], [0.6666666666666666, \"#ed7953\"], [0.7777777777777778, \"#fb9f3a\"], [0.8888888888888888, \"#fdca26\"], [1.0, \"#f0f921\"]], \"type\": \"heatmapgl\"}], \"histogram\": [{\"marker\": {\"colorbar\": {\"outlinewidth\": 0, \"ticks\": \"\"}}, \"type\": \"histogram\"}], \"histogram2d\": [{\"colorbar\": {\"outlinewidth\": 0, \"ticks\": \"\"}, \"colorscale\": [[0.0, \"#0d0887\"], [0.1111111111111111, \"#46039f\"], [0.2222222222222222, \"#7201a8\"], [0.3333333333333333, \"#9c179e\"], [0.4444444444444444, \"#bd3786\"], [0.5555555555555556, \"#d8576b\"], [0.6666666666666666, \"#ed7953\"], [0.7777777777777778, \"#fb9f3a\"], [0.8888888888888888, \"#fdca26\"], [1.0, \"#f0f921\"]], \"type\": \"histogram2d\"}], \"histogram2dcontour\": [{\"colorbar\": {\"outlinewidth\": 0, \"ticks\": \"\"}, \"colorscale\": [[0.0, \"#0d0887\"], [0.1111111111111111, \"#46039f\"], [0.2222222222222222, \"#7201a8\"], [0.3333333333333333, \"#9c179e\"], [0.4444444444444444, \"#bd3786\"], [0.5555555555555556, \"#d8576b\"], [0.6666666666666666, \"#ed7953\"], [0.7777777777777778, \"#fb9f3a\"], [0.8888888888888888, \"#fdca26\"], [1.0, \"#f0f921\"]], \"type\": \"histogram2dcontour\"}], \"mesh3d\": [{\"colorbar\": {\"outlinewidth\": 0, \"ticks\": \"\"}, \"type\": \"mesh3d\"}], \"parcoords\": [{\"line\": {\"colorbar\": {\"outlinewidth\": 0, \"ticks\": \"\"}}, \"type\": \"parcoords\"}], \"pie\": [{\"automargin\": true, \"type\": \"pie\"}], \"scatter\": [{\"marker\": {\"colorbar\": {\"outlinewidth\": 0, \"ticks\": \"\"}}, \"type\": \"scatter\"}], \"scatter3d\": [{\"line\": {\"colorbar\": {\"outlinewidth\": 0, \"ticks\": \"\"}}, \"marker\": {\"colorbar\": {\"outlinewidth\": 0, \"ticks\": \"\"}}, \"type\": \"scatter3d\"}], \"scattercarpet\": [{\"marker\": {\"colorbar\": {\"outlinewidth\": 0, \"ticks\": \"\"}}, \"type\": \"scattercarpet\"}], \"scattergeo\": [{\"marker\": {\"colorbar\": {\"outlinewidth\": 0, \"ticks\": \"\"}}, \"type\": \"scattergeo\"}], \"scattergl\": [{\"marker\": {\"colorbar\": {\"outlinewidth\": 0, \"ticks\": \"\"}}, \"type\": \"scattergl\"}], \"scattermapbox\": [{\"marker\": {\"colorbar\": {\"outlinewidth\": 0, \"ticks\": \"\"}}, \"type\": \"scattermapbox\"}], \"scatterpolar\": [{\"marker\": {\"colorbar\": {\"outlinewidth\": 0, \"ticks\": \"\"}}, \"type\": \"scatterpolar\"}], \"scatterpolargl\": [{\"marker\": {\"colorbar\": {\"outlinewidth\": 0, \"ticks\": \"\"}}, \"type\": \"scatterpolargl\"}], \"scatterternary\": [{\"marker\": {\"colorbar\": {\"outlinewidth\": 0, \"ticks\": \"\"}}, \"type\": \"scatterternary\"}], \"surface\": [{\"colorbar\": {\"outlinewidth\": 0, \"ticks\": \"\"}, \"colorscale\": [[0.0, \"#0d0887\"], [0.1111111111111111, \"#46039f\"], [0.2222222222222222, \"#7201a8\"], [0.3333333333333333, \"#9c179e\"], [0.4444444444444444, \"#bd3786\"], [0.5555555555555556, \"#d8576b\"], [0.6666666666666666, \"#ed7953\"], [0.7777777777777778, \"#fb9f3a\"], [0.8888888888888888, \"#fdca26\"], [1.0, \"#f0f921\"]], \"type\": \"surface\"}], \"table\": [{\"cells\": {\"fill\": {\"color\": \"#EBF0F8\"}, \"line\": {\"color\": \"white\"}}, \"header\": {\"fill\": {\"color\": \"#C8D4E3\"}, \"line\": {\"color\": \"white\"}}, \"type\": \"table\"}]}, \"layout\": {\"annotationdefaults\": {\"arrowcolor\": \"#2a3f5f\", \"arrowhead\": 0, \"arrowwidth\": 1}, \"autotypenumbers\": \"strict\", \"coloraxis\": {\"colorbar\": {\"outlinewidth\": 0, \"ticks\": \"\"}}, \"colorscale\": {\"diverging\": [[0, \"#8e0152\"], [0.1, \"#c51b7d\"], [0.2, \"#de77ae\"], [0.3, \"#f1b6da\"], [0.4, \"#fde0ef\"], [0.5, \"#f7f7f7\"], [0.6, \"#e6f5d0\"], [0.7, \"#b8e186\"], [0.8, \"#7fbc41\"], [0.9, \"#4d9221\"], [1, \"#276419\"]], \"sequential\": [[0.0, \"#0d0887\"], [0.1111111111111111, \"#46039f\"], [0.2222222222222222, \"#7201a8\"], [0.3333333333333333, \"#9c179e\"], [0.4444444444444444, \"#bd3786\"], [0.5555555555555556, \"#d8576b\"], [0.6666666666666666, \"#ed7953\"], [0.7777777777777778, \"#fb9f3a\"], [0.8888888888888888, \"#fdca26\"], [1.0, \"#f0f921\"]], \"sequentialminus\": [[0.0, \"#0d0887\"], [0.1111111111111111, \"#46039f\"], [0.2222222222222222, \"#7201a8\"], [0.3333333333333333, \"#9c179e\"], [0.4444444444444444, \"#bd3786\"], [0.5555555555555556, \"#d8576b\"], [0.6666666666666666, \"#ed7953\"], [0.7777777777777778, \"#fb9f3a\"], [0.8888888888888888, \"#fdca26\"], [1.0, \"#f0f921\"]]}, \"colorway\": [\"#636efa\", \"#EF553B\", \"#00cc96\", \"#ab63fa\", \"#FFA15A\", \"#19d3f3\", \"#FF6692\", \"#B6E880\", \"#FF97FF\", \"#FECB52\"], \"font\": {\"color\": \"#2a3f5f\"}, \"geo\": {\"bgcolor\": \"white\", \"lakecolor\": \"white\", \"landcolor\": \"#E5ECF6\", \"showlakes\": true, \"showland\": true, \"subunitcolor\": \"white\"}, \"hoverlabel\": {\"align\": \"left\"}, \"hovermode\": \"closest\", \"mapbox\": {\"style\": \"light\"}, \"paper_bgcolor\": \"white\", \"plot_bgcolor\": \"#E5ECF6\", \"polar\": {\"angularaxis\": {\"gridcolor\": \"white\", \"linecolor\": \"white\", \"ticks\": \"\"}, \"bgcolor\": \"#E5ECF6\", \"radialaxis\": {\"gridcolor\": \"white\", \"linecolor\": \"white\", \"ticks\": \"\"}}, \"scene\": {\"xaxis\": {\"backgroundcolor\": \"#E5ECF6\", \"gridcolor\": \"white\", \"gridwidth\": 2, \"linecolor\": \"white\", \"showbackground\": true, \"ticks\": \"\", \"zerolinecolor\": \"white\"}, \"yaxis\": {\"backgroundcolor\": \"#E5ECF6\", \"gridcolor\": \"white\", \"gridwidth\": 2, \"linecolor\": \"white\", \"showbackground\": true, \"ticks\": \"\", \"zerolinecolor\": \"white\"}, \"zaxis\": {\"backgroundcolor\": \"#E5ECF6\", \"gridcolor\": \"white\", \"gridwidth\": 2, \"linecolor\": \"white\", \"showbackground\": true, \"ticks\": \"\", \"zerolinecolor\": \"white\"}}, \"shapedefaults\": {\"line\": {\"color\": \"#2a3f5f\"}}, \"ternary\": {\"aaxis\": {\"gridcolor\": \"white\", \"linecolor\": \"white\", \"ticks\": \"\"}, \"baxis\": {\"gridcolor\": \"white\", \"linecolor\": \"white\", \"ticks\": \"\"}, \"bgcolor\": \"#E5ECF6\", \"caxis\": {\"gridcolor\": \"white\", \"linecolor\": \"white\", \"ticks\": \"\"}}, \"title\": {\"x\": 0.05}, \"xaxis\": {\"automargin\": true, \"gridcolor\": \"white\", \"linecolor\": \"white\", \"ticks\": \"\", \"title\": {\"standoff\": 15}, \"zerolinecolor\": \"white\", \"zerolinewidth\": 2}, \"yaxis\": {\"automargin\": true, \"gridcolor\": \"white\", \"linecolor\": \"white\", \"ticks\": \"\", \"title\": {\"standoff\": 15}, \"zerolinecolor\": \"white\", \"zerolinewidth\": 2}}}, \"title\": {\"text\": \"The class distribution for the most recurrent libraries in PE imports\", \"x\": 0.2}},                        {\"responsive\": true}                    ).then(function(){\n",
       "                            \n",
       "var gd = document.getElementById('f491c1fb-c5d7-4c42-abaa-4cb562a935c7');\n",
       "var x = new MutationObserver(function (mutations, observer) {{\n",
       "        var display = window.getComputedStyle(gd).display;\n",
       "        if (!display || display === 'none') {{\n",
       "            console.log([gd, 'removed!']);\n",
       "            Plotly.purge(gd);\n",
       "            observer.disconnect();\n",
       "        }}\n",
       "}});\n",
       "\n",
       "// Listen for the removal of the full notebook cells\n",
       "var notebookContainer = gd.closest('#notebook-container');\n",
       "if (notebookContainer) {{\n",
       "    x.observe(notebookContainer, {childList: true});\n",
       "}}\n",
       "\n",
       "// Listen for the clearing of the current output cell\n",
       "var outputEl = gd.closest('.output');\n",
       "if (outputEl) {{\n",
       "    x.observe(outputEl, {childList: true});\n",
       "}}\n",
       "\n",
       "                        })                };                });            </script>        </div>"
      ]
     },
     "metadata": {},
     "output_type": "display_data"
    }
   ],
   "source": [
    "#Most recurrent libraries: \n",
    "plot_class_distribution(df = df,\n",
    "                        libraries = most_recurrent_libraries.iloc[:10].index.tolist(),\n",
    "                        title = 'The class distribution for the most recurrent libraries in PE imports')"
   ]
  },
  {
   "cell_type": "code",
   "execution_count": 200,
   "metadata": {},
   "outputs": [
    {
     "data": {
      "application/vnd.plotly.v1+json": {
       "config": {
        "plotlyServerURL": "https://plot.ly"
       },
       "data": [
        {
         "marker": {
          "color": [
           "crimson",
           "crimson",
           "crimson",
           "crimson",
           "crimson",
           "crimson",
           "crimson",
           "crimson",
           "crimson",
           "crimson"
          ]
         },
         "name": "Malware",
         "type": "bar",
         "x": [
          "gdi32.dll",
          "advapi32.dll",
          "shell32.dll",
          "shlwapi.dll",
          "comctl32.dll",
          "msvcrt.dll",
          "version.dll",
          "comdlg32.dll",
          "wininet.dll",
          "ntdll.dll"
         ],
         "y": [
          662,
          1780,
          772,
          254,
          439,
          553,
          324,
          146,
          190,
          408
         ]
        },
        {
         "marker": {
          "color": [
           "lightslategray",
           "lightslategray",
           "lightslategray",
           "lightslategray",
           "lightslategray",
           "lightslategray",
           "lightslategray",
           "lightslategray",
           "lightslategray",
           "lightslategray"
          ]
         },
         "name": "Ransomware",
         "type": "bar",
         "x": [
          "gdi32.dll",
          "advapi32.dll",
          "shell32.dll",
          "shlwapi.dll",
          "comctl32.dll",
          "msvcrt.dll",
          "version.dll",
          "comdlg32.dll",
          "wininet.dll",
          "ntdll.dll"
         ],
         "y": [
          44,
          430,
          153,
          17,
          23,
          7,
          6,
          2,
          3,
          171
         ]
        }
       ],
       "layout": {
        "barmode": "group",
        "template": {
         "data": {
          "bar": [
           {
            "error_x": {
             "color": "#2a3f5f"
            },
            "error_y": {
             "color": "#2a3f5f"
            },
            "marker": {
             "line": {
              "color": "#E5ECF6",
              "width": 0.5
             }
            },
            "type": "bar"
           }
          ],
          "barpolar": [
           {
            "marker": {
             "line": {
              "color": "#E5ECF6",
              "width": 0.5
             }
            },
            "type": "barpolar"
           }
          ],
          "carpet": [
           {
            "aaxis": {
             "endlinecolor": "#2a3f5f",
             "gridcolor": "white",
             "linecolor": "white",
             "minorgridcolor": "white",
             "startlinecolor": "#2a3f5f"
            },
            "baxis": {
             "endlinecolor": "#2a3f5f",
             "gridcolor": "white",
             "linecolor": "white",
             "minorgridcolor": "white",
             "startlinecolor": "#2a3f5f"
            },
            "type": "carpet"
           }
          ],
          "choropleth": [
           {
            "colorbar": {
             "outlinewidth": 0,
             "ticks": ""
            },
            "type": "choropleth"
           }
          ],
          "contour": [
           {
            "colorbar": {
             "outlinewidth": 0,
             "ticks": ""
            },
            "colorscale": [
             [
              0,
              "#0d0887"
             ],
             [
              0.1111111111111111,
              "#46039f"
             ],
             [
              0.2222222222222222,
              "#7201a8"
             ],
             [
              0.3333333333333333,
              "#9c179e"
             ],
             [
              0.4444444444444444,
              "#bd3786"
             ],
             [
              0.5555555555555556,
              "#d8576b"
             ],
             [
              0.6666666666666666,
              "#ed7953"
             ],
             [
              0.7777777777777778,
              "#fb9f3a"
             ],
             [
              0.8888888888888888,
              "#fdca26"
             ],
             [
              1,
              "#f0f921"
             ]
            ],
            "type": "contour"
           }
          ],
          "contourcarpet": [
           {
            "colorbar": {
             "outlinewidth": 0,
             "ticks": ""
            },
            "type": "contourcarpet"
           }
          ],
          "heatmap": [
           {
            "colorbar": {
             "outlinewidth": 0,
             "ticks": ""
            },
            "colorscale": [
             [
              0,
              "#0d0887"
             ],
             [
              0.1111111111111111,
              "#46039f"
             ],
             [
              0.2222222222222222,
              "#7201a8"
             ],
             [
              0.3333333333333333,
              "#9c179e"
             ],
             [
              0.4444444444444444,
              "#bd3786"
             ],
             [
              0.5555555555555556,
              "#d8576b"
             ],
             [
              0.6666666666666666,
              "#ed7953"
             ],
             [
              0.7777777777777778,
              "#fb9f3a"
             ],
             [
              0.8888888888888888,
              "#fdca26"
             ],
             [
              1,
              "#f0f921"
             ]
            ],
            "type": "heatmap"
           }
          ],
          "heatmapgl": [
           {
            "colorbar": {
             "outlinewidth": 0,
             "ticks": ""
            },
            "colorscale": [
             [
              0,
              "#0d0887"
             ],
             [
              0.1111111111111111,
              "#46039f"
             ],
             [
              0.2222222222222222,
              "#7201a8"
             ],
             [
              0.3333333333333333,
              "#9c179e"
             ],
             [
              0.4444444444444444,
              "#bd3786"
             ],
             [
              0.5555555555555556,
              "#d8576b"
             ],
             [
              0.6666666666666666,
              "#ed7953"
             ],
             [
              0.7777777777777778,
              "#fb9f3a"
             ],
             [
              0.8888888888888888,
              "#fdca26"
             ],
             [
              1,
              "#f0f921"
             ]
            ],
            "type": "heatmapgl"
           }
          ],
          "histogram": [
           {
            "marker": {
             "colorbar": {
              "outlinewidth": 0,
              "ticks": ""
             }
            },
            "type": "histogram"
           }
          ],
          "histogram2d": [
           {
            "colorbar": {
             "outlinewidth": 0,
             "ticks": ""
            },
            "colorscale": [
             [
              0,
              "#0d0887"
             ],
             [
              0.1111111111111111,
              "#46039f"
             ],
             [
              0.2222222222222222,
              "#7201a8"
             ],
             [
              0.3333333333333333,
              "#9c179e"
             ],
             [
              0.4444444444444444,
              "#bd3786"
             ],
             [
              0.5555555555555556,
              "#d8576b"
             ],
             [
              0.6666666666666666,
              "#ed7953"
             ],
             [
              0.7777777777777778,
              "#fb9f3a"
             ],
             [
              0.8888888888888888,
              "#fdca26"
             ],
             [
              1,
              "#f0f921"
             ]
            ],
            "type": "histogram2d"
           }
          ],
          "histogram2dcontour": [
           {
            "colorbar": {
             "outlinewidth": 0,
             "ticks": ""
            },
            "colorscale": [
             [
              0,
              "#0d0887"
             ],
             [
              0.1111111111111111,
              "#46039f"
             ],
             [
              0.2222222222222222,
              "#7201a8"
             ],
             [
              0.3333333333333333,
              "#9c179e"
             ],
             [
              0.4444444444444444,
              "#bd3786"
             ],
             [
              0.5555555555555556,
              "#d8576b"
             ],
             [
              0.6666666666666666,
              "#ed7953"
             ],
             [
              0.7777777777777778,
              "#fb9f3a"
             ],
             [
              0.8888888888888888,
              "#fdca26"
             ],
             [
              1,
              "#f0f921"
             ]
            ],
            "type": "histogram2dcontour"
           }
          ],
          "mesh3d": [
           {
            "colorbar": {
             "outlinewidth": 0,
             "ticks": ""
            },
            "type": "mesh3d"
           }
          ],
          "parcoords": [
           {
            "line": {
             "colorbar": {
              "outlinewidth": 0,
              "ticks": ""
             }
            },
            "type": "parcoords"
           }
          ],
          "pie": [
           {
            "automargin": true,
            "type": "pie"
           }
          ],
          "scatter": [
           {
            "marker": {
             "colorbar": {
              "outlinewidth": 0,
              "ticks": ""
             }
            },
            "type": "scatter"
           }
          ],
          "scatter3d": [
           {
            "line": {
             "colorbar": {
              "outlinewidth": 0,
              "ticks": ""
             }
            },
            "marker": {
             "colorbar": {
              "outlinewidth": 0,
              "ticks": ""
             }
            },
            "type": "scatter3d"
           }
          ],
          "scattercarpet": [
           {
            "marker": {
             "colorbar": {
              "outlinewidth": 0,
              "ticks": ""
             }
            },
            "type": "scattercarpet"
           }
          ],
          "scattergeo": [
           {
            "marker": {
             "colorbar": {
              "outlinewidth": 0,
              "ticks": ""
             }
            },
            "type": "scattergeo"
           }
          ],
          "scattergl": [
           {
            "marker": {
             "colorbar": {
              "outlinewidth": 0,
              "ticks": ""
             }
            },
            "type": "scattergl"
           }
          ],
          "scattermapbox": [
           {
            "marker": {
             "colorbar": {
              "outlinewidth": 0,
              "ticks": ""
             }
            },
            "type": "scattermapbox"
           }
          ],
          "scatterpolar": [
           {
            "marker": {
             "colorbar": {
              "outlinewidth": 0,
              "ticks": ""
             }
            },
            "type": "scatterpolar"
           }
          ],
          "scatterpolargl": [
           {
            "marker": {
             "colorbar": {
              "outlinewidth": 0,
              "ticks": ""
             }
            },
            "type": "scatterpolargl"
           }
          ],
          "scatterternary": [
           {
            "marker": {
             "colorbar": {
              "outlinewidth": 0,
              "ticks": ""
             }
            },
            "type": "scatterternary"
           }
          ],
          "surface": [
           {
            "colorbar": {
             "outlinewidth": 0,
             "ticks": ""
            },
            "colorscale": [
             [
              0,
              "#0d0887"
             ],
             [
              0.1111111111111111,
              "#46039f"
             ],
             [
              0.2222222222222222,
              "#7201a8"
             ],
             [
              0.3333333333333333,
              "#9c179e"
             ],
             [
              0.4444444444444444,
              "#bd3786"
             ],
             [
              0.5555555555555556,
              "#d8576b"
             ],
             [
              0.6666666666666666,
              "#ed7953"
             ],
             [
              0.7777777777777778,
              "#fb9f3a"
             ],
             [
              0.8888888888888888,
              "#fdca26"
             ],
             [
              1,
              "#f0f921"
             ]
            ],
            "type": "surface"
           }
          ],
          "table": [
           {
            "cells": {
             "fill": {
              "color": "#EBF0F8"
             },
             "line": {
              "color": "white"
             }
            },
            "header": {
             "fill": {
              "color": "#C8D4E3"
             },
             "line": {
              "color": "white"
             }
            },
            "type": "table"
           }
          ]
         },
         "layout": {
          "annotationdefaults": {
           "arrowcolor": "#2a3f5f",
           "arrowhead": 0,
           "arrowwidth": 1
          },
          "autotypenumbers": "strict",
          "coloraxis": {
           "colorbar": {
            "outlinewidth": 0,
            "ticks": ""
           }
          },
          "colorscale": {
           "diverging": [
            [
             0,
             "#8e0152"
            ],
            [
             0.1,
             "#c51b7d"
            ],
            [
             0.2,
             "#de77ae"
            ],
            [
             0.3,
             "#f1b6da"
            ],
            [
             0.4,
             "#fde0ef"
            ],
            [
             0.5,
             "#f7f7f7"
            ],
            [
             0.6,
             "#e6f5d0"
            ],
            [
             0.7,
             "#b8e186"
            ],
            [
             0.8,
             "#7fbc41"
            ],
            [
             0.9,
             "#4d9221"
            ],
            [
             1,
             "#276419"
            ]
           ],
           "sequential": [
            [
             0,
             "#0d0887"
            ],
            [
             0.1111111111111111,
             "#46039f"
            ],
            [
             0.2222222222222222,
             "#7201a8"
            ],
            [
             0.3333333333333333,
             "#9c179e"
            ],
            [
             0.4444444444444444,
             "#bd3786"
            ],
            [
             0.5555555555555556,
             "#d8576b"
            ],
            [
             0.6666666666666666,
             "#ed7953"
            ],
            [
             0.7777777777777778,
             "#fb9f3a"
            ],
            [
             0.8888888888888888,
             "#fdca26"
            ],
            [
             1,
             "#f0f921"
            ]
           ],
           "sequentialminus": [
            [
             0,
             "#0d0887"
            ],
            [
             0.1111111111111111,
             "#46039f"
            ],
            [
             0.2222222222222222,
             "#7201a8"
            ],
            [
             0.3333333333333333,
             "#9c179e"
            ],
            [
             0.4444444444444444,
             "#bd3786"
            ],
            [
             0.5555555555555556,
             "#d8576b"
            ],
            [
             0.6666666666666666,
             "#ed7953"
            ],
            [
             0.7777777777777778,
             "#fb9f3a"
            ],
            [
             0.8888888888888888,
             "#fdca26"
            ],
            [
             1,
             "#f0f921"
            ]
           ]
          },
          "colorway": [
           "#636efa",
           "#EF553B",
           "#00cc96",
           "#ab63fa",
           "#FFA15A",
           "#19d3f3",
           "#FF6692",
           "#B6E880",
           "#FF97FF",
           "#FECB52"
          ],
          "font": {
           "color": "#2a3f5f"
          },
          "geo": {
           "bgcolor": "white",
           "lakecolor": "white",
           "landcolor": "#E5ECF6",
           "showlakes": true,
           "showland": true,
           "subunitcolor": "white"
          },
          "hoverlabel": {
           "align": "left"
          },
          "hovermode": "closest",
          "mapbox": {
           "style": "light"
          },
          "paper_bgcolor": "white",
          "plot_bgcolor": "#E5ECF6",
          "polar": {
           "angularaxis": {
            "gridcolor": "white",
            "linecolor": "white",
            "ticks": ""
           },
           "bgcolor": "#E5ECF6",
           "radialaxis": {
            "gridcolor": "white",
            "linecolor": "white",
            "ticks": ""
           }
          },
          "scene": {
           "xaxis": {
            "backgroundcolor": "#E5ECF6",
            "gridcolor": "white",
            "gridwidth": 2,
            "linecolor": "white",
            "showbackground": true,
            "ticks": "",
            "zerolinecolor": "white"
           },
           "yaxis": {
            "backgroundcolor": "#E5ECF6",
            "gridcolor": "white",
            "gridwidth": 2,
            "linecolor": "white",
            "showbackground": true,
            "ticks": "",
            "zerolinecolor": "white"
           },
           "zaxis": {
            "backgroundcolor": "#E5ECF6",
            "gridcolor": "white",
            "gridwidth": 2,
            "linecolor": "white",
            "showbackground": true,
            "ticks": "",
            "zerolinecolor": "white"
           }
          },
          "shapedefaults": {
           "line": {
            "color": "#2a3f5f"
           }
          },
          "ternary": {
           "aaxis": {
            "gridcolor": "white",
            "linecolor": "white",
            "ticks": ""
           },
           "baxis": {
            "gridcolor": "white",
            "linecolor": "white",
            "ticks": ""
           },
           "bgcolor": "#E5ECF6",
           "caxis": {
            "gridcolor": "white",
            "linecolor": "white",
            "ticks": ""
           }
          },
          "title": {
           "x": 0.05
          },
          "xaxis": {
           "automargin": true,
           "gridcolor": "white",
           "linecolor": "white",
           "ticks": "",
           "title": {
            "standoff": 15
           },
           "zerolinecolor": "white",
           "zerolinewidth": 2
          },
          "yaxis": {
           "automargin": true,
           "gridcolor": "white",
           "linecolor": "white",
           "ticks": "",
           "title": {
            "standoff": 15
           },
           "zerolinecolor": "white",
           "zerolinewidth": 2
          }
         }
        },
        "title": {
         "text": "The class distribution for the k-selected libraries in PE imports",
         "x": 0.2
        }
       }
      },
      "text/html": [
       "<div>                            <div id=\"7cd67fd8-74b7-43a6-b6fe-6aeeb6551c0a\" class=\"plotly-graph-div\" style=\"height:525px; width:100%;\"></div>            <script type=\"text/javascript\">                require([\"plotly\"], function(Plotly) {                    window.PLOTLYENV=window.PLOTLYENV || {};                                    if (document.getElementById(\"7cd67fd8-74b7-43a6-b6fe-6aeeb6551c0a\")) {                    Plotly.newPlot(                        \"7cd67fd8-74b7-43a6-b6fe-6aeeb6551c0a\",                        [{\"marker\": {\"color\": [\"crimson\", \"crimson\", \"crimson\", \"crimson\", \"crimson\", \"crimson\", \"crimson\", \"crimson\", \"crimson\", \"crimson\"]}, \"name\": \"Malware\", \"type\": \"bar\", \"x\": [\"gdi32.dll\", \"advapi32.dll\", \"shell32.dll\", \"shlwapi.dll\", \"comctl32.dll\", \"msvcrt.dll\", \"version.dll\", \"comdlg32.dll\", \"wininet.dll\", \"ntdll.dll\"], \"y\": [662, 1780, 772, 254, 439, 553, 324, 146, 190, 408]}, {\"marker\": {\"color\": [\"lightslategray\", \"lightslategray\", \"lightslategray\", \"lightslategray\", \"lightslategray\", \"lightslategray\", \"lightslategray\", \"lightslategray\", \"lightslategray\", \"lightslategray\"]}, \"name\": \"Ransomware\", \"type\": \"bar\", \"x\": [\"gdi32.dll\", \"advapi32.dll\", \"shell32.dll\", \"shlwapi.dll\", \"comctl32.dll\", \"msvcrt.dll\", \"version.dll\", \"comdlg32.dll\", \"wininet.dll\", \"ntdll.dll\"], \"y\": [44, 430, 153, 17, 23, 7, 6, 2, 3, 171]}],                        {\"barmode\": \"group\", \"template\": {\"data\": {\"bar\": [{\"error_x\": {\"color\": \"#2a3f5f\"}, \"error_y\": {\"color\": \"#2a3f5f\"}, \"marker\": {\"line\": {\"color\": \"#E5ECF6\", \"width\": 0.5}}, \"type\": \"bar\"}], \"barpolar\": [{\"marker\": {\"line\": {\"color\": \"#E5ECF6\", \"width\": 0.5}}, \"type\": \"barpolar\"}], \"carpet\": [{\"aaxis\": {\"endlinecolor\": \"#2a3f5f\", \"gridcolor\": \"white\", \"linecolor\": \"white\", \"minorgridcolor\": \"white\", \"startlinecolor\": \"#2a3f5f\"}, \"baxis\": {\"endlinecolor\": \"#2a3f5f\", \"gridcolor\": \"white\", \"linecolor\": \"white\", \"minorgridcolor\": \"white\", \"startlinecolor\": \"#2a3f5f\"}, \"type\": \"carpet\"}], \"choropleth\": [{\"colorbar\": {\"outlinewidth\": 0, \"ticks\": \"\"}, \"type\": \"choropleth\"}], \"contour\": [{\"colorbar\": {\"outlinewidth\": 0, \"ticks\": \"\"}, \"colorscale\": [[0.0, \"#0d0887\"], [0.1111111111111111, \"#46039f\"], [0.2222222222222222, \"#7201a8\"], [0.3333333333333333, \"#9c179e\"], [0.4444444444444444, \"#bd3786\"], [0.5555555555555556, \"#d8576b\"], [0.6666666666666666, \"#ed7953\"], [0.7777777777777778, \"#fb9f3a\"], [0.8888888888888888, \"#fdca26\"], [1.0, \"#f0f921\"]], \"type\": \"contour\"}], \"contourcarpet\": [{\"colorbar\": {\"outlinewidth\": 0, \"ticks\": \"\"}, \"type\": \"contourcarpet\"}], \"heatmap\": [{\"colorbar\": {\"outlinewidth\": 0, \"ticks\": \"\"}, \"colorscale\": [[0.0, \"#0d0887\"], [0.1111111111111111, \"#46039f\"], [0.2222222222222222, \"#7201a8\"], [0.3333333333333333, \"#9c179e\"], [0.4444444444444444, \"#bd3786\"], [0.5555555555555556, \"#d8576b\"], [0.6666666666666666, \"#ed7953\"], [0.7777777777777778, \"#fb9f3a\"], [0.8888888888888888, \"#fdca26\"], [1.0, \"#f0f921\"]], \"type\": \"heatmap\"}], \"heatmapgl\": [{\"colorbar\": {\"outlinewidth\": 0, \"ticks\": \"\"}, \"colorscale\": [[0.0, \"#0d0887\"], [0.1111111111111111, \"#46039f\"], [0.2222222222222222, \"#7201a8\"], [0.3333333333333333, \"#9c179e\"], [0.4444444444444444, \"#bd3786\"], [0.5555555555555556, \"#d8576b\"], [0.6666666666666666, \"#ed7953\"], [0.7777777777777778, \"#fb9f3a\"], [0.8888888888888888, \"#fdca26\"], [1.0, \"#f0f921\"]], \"type\": \"heatmapgl\"}], \"histogram\": [{\"marker\": {\"colorbar\": {\"outlinewidth\": 0, \"ticks\": \"\"}}, \"type\": \"histogram\"}], \"histogram2d\": [{\"colorbar\": {\"outlinewidth\": 0, \"ticks\": \"\"}, \"colorscale\": [[0.0, \"#0d0887\"], [0.1111111111111111, \"#46039f\"], [0.2222222222222222, \"#7201a8\"], [0.3333333333333333, \"#9c179e\"], [0.4444444444444444, \"#bd3786\"], [0.5555555555555556, \"#d8576b\"], [0.6666666666666666, \"#ed7953\"], [0.7777777777777778, \"#fb9f3a\"], [0.8888888888888888, \"#fdca26\"], [1.0, \"#f0f921\"]], \"type\": \"histogram2d\"}], \"histogram2dcontour\": [{\"colorbar\": {\"outlinewidth\": 0, \"ticks\": \"\"}, \"colorscale\": [[0.0, \"#0d0887\"], [0.1111111111111111, \"#46039f\"], [0.2222222222222222, \"#7201a8\"], [0.3333333333333333, \"#9c179e\"], [0.4444444444444444, \"#bd3786\"], [0.5555555555555556, \"#d8576b\"], [0.6666666666666666, \"#ed7953\"], [0.7777777777777778, \"#fb9f3a\"], [0.8888888888888888, \"#fdca26\"], [1.0, \"#f0f921\"]], \"type\": \"histogram2dcontour\"}], \"mesh3d\": [{\"colorbar\": {\"outlinewidth\": 0, \"ticks\": \"\"}, \"type\": \"mesh3d\"}], \"parcoords\": [{\"line\": {\"colorbar\": {\"outlinewidth\": 0, \"ticks\": \"\"}}, \"type\": \"parcoords\"}], \"pie\": [{\"automargin\": true, \"type\": \"pie\"}], \"scatter\": [{\"marker\": {\"colorbar\": {\"outlinewidth\": 0, \"ticks\": \"\"}}, \"type\": \"scatter\"}], \"scatter3d\": [{\"line\": {\"colorbar\": {\"outlinewidth\": 0, \"ticks\": \"\"}}, \"marker\": {\"colorbar\": {\"outlinewidth\": 0, \"ticks\": \"\"}}, \"type\": \"scatter3d\"}], \"scattercarpet\": [{\"marker\": {\"colorbar\": {\"outlinewidth\": 0, \"ticks\": \"\"}}, \"type\": \"scattercarpet\"}], \"scattergeo\": [{\"marker\": {\"colorbar\": {\"outlinewidth\": 0, \"ticks\": \"\"}}, \"type\": \"scattergeo\"}], \"scattergl\": [{\"marker\": {\"colorbar\": {\"outlinewidth\": 0, \"ticks\": \"\"}}, \"type\": \"scattergl\"}], \"scattermapbox\": [{\"marker\": {\"colorbar\": {\"outlinewidth\": 0, \"ticks\": \"\"}}, \"type\": \"scattermapbox\"}], \"scatterpolar\": [{\"marker\": {\"colorbar\": {\"outlinewidth\": 0, \"ticks\": \"\"}}, \"type\": \"scatterpolar\"}], \"scatterpolargl\": [{\"marker\": {\"colorbar\": {\"outlinewidth\": 0, \"ticks\": \"\"}}, \"type\": \"scatterpolargl\"}], \"scatterternary\": [{\"marker\": {\"colorbar\": {\"outlinewidth\": 0, \"ticks\": \"\"}}, \"type\": \"scatterternary\"}], \"surface\": [{\"colorbar\": {\"outlinewidth\": 0, \"ticks\": \"\"}, \"colorscale\": [[0.0, \"#0d0887\"], [0.1111111111111111, \"#46039f\"], [0.2222222222222222, \"#7201a8\"], [0.3333333333333333, \"#9c179e\"], [0.4444444444444444, \"#bd3786\"], [0.5555555555555556, \"#d8576b\"], [0.6666666666666666, \"#ed7953\"], [0.7777777777777778, \"#fb9f3a\"], [0.8888888888888888, \"#fdca26\"], [1.0, \"#f0f921\"]], \"type\": \"surface\"}], \"table\": [{\"cells\": {\"fill\": {\"color\": \"#EBF0F8\"}, \"line\": {\"color\": \"white\"}}, \"header\": {\"fill\": {\"color\": \"#C8D4E3\"}, \"line\": {\"color\": \"white\"}}, \"type\": \"table\"}]}, \"layout\": {\"annotationdefaults\": {\"arrowcolor\": \"#2a3f5f\", \"arrowhead\": 0, \"arrowwidth\": 1}, \"autotypenumbers\": \"strict\", \"coloraxis\": {\"colorbar\": {\"outlinewidth\": 0, \"ticks\": \"\"}}, \"colorscale\": {\"diverging\": [[0, \"#8e0152\"], [0.1, \"#c51b7d\"], [0.2, \"#de77ae\"], [0.3, \"#f1b6da\"], [0.4, \"#fde0ef\"], [0.5, \"#f7f7f7\"], [0.6, \"#e6f5d0\"], [0.7, \"#b8e186\"], [0.8, \"#7fbc41\"], [0.9, \"#4d9221\"], [1, \"#276419\"]], \"sequential\": [[0.0, \"#0d0887\"], [0.1111111111111111, \"#46039f\"], [0.2222222222222222, \"#7201a8\"], [0.3333333333333333, \"#9c179e\"], [0.4444444444444444, \"#bd3786\"], [0.5555555555555556, \"#d8576b\"], [0.6666666666666666, \"#ed7953\"], [0.7777777777777778, \"#fb9f3a\"], [0.8888888888888888, \"#fdca26\"], [1.0, \"#f0f921\"]], \"sequentialminus\": [[0.0, \"#0d0887\"], [0.1111111111111111, \"#46039f\"], [0.2222222222222222, \"#7201a8\"], [0.3333333333333333, \"#9c179e\"], [0.4444444444444444, \"#bd3786\"], [0.5555555555555556, \"#d8576b\"], [0.6666666666666666, \"#ed7953\"], [0.7777777777777778, \"#fb9f3a\"], [0.8888888888888888, \"#fdca26\"], [1.0, \"#f0f921\"]]}, \"colorway\": [\"#636efa\", \"#EF553B\", \"#00cc96\", \"#ab63fa\", \"#FFA15A\", \"#19d3f3\", \"#FF6692\", \"#B6E880\", \"#FF97FF\", \"#FECB52\"], \"font\": {\"color\": \"#2a3f5f\"}, \"geo\": {\"bgcolor\": \"white\", \"lakecolor\": \"white\", \"landcolor\": \"#E5ECF6\", \"showlakes\": true, \"showland\": true, \"subunitcolor\": \"white\"}, \"hoverlabel\": {\"align\": \"left\"}, \"hovermode\": \"closest\", \"mapbox\": {\"style\": \"light\"}, \"paper_bgcolor\": \"white\", \"plot_bgcolor\": \"#E5ECF6\", \"polar\": {\"angularaxis\": {\"gridcolor\": \"white\", \"linecolor\": \"white\", \"ticks\": \"\"}, \"bgcolor\": \"#E5ECF6\", \"radialaxis\": {\"gridcolor\": \"white\", \"linecolor\": \"white\", \"ticks\": \"\"}}, \"scene\": {\"xaxis\": {\"backgroundcolor\": \"#E5ECF6\", \"gridcolor\": \"white\", \"gridwidth\": 2, \"linecolor\": \"white\", \"showbackground\": true, \"ticks\": \"\", \"zerolinecolor\": \"white\"}, \"yaxis\": {\"backgroundcolor\": \"#E5ECF6\", \"gridcolor\": \"white\", \"gridwidth\": 2, \"linecolor\": \"white\", \"showbackground\": true, \"ticks\": \"\", \"zerolinecolor\": \"white\"}, \"zaxis\": {\"backgroundcolor\": \"#E5ECF6\", \"gridcolor\": \"white\", \"gridwidth\": 2, \"linecolor\": \"white\", \"showbackground\": true, \"ticks\": \"\", \"zerolinecolor\": \"white\"}}, \"shapedefaults\": {\"line\": {\"color\": \"#2a3f5f\"}}, \"ternary\": {\"aaxis\": {\"gridcolor\": \"white\", \"linecolor\": \"white\", \"ticks\": \"\"}, \"baxis\": {\"gridcolor\": \"white\", \"linecolor\": \"white\", \"ticks\": \"\"}, \"bgcolor\": \"#E5ECF6\", \"caxis\": {\"gridcolor\": \"white\", \"linecolor\": \"white\", \"ticks\": \"\"}}, \"title\": {\"x\": 0.05}, \"xaxis\": {\"automargin\": true, \"gridcolor\": \"white\", \"linecolor\": \"white\", \"ticks\": \"\", \"title\": {\"standoff\": 15}, \"zerolinecolor\": \"white\", \"zerolinewidth\": 2}, \"yaxis\": {\"automargin\": true, \"gridcolor\": \"white\", \"linecolor\": \"white\", \"ticks\": \"\", \"title\": {\"standoff\": 15}, \"zerolinecolor\": \"white\", \"zerolinewidth\": 2}}}, \"title\": {\"text\": \"The class distribution for the k-selected libraries in PE imports\", \"x\": 0.2}},                        {\"responsive\": true}                    ).then(function(){\n",
       "                            \n",
       "var gd = document.getElementById('7cd67fd8-74b7-43a6-b6fe-6aeeb6551c0a');\n",
       "var x = new MutationObserver(function (mutations, observer) {{\n",
       "        var display = window.getComputedStyle(gd).display;\n",
       "        if (!display || display === 'none') {{\n",
       "            console.log([gd, 'removed!']);\n",
       "            Plotly.purge(gd);\n",
       "            observer.disconnect();\n",
       "        }}\n",
       "}});\n",
       "\n",
       "// Listen for the removal of the full notebook cells\n",
       "var notebookContainer = gd.closest('#notebook-container');\n",
       "if (notebookContainer) {{\n",
       "    x.observe(notebookContainer, {childList: true});\n",
       "}}\n",
       "\n",
       "// Listen for the clearing of the current output cell\n",
       "var outputEl = gd.closest('.output');\n",
       "if (outputEl) {{\n",
       "    x.observe(outputEl, {childList: true});\n",
       "}}\n",
       "\n",
       "                        })                };                });            </script>        </div>"
      ]
     },
     "metadata": {},
     "output_type": "display_data"
    }
   ],
   "source": [
    "#Most recurrent libraries: \n",
    "plot_class_distribution(df = df,\n",
    "                        libraries = k_best_selected_libraries,\n",
    "                        title = 'The class distribution for the k-selected libraries in PE imports')"
   ]
  },
  {
   "cell_type": "markdown",
   "metadata": {},
   "source": [
    "**kernel32.dll**"
   ]
  },
  {
   "cell_type": "markdown",
   "metadata": {},
   "source": [
    "We can look at the performance on PE Imports of the most recurrent library kernel32.dll as an example. As for our final model, We'll pick the data from the 8 most recurrent libraries as they will provide enough observation data for training."
   ]
  },
  {
   "cell_type": "code",
   "execution_count": 202,
   "metadata": {},
   "outputs": [
    {
     "name": "stdout",
     "output_type": "stream",
     "text": [
      "Class distribution:\n",
      "malware      : 2077\n",
      "ransomware   : 348\n",
      "\n",
      "Majority class classifier accuracy = 85.65%\n"
     ]
    },
    {
     "data": {
      "text/html": [
       "<div>\n",
       "<style scoped>\n",
       "    .dataframe tbody tr th:only-of-type {\n",
       "        vertical-align: middle;\n",
       "    }\n",
       "\n",
       "    .dataframe tbody tr th {\n",
       "        vertical-align: top;\n",
       "    }\n",
       "\n",
       "    .dataframe thead th {\n",
       "        text-align: right;\n",
       "    }\n",
       "</style>\n",
       "<table border=\"1\" class=\"dataframe\">\n",
       "  <thead>\n",
       "    <tr style=\"text-align: right;\">\n",
       "      <th></th>\n",
       "      <th>GetCommandLineW</th>\n",
       "      <th>GetComputerNameA</th>\n",
       "      <th>GetConsoleAliasW</th>\n",
       "      <th>GetConsoleAliasesLengthA</th>\n",
       "      <th>GetConsoleAliasesLengthW</th>\n",
       "      <th>GetConsoleCP</th>\n",
       "      <th>GetCurrentDirectoryW</th>\n",
       "      <th>GetCurrentProcess</th>\n",
       "      <th>GetCurrentProcessId</th>\n",
       "      <th>GetCurrentThreadId</th>\n",
       "      <th>...</th>\n",
       "      <th>SetThreadStackGuarantee</th>\n",
       "      <th>GetSystemRegistryQuota</th>\n",
       "      <th>SetDllDirectoryA</th>\n",
       "      <th>CreateSocketHandle</th>\n",
       "      <th>InvalidateConsoleDIBits</th>\n",
       "      <th>GetConsoleCommandHistoryA</th>\n",
       "      <th>SetConsoleFont</th>\n",
       "      <th>LZCopy</th>\n",
       "      <th>DeleteFileTransactedW</th>\n",
       "      <th>RtlDeleteFunctionTable</th>\n",
       "    </tr>\n",
       "    <tr>\n",
       "      <th>md5</th>\n",
       "      <th></th>\n",
       "      <th></th>\n",
       "      <th></th>\n",
       "      <th></th>\n",
       "      <th></th>\n",
       "      <th></th>\n",
       "      <th></th>\n",
       "      <th></th>\n",
       "      <th></th>\n",
       "      <th></th>\n",
       "      <th></th>\n",
       "      <th></th>\n",
       "      <th></th>\n",
       "      <th></th>\n",
       "      <th></th>\n",
       "      <th></th>\n",
       "      <th></th>\n",
       "      <th></th>\n",
       "      <th></th>\n",
       "      <th></th>\n",
       "      <th></th>\n",
       "    </tr>\n",
       "  </thead>\n",
       "  <tbody>\n",
       "    <tr>\n",
       "      <th>000a3ea381d7d70be8b6fe1ee51dca22</th>\n",
       "      <td>1</td>\n",
       "      <td>1</td>\n",
       "      <td>1</td>\n",
       "      <td>1</td>\n",
       "      <td>1</td>\n",
       "      <td>1</td>\n",
       "      <td>1</td>\n",
       "      <td>1</td>\n",
       "      <td>1</td>\n",
       "      <td>1</td>\n",
       "      <td>...</td>\n",
       "      <td>0</td>\n",
       "      <td>0</td>\n",
       "      <td>0</td>\n",
       "      <td>0</td>\n",
       "      <td>0</td>\n",
       "      <td>0</td>\n",
       "      <td>0</td>\n",
       "      <td>0</td>\n",
       "      <td>0</td>\n",
       "      <td>0</td>\n",
       "    </tr>\n",
       "    <tr>\n",
       "      <th>001cfa63ad79aaf3e4a2b85a2e7f227f</th>\n",
       "      <td>0</td>\n",
       "      <td>0</td>\n",
       "      <td>0</td>\n",
       "      <td>0</td>\n",
       "      <td>0</td>\n",
       "      <td>0</td>\n",
       "      <td>0</td>\n",
       "      <td>0</td>\n",
       "      <td>0</td>\n",
       "      <td>0</td>\n",
       "      <td>...</td>\n",
       "      <td>0</td>\n",
       "      <td>0</td>\n",
       "      <td>0</td>\n",
       "      <td>0</td>\n",
       "      <td>0</td>\n",
       "      <td>0</td>\n",
       "      <td>0</td>\n",
       "      <td>0</td>\n",
       "      <td>0</td>\n",
       "      <td>0</td>\n",
       "    </tr>\n",
       "    <tr>\n",
       "      <th>003e845bdcc5367220bf13f7170da16f</th>\n",
       "      <td>0</td>\n",
       "      <td>0</td>\n",
       "      <td>0</td>\n",
       "      <td>0</td>\n",
       "      <td>0</td>\n",
       "      <td>0</td>\n",
       "      <td>0</td>\n",
       "      <td>1</td>\n",
       "      <td>1</td>\n",
       "      <td>1</td>\n",
       "      <td>...</td>\n",
       "      <td>0</td>\n",
       "      <td>0</td>\n",
       "      <td>0</td>\n",
       "      <td>0</td>\n",
       "      <td>0</td>\n",
       "      <td>0</td>\n",
       "      <td>0</td>\n",
       "      <td>0</td>\n",
       "      <td>0</td>\n",
       "      <td>0</td>\n",
       "    </tr>\n",
       "    <tr>\n",
       "      <th>00cc33352ae8e526f7533119fb823cb1</th>\n",
       "      <td>0</td>\n",
       "      <td>0</td>\n",
       "      <td>0</td>\n",
       "      <td>0</td>\n",
       "      <td>0</td>\n",
       "      <td>0</td>\n",
       "      <td>0</td>\n",
       "      <td>0</td>\n",
       "      <td>0</td>\n",
       "      <td>0</td>\n",
       "      <td>...</td>\n",
       "      <td>0</td>\n",
       "      <td>0</td>\n",
       "      <td>0</td>\n",
       "      <td>0</td>\n",
       "      <td>0</td>\n",
       "      <td>0</td>\n",
       "      <td>0</td>\n",
       "      <td>0</td>\n",
       "      <td>0</td>\n",
       "      <td>0</td>\n",
       "    </tr>\n",
       "    <tr>\n",
       "      <th>00d9d5a0319cddef48add9257d4721df</th>\n",
       "      <td>0</td>\n",
       "      <td>0</td>\n",
       "      <td>0</td>\n",
       "      <td>0</td>\n",
       "      <td>0</td>\n",
       "      <td>0</td>\n",
       "      <td>0</td>\n",
       "      <td>0</td>\n",
       "      <td>0</td>\n",
       "      <td>0</td>\n",
       "      <td>...</td>\n",
       "      <td>0</td>\n",
       "      <td>0</td>\n",
       "      <td>0</td>\n",
       "      <td>0</td>\n",
       "      <td>0</td>\n",
       "      <td>0</td>\n",
       "      <td>0</td>\n",
       "      <td>0</td>\n",
       "      <td>0</td>\n",
       "      <td>0</td>\n",
       "    </tr>\n",
       "  </tbody>\n",
       "</table>\n",
       "<p>5 rows × 886 columns</p>\n",
       "</div>"
      ],
      "text/plain": [
       "                                  GetCommandLineW  GetComputerNameA  \\\n",
       "md5                                                                   \n",
       "000a3ea381d7d70be8b6fe1ee51dca22                1                 1   \n",
       "001cfa63ad79aaf3e4a2b85a2e7f227f                0                 0   \n",
       "003e845bdcc5367220bf13f7170da16f                0                 0   \n",
       "00cc33352ae8e526f7533119fb823cb1                0                 0   \n",
       "00d9d5a0319cddef48add9257d4721df                0                 0   \n",
       "\n",
       "                                  GetConsoleAliasW  GetConsoleAliasesLengthA  \\\n",
       "md5                                                                            \n",
       "000a3ea381d7d70be8b6fe1ee51dca22                 1                         1   \n",
       "001cfa63ad79aaf3e4a2b85a2e7f227f                 0                         0   \n",
       "003e845bdcc5367220bf13f7170da16f                 0                         0   \n",
       "00cc33352ae8e526f7533119fb823cb1                 0                         0   \n",
       "00d9d5a0319cddef48add9257d4721df                 0                         0   \n",
       "\n",
       "                                  GetConsoleAliasesLengthW  GetConsoleCP  \\\n",
       "md5                                                                        \n",
       "000a3ea381d7d70be8b6fe1ee51dca22                         1             1   \n",
       "001cfa63ad79aaf3e4a2b85a2e7f227f                         0             0   \n",
       "003e845bdcc5367220bf13f7170da16f                         0             0   \n",
       "00cc33352ae8e526f7533119fb823cb1                         0             0   \n",
       "00d9d5a0319cddef48add9257d4721df                         0             0   \n",
       "\n",
       "                                  GetCurrentDirectoryW  GetCurrentProcess  \\\n",
       "md5                                                                         \n",
       "000a3ea381d7d70be8b6fe1ee51dca22                     1                  1   \n",
       "001cfa63ad79aaf3e4a2b85a2e7f227f                     0                  0   \n",
       "003e845bdcc5367220bf13f7170da16f                     0                  1   \n",
       "00cc33352ae8e526f7533119fb823cb1                     0                  0   \n",
       "00d9d5a0319cddef48add9257d4721df                     0                  0   \n",
       "\n",
       "                                  GetCurrentProcessId  GetCurrentThreadId  \\\n",
       "md5                                                                         \n",
       "000a3ea381d7d70be8b6fe1ee51dca22                    1                   1   \n",
       "001cfa63ad79aaf3e4a2b85a2e7f227f                    0                   0   \n",
       "003e845bdcc5367220bf13f7170da16f                    1                   1   \n",
       "00cc33352ae8e526f7533119fb823cb1                    0                   0   \n",
       "00d9d5a0319cddef48add9257d4721df                    0                   0   \n",
       "\n",
       "                                  ...  SetThreadStackGuarantee  \\\n",
       "md5                               ...                            \n",
       "000a3ea381d7d70be8b6fe1ee51dca22  ...                        0   \n",
       "001cfa63ad79aaf3e4a2b85a2e7f227f  ...                        0   \n",
       "003e845bdcc5367220bf13f7170da16f  ...                        0   \n",
       "00cc33352ae8e526f7533119fb823cb1  ...                        0   \n",
       "00d9d5a0319cddef48add9257d4721df  ...                        0   \n",
       "\n",
       "                                  GetSystemRegistryQuota  SetDllDirectoryA  \\\n",
       "md5                                                                          \n",
       "000a3ea381d7d70be8b6fe1ee51dca22                       0                 0   \n",
       "001cfa63ad79aaf3e4a2b85a2e7f227f                       0                 0   \n",
       "003e845bdcc5367220bf13f7170da16f                       0                 0   \n",
       "00cc33352ae8e526f7533119fb823cb1                       0                 0   \n",
       "00d9d5a0319cddef48add9257d4721df                       0                 0   \n",
       "\n",
       "                                  CreateSocketHandle  InvalidateConsoleDIBits  \\\n",
       "md5                                                                             \n",
       "000a3ea381d7d70be8b6fe1ee51dca22                   0                        0   \n",
       "001cfa63ad79aaf3e4a2b85a2e7f227f                   0                        0   \n",
       "003e845bdcc5367220bf13f7170da16f                   0                        0   \n",
       "00cc33352ae8e526f7533119fb823cb1                   0                        0   \n",
       "00d9d5a0319cddef48add9257d4721df                   0                        0   \n",
       "\n",
       "                                  GetConsoleCommandHistoryA  SetConsoleFont  \\\n",
       "md5                                                                           \n",
       "000a3ea381d7d70be8b6fe1ee51dca22                          0               0   \n",
       "001cfa63ad79aaf3e4a2b85a2e7f227f                          0               0   \n",
       "003e845bdcc5367220bf13f7170da16f                          0               0   \n",
       "00cc33352ae8e526f7533119fb823cb1                          0               0   \n",
       "00d9d5a0319cddef48add9257d4721df                          0               0   \n",
       "\n",
       "                                  LZCopy  DeleteFileTransactedW  \\\n",
       "md5                                                               \n",
       "000a3ea381d7d70be8b6fe1ee51dca22       0                      0   \n",
       "001cfa63ad79aaf3e4a2b85a2e7f227f       0                      0   \n",
       "003e845bdcc5367220bf13f7170da16f       0                      0   \n",
       "00cc33352ae8e526f7533119fb823cb1       0                      0   \n",
       "00d9d5a0319cddef48add9257d4721df       0                      0   \n",
       "\n",
       "                                  RtlDeleteFunctionTable  \n",
       "md5                                                       \n",
       "000a3ea381d7d70be8b6fe1ee51dca22                       0  \n",
       "001cfa63ad79aaf3e4a2b85a2e7f227f                       0  \n",
       "003e845bdcc5367220bf13f7170da16f                       0  \n",
       "00cc33352ae8e526f7533119fb823cb1                       0  \n",
       "00d9d5a0319cddef48add9257d4721df                       0  \n",
       "\n",
       "[5 rows x 886 columns]"
      ]
     },
     "execution_count": 202,
     "metadata": {},
     "output_type": "execute_result"
    }
   ],
   "source": [
    "df = datasets['pe_imports_kernel32']\n",
    "class_distribution(df, label='sublabel')\n",
    "df.head()"
   ]
  },
  {
   "cell_type": "code",
   "execution_count": 203,
   "metadata": {},
   "outputs": [
    {
     "name": "stdout",
     "output_type": "stream",
     "text": [
      "The new class distribution after SAMPLING strategy : {'malware': 1292, 'ransomware': 1034}\n",
      "Cross-validation 8 models required a duration of 85.86 seconds\n"
     ]
    }
   ],
   "source": [
    "start = time.time()\n",
    "\n",
    "#create a smote pipeline\n",
    "X, y = get_X_y(df, label='sublabel')\n",
    "\n",
    "smote_params = {\n",
    "    'category' : 'adaptive',\n",
    "    'over_strategy' : 0.5,\n",
    "    'under_strategy' : 0.8,\n",
    "    'k_neighbors' : 5,\n",
    "}\n",
    "\n",
    "smoter = smote(X, y, **smote_params, fit=False)\n",
    "\n",
    "print_new_distribution(X, y, smote_params)\n",
    "\n",
    "\n",
    "#compute cross-validation scores\n",
    "names, results = get_evaluation_results(df = df, \n",
    "                                        label='sublabel', \n",
    "                                        smoter=smoter, \n",
    "                                        scaler=MinMaxScaler(),\n",
    "                                        scoring ='accuracy')\n",
    "\n",
    "print(f'Cross-validation {len(names)} models required a duration of {time.time()-start:.2f} seconds')"
   ]
  },
  {
   "cell_type": "code",
   "execution_count": 204,
   "metadata": {
    "scrolled": true
   },
   "outputs": [
    {
     "name": "stdout",
     "output_type": "stream",
     "text": [
      "LogisticRegression             \t: 91.424% ( (+/-) 1.879% )\n",
      "KNN                            \t: 84.703% ( (+/-) 2.667% )\n",
      "Decision tree                  \t: 93.085% ( (+/-) 1.936% )\n",
      "Random Forest                  \t: 94.323% ( (+/-) 1.636% )\n",
      "SVM                            \t: 89.801% ( (+/-) 1.692% )\n",
      "RegularNets                    \t: 93.237% ( (+/-) 1.548% )\n",
      "LDA                            \t: 83.011% ( (+/-) 2.358% )\n",
      "Gaussian Naive Bayes           \t: 56.275% ( (+/-) 4.084% )\n"
     ]
    }
   ],
   "source": [
    "print_evaluation_results(results, names)"
   ]
  },
  {
   "cell_type": "code",
   "execution_count": 205,
   "metadata": {},
   "outputs": [
    {
     "data": {
      "text/html": [
       "\n",
       "        <iframe\n",
       "            width=\"900\"\n",
       "            height=\"600\"\n",
       "            src=\"figures/ransomware/evaluation_pe_imports.html\"\n",
       "            frameborder=\"0\"\n",
       "            allowfullscreen\n",
       "        ></iframe>\n",
       "        "
      ],
      "text/plain": [
       "<IPython.lib.display.IFrame at 0x25e98995250>"
      ]
     },
     "execution_count": 205,
     "metadata": {},
     "output_type": "execute_result"
    }
   ],
   "source": [
    "fig = plot_evaluation_boxplots(results, names, title = 'Models Performance On PE Imports of kernel32.dll library Data', y_axis = 'Accuracy')\n",
    "\n",
    "figure_path = 'figures/ransomware/evaluation_pe_imports.html'\n",
    "\n",
    "save_figures_to_html(figure_path, [fig])\n",
    "\n",
    "IFrame(figure_path, width=900, height=600)"
   ]
  }
 ],
 "metadata": {
  "kernelspec": {
   "display_name": "Python 3",
   "language": "python",
   "name": "python3"
  },
  "language_info": {
   "codemirror_mode": {
    "name": "ipython",
    "version": 3
   },
   "file_extension": ".py",
   "mimetype": "text/x-python",
   "name": "python",
   "nbconvert_exporter": "python",
   "pygments_lexer": "ipython3",
   "version": "3.8.8"
  }
 },
 "nbformat": 4,
 "nbformat_minor": 4
}
